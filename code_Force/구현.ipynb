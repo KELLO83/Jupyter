{
 "cells": [
  {
   "cell_type": "markdown",
   "id": "9275f6ff",
   "metadata": {},
   "source": [
    "### 구현\n",
    "___"
   ]
  },
  {
   "cell_type": "code",
   "execution_count": null,
   "id": "a7f0af85",
   "metadata": {},
   "outputs": [],
   "source": [
    "import numpy as np\n",
    "import copy\n",
    "def solutions():\n",
    "    N=int(input())\n",
    "    plans=input().split()\n",
    "    # N=5\n",
    "    # plans=['L','R','U','D']\n",
    "    move_types=['L','R','U','D']\n",
    "    start=[1,1] #x 좌표 y좌표\n",
    "    move_locations=np.array(start)\n",
    "    print(move_locations)\n",
    "    move_types_dic={'L':np.array((-1,0)),\"R\":np.array((1,0)),\"U\":np.array((0,-1)),\"D\":np.array((0,1))}\n",
    "    for i in plans:\n",
    "        pick=move_types_dic[i]\n",
    "        temp=move_locations.copy()\n",
    "        move_locations=move_locations+pick\n",
    "        print(move_locations)\n",
    "        if move_locations[0]<1 or move_locations[0]>N or move_locations[1]>N or move_locations[1]<1:\n",
    "            print(\"out of range\")\n",
    "            move_locations=temp.copy()\n",
    "        print(move_locations)\n",
    "    return move_locations\n",
    "if __name__ == '__main__':\n",
    "    s1=solutions()\n",
    "    print(\" x_location {} \\n y_location {}\".format(s1[1],s1[0]))"
   ]
  }
 ],
 "metadata": {
  "kernelspec": {
   "display_name": "python_3.5",
   "language": "python",
   "name": "python_3.5"
  },
  "language_info": {
   "codemirror_mode": {
    "name": "ipython",
    "version": 3
   },
   "file_extension": ".py",
   "mimetype": "text/x-python",
   "name": "python",
   "nbconvert_exporter": "python",
   "pygments_lexer": "ipython3",
   "version": "3.5.6"
  }
 },
 "nbformat": 4,
 "nbformat_minor": 5
}
