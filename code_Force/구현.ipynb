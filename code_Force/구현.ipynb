{
 "cells": [
  {
   "cell_type": "markdown",
   "id": "cc3e5e8b",
   "metadata": {},
   "source": [
    "### 구현\n",
    "___"
   ]
  },
  {
   "cell_type": "code",
   "execution_count": 2,
   "id": "7a100254",
   "metadata": {},
   "outputs": [
    {
     "name": "stdout",
     "output_type": "stream",
     "text": [
      "5\n",
      "L R U D\n",
      "[1 1]\n",
      "[0 1]\n",
      "out of range\n",
      "[1 1]\n",
      "[2 1]\n",
      "[2 1]\n",
      "[2 0]\n",
      "out of range\n",
      "[2 1]\n",
      "[2 2]\n",
      "[2 2]\n",
      " x_location 2 \n",
      " y_location 2\n"
     ]
    }
   ],
   "source": [
    "import numpy as np\n",
    "import copy\n",
    "def solutions():\n",
    "    N=int(input())\n",
    "    plans=input().split()\n",
    "    # N=5\n",
    "    # plans=['L','R','U','D']\n",
    "    move_types=['L','R','U','D']\n",
    "    start=[1,1] #x 좌표 y좌표\n",
    "    move_locations=np.array(start)\n",
    "    print(move_locations)\n",
    "    move_types_dic={'L':np.array((-1,0)),\"R\":np.array((1,0)),\"U\":np.array((0,-1)),\"D\":np.array((0,1))}\n",
    "    for i in plans:\n",
    "        pick=move_types_dic[i]\n",
    "        temp=move_locations.copy()\n",
    "        move_locations=move_locations+pick\n",
    "        print(move_locations)\n",
    "        if move_locations[0]<1 or move_locations[0]>N or move_locations[1]>N or move_locations[1]<1:\n",
    "            print(\"out of range\")\n",
    "            move_locations=temp.copy()\n",
    "        print(move_locations)\n",
    "    return move_locations\n",
    "if __name__ == '__main__':\n",
    "    s1=solutions()\n",
    "    print(\" x_location {} \\n y_location {}\".format(s1[1],s1[0]))"
   ]
  },
  {
   "cell_type": "code",
   "execution_count": 9,
   "id": "a1980afb",
   "metadata": {},
   "outputs": [
    {
     "name": "stdout",
     "output_type": "stream",
     "text": [
      "out of range\n",
      "1 1\n",
      "2 1\n",
      "2 0\n",
      "2 1\n"
     ]
    }
   ],
   "source": [
    "# N=int(input())\n",
    "N=5\n",
    "x,y=1,1\n",
    "# move_plans=input().split()\n",
    "move_plans=['L','R','U','D']\n",
    "move_types=['L','R','U','D']\n",
    "dx=[-1,1,0,0]\n",
    "dy=[0,0,-1,1]\n",
    "\n",
    "for plans in move_plans:\n",
    "    for i in range(len(move_types)):\n",
    "        if plans==move_types[i]:\n",
    "            nx=x+dx[i]\n",
    "            ny=y+dy[i]\n",
    "    if not nx<1 or nx>N or ny<1 or ny>N:\n",
    "        x,y=nx,ny\n",
    "        print(nx,ny)\n",
    "    else:\n",
    "        print(\"out of range current \")\n",
    "            "
   ]
  },
  {
   "cell_type": "code",
   "execution_count": 17,
   "id": "9ee8b119",
   "metadata": {},
   "outputs": [
    {
     "name": "stdout",
     "output_type": "stream",
     "text": [
      "5\n",
      "7020\n"
     ]
    }
   ],
   "source": [
    "hour=int(input())\n",
    "count=0\n",
    "check_list=[3,13,23,33,43,53,63]\n",
    "for hours in range(hour+1):\n",
    "    for minuts in range(60):\n",
    "        for sec in range(60):\n",
    "            if sec in check_list or minuts in check_list or hours in check_list:\n",
    "                count+=1\n",
    "print(count)\n",
    "    "
   ]
  },
  {
   "cell_type": "code",
   "execution_count": null,
   "id": "46a2d516",
   "metadata": {},
   "outputs": [],
   "source": [
    "hour=int(input())\n",
    "count=0\n",
    "for hours in range(hour+1)\n",
    "    for minuts in range(60):\n",
    "        for sec in range(60):\n",
    "            str(hours)+str(minuts)+str(sec)"
   ]
  }
 ],
 "metadata": {
  "kernelspec": {
   "display_name": "python_3.5",
   "language": "python",
   "name": "python_3.5"
  },
  "language_info": {
   "codemirror_mode": {
    "name": "ipython",
    "version": 3
   },
   "file_extension": ".py",
   "mimetype": "text/x-python",
   "name": "python",
   "nbconvert_exporter": "python",
   "pygments_lexer": "ipython3",
   "version": "3.5.6"
  }
 },
 "nbformat": 4,
 "nbformat_minor": 5
}
