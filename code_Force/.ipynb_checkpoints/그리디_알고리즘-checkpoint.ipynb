{
 "cells": [
  {
   "cell_type": "markdown",
   "id": "278bb8c6",
   "metadata": {},
   "source": [
    "### 시간/공간 복잡도\n",
    "___\n",
    "\n",
    "+ 시간 복잡도:알고리즘을 위해 필요한 연산의 횟수\n",
    "+ 공간 복잡도:알고리즘을 위해 필요한 메모리의 양"
   ]
  },
  {
   "cell_type": "markdown",
   "id": "c1f5aef9",
   "metadata": {},
   "source": [
    "# 그리디 알고리즘\n",
    "___\n",
    "\n",
    "+ 현재 상황에서 가장 좋은것만 고르는방법\n",
    "+ 매수간 당장 좋아보이는것만 선택하며 현재선택이 나중에 미칠영향에대해 고려하지않는다"
   ]
  },
  {
   "cell_type": "markdown",
   "id": "85c6347b",
   "metadata": {},
   "source": [
    "### 거스름돈\n",
    "___\n",
    "\n",
    "+ 카운터에는 거스름돈으로 사용할 500원 100원 50 원 10원 짜리동전이 무한개 존재한다고 가정한다\n",
    "+ 손님에게 거슬러줘야 할돈이 N원일떄 거슬러줘야할 동전의최소 개수를 구하여라\n",
    "+ 단 거슬러 줘야 할돈 N은 항상 10의 배수이다"
   ]
  },
  {
   "cell_type": "code",
   "execution_count": null,
   "id": "0be5c893",
   "metadata": {},
   "outputs": [],
   "source": [
    "def solution(seed_money):\n",
    "    min_coin=0\n",
    "    list_money=[500,100,50,10]\n",
    "    for i in list_money:\n",
    "        remain=seed_money//i\n",
    "        print(\"{}원으로 {}번거슬러 주었습니다  거슬러준돈 {}\".format(i,remain,i*remain))\n",
    "        min_coin+=remain\n",
    "        seed_money-=remain*i\n",
    "    print(\"최소 동전은 {}입니다 \".format(min_coin))\n",
    "\n",
    "if __name__==\"__main__\":\n",
    "    solution(13820)"
   ]
  },
  {
   "cell_type": "markdown",
   "id": "2122a83b",
   "metadata": {},
   "source": [
    "### 큰 수의 법칙\n",
    "___\n",
    "\n",
    "+ 주어진 수들을 m번 더하여 가장 큰수를 만드는 법칙\n",
    "+ 특정 인덱스 번호에 해당하는 수가 연속적으로k번 이상 초과하여 합산불가"
   ]
  },
  {
   "cell_type": "markdown",
   "id": "3d77665d",
   "metadata": {},
   "source": [
    "### 입출력 부록 \n",
    "___\n",
    "+ 여러개의 데이터를 입력받을떄는 데이터가 공백으로 구분되는경우가많다\n",
    "+ 문자열을 띄어쓰기로 구분하여 각각 정수 자료형의 데이터로 저장하는 코드사용이 많다\n",
    "+ list(map(int,input.split())사용시 공백을 이용하여 int형데이타 입력받는다 그리고 다시 list로 변환\n",
    "+ 빠른 입출력을 위한 방법\n",
    "+ import sys\n",
    "+ sys.stdin.readline().rstirp() 사용 input과 동일하게 작동하며 더 빠르다"
   ]
  },
  {
   "cell_type": "code",
   "execution_count": null,
   "id": "5e832b1c",
   "metadata": {},
   "outputs": [],
   "source": [
    "import random\n",
    "\n",
    "def solution():\n",
    "    n,m,k=map(int,input().split()) # 배열의 크기 N 숫자가 더햐자는 홧수M  연속해서 더해질수 있는회수 K\n",
    "    data=[random.randint(1,10) for i in range(random.randint(2,10))]\n",
    "    print(data)\n",
    "    data.sort()\n",
    "    print(\"data= {}\".format(data))\n",
    "    Max_number=data.pop()\n",
    "    Second_Max_number=data.pop()\n",
    "    while True:\n",
    "        if Max_number==Second_Max_number:\n",
    "            Second_Max_number=data.pop()\n",
    "        else:\n",
    "            break\n",
    "    print(\"Max_number {} Second_Max_number {}\".format(Max_number,Second_Max_number))\n",
    "    \n",
    "    \n",
    "    result=0\n",
    "    OVERLAP=k \n",
    "    count=0    \n",
    "    while True:\n",
    "        for i in range(OVERLAP):\n",
    "            result+=Max_number\n",
    "            print(result)\n",
    "            count+=1\n",
    "            if count==m:\n",
    "                break\n",
    "        \n",
    "        if count==m:\n",
    "            break    \n",
    "        result+=Second_Max_number\n",
    "        print(result)\n",
    "        count+=1    \n",
    "        if count==m:\n",
    "            break\n",
    "    return result\n",
    "    \n",
    "            \n",
    "        \n",
    "    \n",
    "\n",
    "\n",
    "if __name__==\"__main__\":\n",
    "    s=solution()\n",
    "    print(\"최대 크기 {}\".format(s))"
   ]
  },
  {
   "cell_type": "markdown",
   "id": "59e10358",
   "metadata": {},
   "source": [
    "### 숫자 카드 게임\n",
    "___\n",
    "+ 숫자가 쓰인 카드들이 N*M형태로 놓여있다 N은 행의 개수를 의미하며 M은 열의 개수를 의미한다\n",
    "+ 먼저뽑고자하는 카드가 포하되어있는 행을 선택한다\n",
    "+ 그다음 선택된 행에 포함된 카드들 중 가장 숫자가 낮은 카드를 뽑아야한다\n",
    "+ 따라서 처음 카드를 골라날 행을 선택할때 이후에 해당행에서 가장숫자가 낮은카드를 뽑을것을 고려하여 최종적으로 가장높은숫자를 뽑아야한다"
   ]
  },
  {
   "cell_type": "code",
   "execution_count": 7,
   "id": "38d5cc23",
   "metadata": {},
   "outputs": [
    {
     "name": "stdout",
     "output_type": "stream",
     "text": [
      "[[ 4 15 49 98 65]\n",
      " [49 14 79 67 20]\n",
      " [47 14 93  2 14]\n",
      " [91 65 41 58 91]\n",
      " [32 97 93 82 10]\n",
      " [43 93  9 88 33]\n",
      " [70 70 84 17  9]\n",
      " [40 86 43 89 13]\n",
      " [83 14 58  6 51]\n",
      " [51 12 19 75 44]]\n",
      "arr 10\n",
      "[4, 14, 2, 41, 10, 9, 9, 13, 6, 12]\n",
      "2\n"
     ]
    }
   ],
   "source": [
    "import numpy as np\n",
    "import random\n",
    "def solutions():\n",
    "    arr=np.random.randint(1,100,(10,5))\n",
    "    print(arr)\n",
    "    small_list=list()\n",
    "    print(\"arr {}\".format(len(arr)))\n",
    "    for i in range(len(arr)):\n",
    "        \n",
    "        s1=min(arr[i])\n",
    "        small_list.append(s1)\n",
    "    print(small_list)\n",
    "    \n",
    "    r1=min(small_list)\n",
    "    print(r1)\n",
    "if __name__ == '__main__':\n",
    "    solutions()"
   ]
  },
  {
   "cell_type": "markdown",
   "id": "4d7d081e",
   "metadata": {},
   "source": [
    "### 1이될때까지\n",
    "\n",
    "+ 어떠한수 N이 1이될떄까지 다음의 두과정중 하나를 선택하여 할려고한다\n",
    "+ N에서 1을뺸다\n",
    "+ N을 K로나눈다\n"
   ]
  },
  {
   "cell_type": "code",
   "execution_count": 8,
   "id": "34a4d126",
   "metadata": {},
   "outputs": [
    {
     "name": "stdout",
     "output_type": "stream",
     "text": [
      "100 7\n",
      "100 7\n",
      "99\n",
      "98\n",
      "14\n",
      "2\n",
      "1\n",
      "5\n"
     ]
    }
   ],
   "source": [
    "def solutions():\n",
    "    N,K=map(int, input().split())\n",
    "    print(N,K)\n",
    "    OPP_count=0\n",
    "    while True:\n",
    "        if N%K==0:\n",
    "            OPP_count+=1\n",
    "            N=int(N/K)\n",
    "            print(N)\n",
    "        else:\n",
    "            OPP_count+=1\n",
    "            N=N-1\n",
    "            print(N)\n",
    "        if N==1:\n",
    "            break\n",
    "    return OPP_count\n",
    "    \n",
    "\n",
    "        \n",
    "    \n",
    "if __name__ == '__main__':\n",
    "    R1=solutions()\n",
    "    print(R1)"
   ]
  }
 ],
 "metadata": {
  "kernelspec": {
   "display_name": "python_3.5",
   "language": "python",
   "name": "python_3.5"
  },
  "language_info": {
   "codemirror_mode": {
    "name": "ipython",
    "version": 3
   },
   "file_extension": ".py",
   "mimetype": "text/x-python",
   "name": "python",
   "nbconvert_exporter": "python",
   "pygments_lexer": "ipython3",
   "version": "3.5.6"
  }
 },
 "nbformat": 4,
 "nbformat_minor": 5
}
