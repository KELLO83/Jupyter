{
 "cells": [
  {
   "cell_type": "markdown",
   "id": "60302c39",
   "metadata": {},
   "source": [
    "row data(가공되지 않은데이터)  \n",
    "처리-> 가공 정보"
   ]
  },
  {
   "cell_type": "markdown",
   "id": "987a768e",
   "metadata": {},
   "source": [
    "### 자료구조란..?\n",
    "____\n",
    "\n",
    "\n",
    "1. 자료의 집합 (set of data)=data structure  \n",
    "2. 물리적인 배열안에 원소가(elem)이 들어가있다    \n",
    "    * 원소들사이의 관계 규칙에의해서 나열..  \n",
    "    * 규칙-> 효율적인 처리를 위해서 \n",
    "3. 자료를 효율적으로 (체계적,조직적) 표현\n"
   ]
  },
  {
   "cell_type": "markdown",
   "id": "9038fc1b",
   "metadata": {},
   "source": [
    "### 자료구조의 선택..\n",
    "___\n",
    "\n",
    "1. 자료의 처리시간 고려\n",
    "    *  검색 저장 하는시간\n",
    "    * 잛으면 좋다\n",
    "2. 자료의 크기\n",
    "    * 자료의 크기가 크다면 거기에 알맞는 자료구조를 택\n",
    "3. 자료의 활용빈도 \n",
    "4. 사용이 얼마나 용이한지.\n",
    "5. 얼마나 빠른주기로 변하는지  \n",
    "\n",
    "**자료의 처리시간 자료의 크기 활용빈도를 주로 고려한다**\n",
    "\n",
    "메모리 구조  \n",
    "main H.D   \n",
    "접근 속도 main>>Hard\n",
    "자료가 크기가 크면 HARD 작으면 main memory  \n",
    "\n",
    "CPU Reg-> Memory 에서 하나씩가져와 Fetch해서 실행한다   \n",
    "\n",
    "Heap 영역 배열구조>>Linked list\n",
    "\n",
    "**_처리시간 크기 빈도_** ->제일 고려사항"
   ]
  },
  {
   "cell_type": "markdown",
   "id": "5fa10df4",
   "metadata": {},
   "source": [
    "### 자료의 특성\n",
    "___\n",
    "\n",
    "1. Efficencty(효율성)  \n",
    "\n",
    "    * 자료를 효울적배치 -> 어떤 알고리즘 실행\n",
    "        * 알고리즘-> 시작과 끝 존재 중간에 절차가 존재\n",
    "        * 알고리즘은 효율적으로 처리해야함 효율성이있어야됨\n",
    "    * 그러므로 자료구조가 좋아야 알고리즘도 수월하게 수행된다<br>\n",
    "2. Abstraction(추상화)\n",
    "    * 자료에서 핵심만 추출하는것을 추상화라고 지칭\n",
    "        * stack -> LIFO 구조\n",
    "        * Queue -> FIFO 구조\n",
    "        * PUSH  POP 속성을 가짐\n",
    "        \n",
    "3. Recycle (재사용성)  \n",
    "    *  범용성이 있어야한다 \n",
    "\n",
    "**3가지 특성이 있어야 한다**\n",
    "\n",
    "\n",
    "* 알고리즘:시작과 끝이있고 목적을따라 절차가 효율적으로 실행되어야한다\n",
    "* 자료구조: 알고리즘에서 원할하게 내용실행 자료를 효율적으로 배치해야한다\n",
    "* 알고리즘의 효율성: 유한시간 내에 시작 끝 시간/공간 효율적 사용\n",
    "\n",
    "\n"
   ]
  },
  {
   "cell_type": "markdown",
   "id": "73afff41",
   "metadata": {},
   "source": [
    "### 자료구조의 분류..\n",
    "<hr>\n",
    "\n",
    "1. 단순구조\n",
    "    * 프로그램내 내장되어있는것들\n",
    "    EX) 정수 실수 문자 문자열형 자료\n",
    "2. 선형구조\n",
    "    * 순차리스트\n",
    "    * 연결리스트\n",
    "        * 단순 연결리스트\n",
    "        * 이중 연결스트 ->양방향 link\n",
    "        * 서클 리스트  -> 꼬리에서 시작으로 link\n",
    "    * Stack\n",
    "    * Queue\n",
    "    * deck->collection  \n",
    "3. 비선형구조\n",
    "    * 트리\n",
    "        * 일반트리\n",
    "        * 이진트리\n",
    "    * 그래프\n",
    "        * 무방향 그래프 -> 와리가리 가능\n",
    "        * 방향 그래프 ->지정 화살표대로 이동가능\n",
    "        \n",
    "4. 파일구조\n",
    "    * 순차 파일\n",
    "    * 색인 파일(index file)\n",
    "    * 직접 파일 "
   ]
  },
  {
   "cell_type": "markdown",
   "id": "6100715d",
   "metadata": {},
   "source": [
    "# 실습 2-1\n",
    "\n",
    "학생 5명의 시험점수를 입력받아 합계와 평균을 구하시오\n"
   ]
  },
  {
   "cell_type": "code",
   "execution_count": null,
   "id": "d676dd20",
   "metadata": {},
   "outputs": [],
   "source": [
    "#### print('학생 그룹 점수의 합계와 평균을 구합니다.')\n",
    "\n",
    "score1 = int(input('1번 학생의 점수'))\n",
    "score2 = int(input('2번 학생의 점수'))\n",
    "score3 = int(input('3번 학생의 점수'))\n",
    "score4 = int(input('4번 학생의 점수'))\n",
    "score5 = int(input('5번 학생의 점수'))\n",
    "\n",
    "total = 0\n",
    "total += score1\n",
    "total += score2\n",
    "total += score3\n",
    "total += score4\n",
    "total += score5\n",
    "\n",
    "print(f'합계는 {total}점입니다.')\n",
    "print(f'평균은 {total / 5}점입니다.')"
   ]
  },
  {
   "cell_type": "markdown",
   "id": "2090083f",
   "metadata": {},
   "source": [
    "1. 학생수가 많아지는경우 \n",
    "2. 특정 학생의 시험점수를 확인하거나 변경하는경우\n",
    "3. 최저점과 최고점을 구하는 정렬이 필요한경우\n",
    "\n",
    "-> 배열을 통해 해결하자\n",
    "\n",
    "* 원소\n",
    "    * 배열에 저장된 각 객체\n",
    "    * 각 원소는 index 부여\n",
    "    * 서로 다른 자료형 저장가능 ->with python\n",
    "    * 배열 원소자체를 배열에 저장가능 -> 배열안에 배열\n",
    "    "
   ]
  },
  {
   "cell_type": "markdown",
   "id": "5cb2fbbe",
   "metadata": {},
   "source": [
    "* list  \n",
    "    * 원소를 변경할수 있는 mutable list형 객체  \n",
    "    * list=([,]) => list\n",
    "    * list=((,)) => tuple ->값 변화 불가\n",
    "    * list=({,}) => set -> 중복 제외\n",
    "    * list(start,end,step) 시작점 끝점 step  [시작점,끝점) 끝점은 열린구간\n",
    "    * 리스트의 원소개수는 리스트를 만들기전에 반드시 결정\n",
    "    \n",
    "* tuple\n",
    "    * 원소에 순서를 매겨 결합한것 원소를 변경 불가 immutalbe 객체\n",
    "    * tuple 주의사항 원소가 1개면 원소뒤에 반드시 쉼표를 입력해야한다\n",
    "    ``` python\n",
    "    value=1 =>int\n",
    "    value_tuple=(1) =>tuple\n",
    "    ```  \n",
    "    ``` python\n",
    "    data=tuple('ABC')\n",
    "    output=> ('A', 'B', 'C')\n",
    "    ```\n",
    "    \n"
   ]
  },
  {
   "cell_type": "markdown",
   "id": "fc086d11",
   "metadata": {},
   "source": [
    "리스트와 튜플 풀어내기\n",
    "\n",
    "좌변에는 여러개의 변수를 놓고 우변에는 리스트나 튜플을 놓으면  \n",
    "우변의 원소를 좌변의 변수에 한번에 대입가능\n",
    "\n",
    "\n",
    "``` python \n",
    "x=[1,2,3] x=리스트\n",
    "a,b,c=x \n",
    "=> a,b,c=[1,2,3]\n",
    "print(a,b,c)\n",
    "output=> (1,2,3) 튜플로 출력\n",
    "```\n",
    "unpacking"
   ]
  },
  {
   "cell_type": "code",
   "execution_count": null,
   "id": "ccb99333",
   "metadata": {},
   "outputs": [],
   "source": [
    "x=[1,2,3] \n",
    "a,b,c=x \n",
    "print(a)\n",
    "type(a)"
   ]
  },
  {
   "cell_type": "markdown",
   "id": "d95eb15f",
   "metadata": {},
   "source": [
    "인덱스로 원소에 접근하기\n",
    "\n",
    "* 인덱스\n",
    "    * 리스트나 튜프르이 원소에 접근할떄 사용\n",
    "    * 음수 인덱스 0-전체 원소수부터 1씩 증가\n",
    "* 슬라이스 \n",
    "    * s[i:j} s[i]부터 s[j-1]까지 나열\n",
    "    * s[j:j:k] k씩 건너뛰면서 나열\n",
    "    \n",
    "  "
   ]
  },
  {
   "cell_type": "code",
   "execution_count": null,
   "id": "74d1ea36",
   "metadata": {},
   "outputs": [],
   "source": [
    "s=[1,2,3,4,5,6]\n",
    "\n",
    "print(s[0:6]) #닫힌구간0 부터 열린구간 7 index 까지\n",
    "print(s[-4:-2])# \n",
    "print(s[3:1]) # empty list\n",
    "print(s[:])\n",
    "print(s[:3])\n",
    "print(s[::-1]) #-1 step 거꾸로\n",
    "print(s[::-2]) # -2 step 거꾸로\n"
   ]
  },
  {
   "cell_type": "markdown",
   "id": "f24c26be",
   "metadata": {},
   "source": [
    "#  실습 2-2"
   ]
  },
  {
   "cell_type": "code",
   "execution_count": null,
   "id": "878799dc",
   "metadata": {},
   "outputs": [],
   "source": [
    "from typing import Any,Sequence\n",
    "# import Sequence list tuple arr string\n",
    "def max_of(a:Sequence)->Any: # return any 형 a:Sequence type\n",
    "    \"\"\"시퀀스형 a 요소의 최댓값을 반환\"\"\"\n",
    "    maximun=a[0]\n",
    "    for i in range(1,len(a)):\n",
    "        if(a[1]>maximun):\n",
    "            maximun=a[i]\n",
    "\n",
    "    return maximun\n",
    "\n",
    "if __name__==\"__main__\":\n",
    "    print(\"배열의 최대값울 구합니다\")\n",
    "    num=int(input(\"원소 수를 입력하세요\"))\n",
    "    x=[None for _ in range(num)]\n",
    "    \n",
    "    for i in range(num):\n",
    "        x[i]=int(input(\"X[{}]값을 입력하세요\".format(i)))\n",
    "    \n",
    "    print(\"최대값은 {}입니다\".format(max_of(x)))"
   ]
  },
  {
   "cell_type": "markdown",
   "id": "dc2d5e37",
   "metadata": {},
   "source": [
    "# 실습 2-3"
   ]
  },
  {
   "cell_type": "code",
   "execution_count": null,
   "id": "f740bfaa",
   "metadata": {},
   "outputs": [],
   "source": [
    "def max_of(a:Sequence)->Any: # return any 형 a:Sequence type\n",
    "    \"\"\"시퀀스형 a 요소의 최댓값을 반환\"\"\"\n",
    "    maximun=a[0]\n",
    "    for i in range(1,len(a)):\n",
    "        if(a[1]>maximun):\n",
    "            maximun=a[i]\n",
    "\n",
    "    return maximun\n",
    "\n",
    "print('배열의 최댓값을 구합니다.')\n",
    "print('주의: END 입력시 강제종료')\n",
    "\n",
    "number = 0\n",
    "x =list()\n",
    "\n",
    "while True:\n",
    "    s = input(f'x[{number}]를 입력하세요.: ')\n",
    "    if s == \"END\":\n",
    "        break\n",
    "    x.append(int(s))    # 배열의 끝에 추가\n",
    "    number += 1\n",
    "\n",
    "print(f'{number}개를 입력했습니다.')\n",
    "print(f'최댓값은 {max_of(x)}입니다.')"
   ]
  },
  {
   "cell_type": "markdown",
   "id": "43a77275",
   "metadata": {},
   "source": [
    "# 실습 2-4"
   ]
  },
  {
   "cell_type": "code",
   "execution_count": null,
   "id": "093efa5c",
   "metadata": {},
   "outputs": [],
   "source": [
    "import random\n",
    "from typing import Any,Sequence\n",
    "def max_of(a:Sequence)->Any:\n",
    "    \"\"\"시퀀스형 a 요소의 최댓값을 반환\"\"\"\n",
    "    maximun=a[0]\n",
    "    for i in range(1,len(a)):\n",
    "        if(a[1]>maximun):\n",
    "            maximun=a[i]\n",
    "\n",
    "    return maximun\n",
    "\n",
    "print('난수의 최댓값을 구합니다.')\n",
    "num = int(input('난수의 개수를 입력'))\n",
    "lo = int(input('난수의 최솟값을 입력'))\n",
    "hi = int(input('난수의 최댓값을 입력'))\n",
    "x = [None for _ in range(num)]\n",
    "\n",
    "for i in range(num):\n",
    "    x[i] = random.randint(lo, hi)\n",
    "\n",
    "print(f'{(x)}')\n",
    "print(f'이중 최댓값은 {max_of(x)}입니다.')"
   ]
  },
  {
   "cell_type": "markdown",
   "id": "c9ba4d0c",
   "metadata": {},
   "source": [
    "# 실습 2-5"
   ]
  },
  {
   "cell_type": "code",
   "execution_count": null,
   "id": "f056a0f6",
   "metadata": {},
   "outputs": [],
   "source": [
    "def max_of(a:Sequence)->Any: # return any 형 a:Sequence type\n",
    "    \"\"\"시퀀스형 a 요소의 최댓값을 반환\"\"\"\n",
    "    maximun=a[0]\n",
    "    for i in range(1,len(a)):\n",
    "        if(a[1]>maximun):\n",
    "            maximun=a[i]\n",
    "\n",
    "    return maximun\n",
    "\n",
    "t = (3,100,52,5.3,3,1415.92,50,60)\n",
    "s = \"String\"\n",
    "a = ['DTS', 'AAC', 'FLAC']\n",
    "\n",
    "print(f'{t}의 최댓값은 {max_of(t)}입니다.')\n",
    "print(f'{s}의 최댓값은 {max_of(s)}입니다.')\n",
    "print(f'{a}의 최댓값은 {max_of(a)}입니다.')"
   ]
  },
  {
   "cell_type": "markdown",
   "id": "2708bd53",
   "metadata": {},
   "source": [
    "# 실습 2-6"
   ]
  },
  {
   "cell_type": "code",
   "execution_count": null,
   "id": "4e1655b7",
   "metadata": {},
   "outputs": [],
   "source": [
    "from typing import Any, MutableSequence\n",
    "\n",
    "def reverse_array(a):\n",
    "    n = len(a)\n",
    "    for i in range(n // 2):\n",
    "         a[i], a[n - i - 1] = a[n - i - 1], a[i]\n",
    "        # a[i]=a[n-i=1]\n",
    "        # a[n-i-1]=a[i]\n",
    "        # 앞 뒤 서로 바꾸는 반복문\n",
    "if __name__ == '__main__':\n",
    "    print('배열 원소를 역순으로 정렬한다')\n",
    "    nx = int(input('input element'))\n",
    "    x = [None for _ in range(nx)] \n",
    "\n",
    "    for i in range(nx):\n",
    "        x[i] = int(input(f'x[{i}] : '))\n",
    "\n",
    "    reverse_array(x) \n",
    "\n",
    "    print('배열 원소를 역순으로 정렬완료.')\n",
    "    for i in range(nx):\n",
    "        print(f'x[{i}] = {x[i]}')"
   ]
  },
  {
   "cell_type": "markdown",
   "id": "fb92e84d",
   "metadata": {},
   "source": [
    "###  정수값을 임의의 기수로 변환\n",
    "\n",
    "59(10)==> 111011(2)"
   ]
  },
  {
   "cell_type": "code",
   "execution_count": null,
   "id": "3b5609c7",
   "metadata": {},
   "outputs": [],
   "source": [
    "data=59\n",
    "print(bin(data))"
   ]
  },
  {
   "cell_type": "markdown",
   "id": "f0f472b7",
   "metadata": {},
   "source": [
    "# 실습 2-7"
   ]
  },
  {
   "cell_type": "code",
   "execution_count": null,
   "id": "a1feb4e8",
   "metadata": {},
   "outputs": [],
   "source": [
    "# 10 진수 정수값을 input받아 2~36진수로 변환하여 출력하기\n",
    "\n",
    "def card_conv(x: int, r: int) -> str:\n",
    "\n",
    "    d = ''\n",
    "    dchar = '0123456789ABCDEFGHIJKLMNOPQRSTUVWXYZ'\n",
    "    while x > 0:\n",
    "        d += dchar [x % r]  \n",
    "        x //= r\n",
    "\n",
    "    return d[::-1]         \n",
    "\n",
    "if __name__ == '__main__':\n",
    "    print('10진수를 n진수로 변환합니다.')\n",
    "\n",
    "    while True:\n",
    "        while True :  \n",
    "            no = int(input('변환할 값으로 음이 아닌 정수를 입력하세요.: '))\n",
    "            if no > 0:\n",
    "                break\n",
    "\n",
    "        while True :  \n",
    "            cd = int(input('어떤 진수로 변환할까요?: '))\n",
    "            if 2 <=  cd <=  36:\n",
    "                break\n",
    "\n",
    "        print(f'{cd}진수로는 {card_conv(no, cd)}입니다.')\n",
    "\n",
    "        retry = input( \"한 번 더 변환할까요?(Y ... 예/N ... 아니오): \")\n",
    "        if retry in {'N', 'n'}:\n",
    "            break"
   ]
  },
  {
   "cell_type": "markdown",
   "id": "ca06947f",
   "metadata": {},
   "source": [
    "# 실습 2-7 "
   ]
  },
  {
   "cell_type": "code",
   "execution_count": null,
   "id": "4d38ef46",
   "metadata": {},
   "outputs": [],
   "source": [
    "def card_convert(x,r):\n",
    "    \n",
    "    d=''\n",
    "    dchar = '0123456789ABCDEFGHIJKLMNOPQRSTUVWXYZ'\n",
    "    n=len(str(x))\n",
    "    \n",
    "    print(f'{r:2} | {x:{n}d}')\n",
    "    \n",
    "    while x>0:\n",
    "        print('   +' + (n + 2) * '-')\n",
    "        if x // r:\n",
    "            print(f'{r:2} | {x // r:{n}d} … {x % r}')\n",
    "        else:\n",
    "            print(f'     {x // r:{n}d} … {x % r}')\n",
    "        d += dchar [x % r] \n",
    "        x //= r\n",
    "    \n",
    "    return d[::-1]\n",
    "if __name__==\"__main__\":\n",
    "    print(\"10진수를 n진수로 변환합니다 \")\n",
    "    \n",
    "    while True:\n",
    "        while True:\n",
    "            input_data=int(input(\"음이 아닌정수를 입력하세요\"))\n",
    "            if input_data>0:\n",
    "                break\n",
    "            else:\n",
    "                print(\"음수 입력하지마세요 강제종료\")\n",
    "                exit()\n",
    "        \n",
    "        while True:\n",
    "            convert_notation=int(input('어떤 진수로 변환을 할까요')) #min 2진수에서 max 36진수까지 가능\n",
    "            if convert_notation>=2 or convert_notation<=36:\n",
    "                break\n",
    "            else:\n",
    "                print(\"out of range\")\n",
    "        \n",
    "        print(\"어떤수{} 에서 {}진수로의 변환은 {} 입니다\".format(input_data,convert_notation\n",
    "                                                   ,card_convert(input_data,convert_notation)))\n",
    "    \n",
    "        re=input(\"한번더 변환을 할까요..? Y=예 N=종료\")\n",
    "        if re in {'N','n'}:\n",
    "            print(\"프로그램을 종료합니다\")\n",
    "            break\n",
    "                \n",
    "                    "
   ]
  },
  {
   "cell_type": "markdown",
   "id": "36b8664d",
   "metadata": {},
   "source": [
    "# 실습 2-8"
   ]
  },
  {
   "cell_type": "code",
   "execution_count": null,
   "id": "c02590f7",
   "metadata": {},
   "outputs": [],
   "source": [
    "counter = 0  \n",
    "\n",
    "for n in range(2, 1001):\n",
    "    for i in range(2, n):\n",
    "        counter += 1\n",
    "        if n % i == 0 :     \n",
    "            break           \n",
    "    else:                  \n",
    "        print(n)\n",
    "print(f'나눗셈을 실행한 횟수: {counter}')"
   ]
  },
  {
   "cell_type": "markdown",
   "id": "3bcd8ffd",
   "metadata": {},
   "source": [
    "# 실습 2-9"
   ]
  },
  {
   "cell_type": "code",
   "execution_count": null,
   "id": "2d3e9af7",
   "metadata": {},
   "outputs": [],
   "source": [
    "counter = 0          \n",
    "ptr = 0              \n",
    "prime = [None for _ in range(500)]\n",
    "\n",
    "prime[ptr] = 2        \n",
    "ptr += 1\n",
    "\n",
    "for n in range(3, 1001, 2):  \n",
    "    for i in range(1, ptr):  \n",
    "        counter += 1\n",
    "        if n % prime[i] == 0: \n",
    "            break              \n",
    "    else:                      \n",
    "        prime[ptr] = n        \n",
    "        ptr += 1\n",
    "\n",
    "for i in range(ptr):  \n",
    "    print(prime[i])\n",
    "print(f'나눗셈을 실행한 횟수: {counter}')"
   ]
  },
  {
   "cell_type": "markdown",
   "id": "1b921278",
   "metadata": {},
   "source": [
    "# 실습 2-10"
   ]
  },
  {
   "cell_type": "code",
   "execution_count": null,
   "id": "74949f69",
   "metadata": {},
   "outputs": [],
   "source": [
    "counter = 0           \n",
    "ptr = 0               \n",
    "prime = [None for _ in range(500)]\n",
    "\n",
    "prime[ptr] = 2  \n",
    "ptr += 1\n",
    "\n",
    "prime[ptr] = 3  \n",
    "ptr += 1\n",
    "\n",
    "for n in range(5, 1001, 2):    \n",
    "    i = 1\n",
    "    while prime[i] * prime[i] <=  n:\n",
    "        counter += 2\n",
    "        if n % prime[i] == 0: \n",
    "            break              \n",
    "        i += 1\n",
    "    else:                     \n",
    "        prime[ptr] = n        \n",
    "        ptr += 1\n",
    "        counter += 1\n",
    "\n",
    "for i in range(ptr):  \n",
    "    print(prime[i])\n",
    "print(f'곱셈과 나눗셈을 실행한 횟수: {counter}')"
   ]
  },
  {
   "cell_type": "code",
   "execution_count": null,
   "id": "cb636576",
   "metadata": {},
   "outputs": [],
   "source": []
  }
 ],
 "metadata": {
  "kernelspec": {
   "display_name": "Python 3 (ipykernel)",
   "language": "python",
   "name": "python3"
  },
  "language_info": {
   "codemirror_mode": {
    "name": "ipython",
    "version": 3
   },
   "file_extension": ".py",
   "mimetype": "text/x-python",
   "name": "python",
   "nbconvert_exporter": "python",
   "pygments_lexer": "ipython3",
   "version": "3.10.4"
  }
 },
 "nbformat": 4,
 "nbformat_minor": 5
}
