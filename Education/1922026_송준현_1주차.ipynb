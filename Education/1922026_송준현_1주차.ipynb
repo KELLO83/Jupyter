{
 "cells": [
  {
   "cell_type": "code",
   "execution_count": null,
   "id": "2c0c4039",
   "metadata": {},
   "outputs": [],
   "source": [
    "print(\"세 정수의 최댓값을 구합니다\")\n",
    "\n",
    "data=list(map(int,input().split()))\n",
    "max__=data[0]\n",
    "\n",
    "if data[1]>max__:\n",
    "    max__=data[1]\n",
    "if data[2]>max__:\n",
    "    max__=data[2]\n",
    "\n",
    "print(\"최대값은 {}입니다\".format(max__))\n",
    "\n"
   ]
  },
  {
   "cell_type": "markdown",
   "id": "f15a50e5",
   "metadata": {},
   "source": [
    "#### 헤드라인\n",
    "\n",
    "1.리스트\n",
    "2.리스트"
   ]
  },
  {
   "cell_type": "code",
   "execution_count": null,
   "id": "331d8e3e",
   "metadata": {},
   "outputs": [],
   "source": [
    "n = int(input('정수를 입력하세요.: '))\n",
    "\n",
    "if n > 0:\n",
    "    print('수는 양수입니다.')\n",
    "elif n < 0:\n",
    "    print('수는 음수입니다.')\n",
    "else:\n",
    "    print('수는0입니다.')"
   ]
  },
  {
   "cell_type": "code",
   "execution_count": null,
   "id": "baaa7e95",
   "metadata": {},
   "outputs": [],
   "source": [
    "n=int(input('정수를 입력하세요'))\n",
    "\n",
    "if (n==1):\n",
    "    print('A')\n",
    "elif (n==2):\n",
    "    print('B')\n",
    "else:\n",
    "    print('C')\n",
    "    "
   ]
  },
  {
   "cell_type": "code",
   "execution_count": null,
   "id": "e013f629",
   "metadata": {},
   "outputs": [],
   "source": [
    "n = int(input('정수를 입력'))\n",
    "\n",
    "if n == 1:\n",
    "    print('A')\n",
    "elif n == 2:\n",
    "    print('B')\n",
    "elif n == 3:\n",
    "    print('C')"
   ]
  },
  {
   "cell_type": "code",
   "execution_count": null,
   "id": "1acbda22",
   "metadata": {},
   "outputs": [],
   "source": [
    "n = int(input('정수를 입력'))\n",
    "\n",
    "if n == 1:\n",
    "    print('A')\n",
    "elif n == 2:\n",
    "    print('B')\n",
    "elif n == 3:\n",
    "    print('C')\n",
    "else:\n",
    "    pass\n",
    "\n"
   ]
  },
  {
   "cell_type": "markdown",
   "id": "93c8e6da",
   "metadata": {},
   "source": [
    "### 반복하는 알고리즘"
   ]
  },
  {
   "cell_type": "code",
   "execution_count": null,
   "id": "3f88b4ff",
   "metadata": {},
   "outputs": [],
   "source": [
    "print(\"1부터 n까지 정수의 합을 구하자\")\n",
    "\n",
    "n=int(input(\"n값을 입력\"))\n",
    "\n",
    "sum=0\n",
    "i=1\n",
    "\n",
    "while(i<=n):\n",
    "    sum+=i\n",
    "    i+=1\n",
    "    \n",
    "print(\"1부터 {} 까지의 정수의 합은 {}입니다\".format(n,sum))\n"
   ]
  },
  {
   "cell_type": "code",
   "execution_count": null,
   "id": "ccdacd9d",
   "metadata": {},
   "outputs": [],
   "source": [
    "print(\"1부터 n까지 정수의 합을 구하자\")\n",
    "\n",
    "n=int(input(\"n값을 입력\"))\n",
    "\n",
    "sum=0\n",
    "\n",
    "\n",
    "for i in range(1,n+1):\n",
    "    sum+=i\n",
    "print(\"1부터 {}까지의 정수의 합은{}입니다\".format(n,sum))\n",
    "\n"
   ]
  },
  {
   "cell_type": "code",
   "execution_count": null,
   "id": "b2760722",
   "metadata": {},
   "outputs": [],
   "source": [
    "print('a부터 b까지 정수의 합을 구해보자')\n",
    "\n",
    "a=int(input('정수 a를 입력하세요'))\n",
    "b=int(input('정수 b를 입력하세요'))\n",
    "\n",
    "if a>b:\n",
    "    a,b=b,a\n",
    "    # swap을 이용하지않고 바로 서로의 값을 바꿀수있어서 유용하다 \n",
    "\n",
    "sum=0\n",
    "\n",
    "for i in range(a,b+1):\n",
    "    sum+=i\n",
    "    \n",
    "print(\"{}부터 {}까지 정수의 합은 {}입니다\".format(a,b,sum))\n",
    "\n"
   ]
  },
  {
   "cell_type": "code",
   "execution_count": null,
   "id": "77cede3e",
   "metadata": {},
   "outputs": [],
   "source": [
    "print('a부터 b까지 정수의 합을 구합니다')\n",
    "\n",
    "a=int(input('정수 a를 입력하세요'))\n",
    "b=int(input('정수 b를 입력하세요'))\n",
    "\n",
    "if a>b:\n",
    "    a,b=b,a\n",
    "    \n",
    "sum=0\n",
    "\n",
    "for i in range(a,b+1):\n",
    "    if i<b:\n",
    "        print(f\"{i}+\",end=\"\")\n",
    "    else:\n",
    "        print(f\"{i}=\",end=\"\")\n",
    "        \n",
    "    sum+=i\n",
    "    \n",
    "print(sum)\n"
   ]
  },
  {
   "cell_type": "code",
   "execution_count": null,
   "id": "97c0f963",
   "metadata": {},
   "outputs": [],
   "source": [
    "print('a부터 b까지 정수의 합을 구합니다')\n",
    "\n",
    "a=int(input('정수 a를 입력하세요'))\n",
    "b=int(input('정수 b를 입력하세요'))\n",
    "\n",
    "if a>b:\n",
    "    a,b=b,a\n",
    "    \n",
    "sum=0\n",
    "\n",
    "for i in range(a,b):\n",
    "    print(\"{}+\".format(i),end=\"\")\n",
    "    sum+=i\n",
    "print(\"{}=\".format(b),end=\"\")\n",
    "sum+=b\n",
    "print(sum)"
   ]
  },
  {
   "cell_type": "code",
   "execution_count": null,
   "id": "e368292b",
   "metadata": {},
   "outputs": [],
   "source": [
    "print(\"+와 -를 번갈아 출력합니다\")\n",
    "n=int(input(\"몇 개를 출력할까요..??\"))\n",
    "\n",
    "for i in range(n):\n",
    "    if i%2:\n",
    "        print(\"-\",end='')\n",
    "    else:\n",
    "        print(\"+\",end=\"\")\n",
    "        \n",
    "print()"
   ]
  },
  {
   "cell_type": "code",
   "execution_count": null,
   "id": "d90c9ed8",
   "metadata": {},
   "outputs": [],
   "source": [
    "print(\"+와 -를 번갈아 출력합니다\")\n",
    "n=int(input(\"몇 개를 출력할까요..??\"))\n",
    "\n",
    "for _ in range(n//2):\n",
    "    print(\"+-\",end=\"\")\n",
    "if n%2:\n",
    "    print(\"+\",end=\"\")\n",
    "\n",
    "print()\n",
    "\n"
   ]
  },
  {
   "cell_type": "code",
   "execution_count": null,
   "id": "5a2bafa4",
   "metadata": {},
   "outputs": [],
   "source": [
    "print(\"*를 출력합니다\")\n",
    "\n",
    "n=int(input('몇 개를 출력할까요..?'))\n",
    "w=int(input('몇 개마다 줄바꿈을 할까요'))\n",
    "\n",
    "for i in range(n):\n",
    "    print(\"*\",end=\"\")\n",
    "    if i%w==w-1:\n",
    "        print()\n",
    "\n",
    "if n%w:\n",
    "    print()\n",
    "    \n",
    "    "
   ]
  },
  {
   "cell_type": "code",
   "execution_count": null,
   "id": "29efc811",
   "metadata": {},
   "outputs": [],
   "source": [
    "print('1부터 n까지 정수의 합을 구합니다.')\n",
    "\n",
    "while 1:\n",
    "    n = int(input('n값을 입력하세요.: '))\n",
    "    if n > 0:\n",
    "        break  \n",
    "        \n",
    "sum = 0\n",
    "i = 1\n",
    "\n",
    "for i in range(1, n + 1):\n",
    "    sum += i \n",
    "    i += 1    \n",
    "b\n",
    "print('1부터 {}까지 정수의 합은 {}입니다'.format(n,sum))"
   ]
  },
  {
   "cell_type": "code",
   "execution_count": null,
   "id": "d4fcdc6a",
   "metadata": {},
   "outputs": [],
   "source": [
    "ar = int(input('직사각형의 넓이를 입력하세요.: '))\n",
    "\n",
    "for i in range(1, ar + 1): \n",
    "    if (i * i) > ar:\n",
    "        break\n",
    "    if ar % i: \n",
    "        continue\n",
    "    print('{} × {}'.format(i,ar//i))\n"
   ]
  },
  {
   "cell_type": "code",
   "execution_count": null,
   "id": "4c1dd20b",
   "metadata": {},
   "outputs": [],
   "source": [
    "for i in range(1, 13):\n",
    "    if i == 8:\n",
    "        continue\n",
    "    print(i, end=' ')\n",
    "    \n",
    "print()"
   ]
  },
  {
   "cell_type": "code",
   "execution_count": null,
   "id": "e64eb628",
   "metadata": {},
   "outputs": [],
   "source": [
    "for i in list(range(1, 8)) + list(range(9, 13)): #8을 뛰어넘는다는것을 알경우\n",
    "    print(i, end=' ')\n",
    "print()"
   ]
  },
  {
   "cell_type": "code",
   "execution_count": null,
   "id": "fdda629b",
   "metadata": {},
   "outputs": [],
   "source": [
    "print('-' * 27)\n",
    "for i in range(1, 10):      \n",
    "    for j in range(1, 10):  \n",
    "        print('{i * j : 3}', end='')\n",
    "    print()                 \n",
    "print('-' * 27)"
   ]
  },
  {
   "cell_type": "code",
   "execution_count": null,
   "id": "5687576e",
   "metadata": {},
   "outputs": [],
   "source": [
    "print('-' * 27)\n",
    "for i in range(1, 10):      \n",
    "    for j in range(1, 10):  \n",
    "        print('{:3}'.format(i*j), end='')\n",
    "    #{:정수} 정수 만큼 띄어쓰기 발생\n",
    "    print()                 \n",
    "print('-' * 27)"
   ]
  },
  {
   "cell_type": "code",
   "execution_count": null,
   "id": "fe61eb7f",
   "metadata": {},
   "outputs": [],
   "source": [
    "print('왼쪽아래 직각 이등변삼각형 출력.')\n",
    "n = int(input('짧은 변의 길이를 입력.: '))\n",
    "\n",
    "for i in range(n):          \n",
    "    for j in range(i + 1):  \n",
    "        print('*', end='')\n",
    "    print()"
   ]
  }
 ],
 "metadata": {
  "kernelspec": {
   "display_name": "python_3.5",
   "language": "python",
   "name": "python_3.5"
  },
  "language_info": {
   "codemirror_mode": {
    "name": "ipython",
    "version": 3
   },
   "file_extension": ".py",
   "mimetype": "text/x-python",
   "name": "python",
   "nbconvert_exporter": "python",
   "pygments_lexer": "ipython3",
   "version": "3.5.6"
  }
 },
 "nbformat": 4,
 "nbformat_minor": 5
}
