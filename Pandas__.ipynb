{
 "cells": [
  {
   "cell_type": "code",
   "execution_count": 1,
   "id": "c1fa6f1e",
   "metadata": {},
   "outputs": [],
   "source": [
    "import pandas as pd\n",
    "import numpy as np"
   ]
  },
  {
   "cell_type": "markdown",
   "id": "d1657b10",
   "metadata": {},
   "source": [
    "#### series 자료형\n",
    "___\n",
    "+ 인데스와 라벨이 붙은 기본적인 자료형\n",
    "+ 리스토와 유사한형태\n",
    "+ pd.Series(리스트)"
   ]
  },
  {
   "cell_type": "code",
   "execution_count": 2,
   "id": "5d9a98d3",
   "metadata": {},
   "outputs": [
    {
     "name": "stdout",
     "output_type": "stream",
     "text": [
      "0    a\n",
      "1    b\n",
      "2    c\n",
      "3    d\n",
      "dtype: object\n",
      "b\n"
     ]
    }
   ],
   "source": [
    "obj=pd.Series(['a','b','c','d'])\n",
    "print(obj)\n",
    "print(obj[1])"
   ]
  },
  {
   "cell_type": "code",
   "execution_count": 3,
   "id": "d381ab2a",
   "metadata": {},
   "outputs": [
    {
     "name": "stdout",
     "output_type": "stream",
     "text": [
      "a     3\n",
      "b     6\n",
      "c     9\n",
      "d    12\n",
      "dtype: int64\n"
     ]
    }
   ],
   "source": [
    "obj=pd.Series([3,6,9,12], index=['a','b','c','d']) \n",
    "# index 지정시 라벨에 a b c d 가 들어간다\n",
    "print(obj)"
   ]
  },
  {
   "cell_type": "code",
   "execution_count": 4,
   "id": "e8739fe4",
   "metadata": {},
   "outputs": [
    {
     "name": "stdout",
     "output_type": "stream",
     "text": [
      "first     1\n",
      "second    2\n",
      "third     3\n",
      "four      4\n",
      "dtype: int64\n"
     ]
    }
   ],
   "source": [
    "value=pd.Series([1,2,3,4],index=['first','second','third','four'])\n",
    "print(value)"
   ]
  },
  {
   "cell_type": "code",
   "execution_count": 5,
   "id": "dade01ba",
   "metadata": {},
   "outputs": [
    {
     "name": "stdout",
     "output_type": "stream",
     "text": [
      "a      first\n",
      "b    seconde\n",
      "c      third\n",
      "dtype: object\n"
     ]
    }
   ],
   "source": [
    "dic={'a':'first','b':'seconde','c':'third'}\n",
    "#dic 를 pd.Series 표의 형태로 변환한다  \n",
    "object_=pd.Series(dic) #pd.Series(dic)\n",
    "print(object_)"
   ]
  },
  {
   "cell_type": "markdown",
   "id": "35d9688a",
   "metadata": {},
   "source": [
    "#### datafrmae\n",
    "___\n",
    "+ Series가 모인 2차원 테이블 형 데이타\n",
    "+ 2차원 테이블 형태\n",
    "+ 행 index 열 column"
   ]
  },
  {
   "cell_type": "code",
   "execution_count": 6,
   "id": "2027a474",
   "metadata": {},
   "outputs": [
    {
     "name": "stdout",
     "output_type": "stream",
     "text": [
      "   age     name  year\n",
      "0   10    first  2013\n",
      "1   11  seconde  2014\n",
      "2   12   thirde  2015\n"
     ]
    }
   ],
   "source": [
    "data={'name':['first','seconde','thirde'],\n",
    "      'year':[2013,2014,2015],'age':[10,11,12]}\n",
    "df=pd.DataFrame(data)\n",
    "\n",
    "print(df)"
   ]
  },
  {
   "cell_type": "code",
   "execution_count": 7,
   "id": "2c648b7d",
   "metadata": {},
   "outputs": [
    {
     "name": "stdout",
     "output_type": "stream",
     "text": [
      "   age   hp  number\n",
      "0   10  100       1\n",
      "1   20   70       2\n",
      "2   30   50       3\n"
     ]
    }
   ],
   "source": [
    "value={'age':[10,20,30],'number':[1,2,3],\"hp\":[100,70,50]}\n",
    "dsban=pd.DataFrame(value)\n",
    "print(dsban)"
   ]
  },
  {
   "cell_type": "markdown",
   "id": "bac1d16c",
   "metadata": {},
   "source": [
    "+ columns의 순서를 마음대로 변경가능\n",
    "+ 존재하지않는 colume을 정의하면 Nan으로 초기화"
   ]
  },
  {
   "cell_type": "code",
   "execution_count": 8,
   "id": "7c215024",
   "metadata": {},
   "outputs": [
    {
     "name": "stdout",
     "output_type": "stream",
     "text": [
      "   temple   hp  age  number\n",
      "10    NaN  100   10       1\n",
      "20    NaN   70   20       2\n",
      "30    NaN   50   30       3\n"
     ]
    }
   ],
   "source": [
    "dsban_2=pd.DataFrame(value,columns=['temple','hp','age','number']\n",
    "                     ,index=['10','20','30'])\n",
    "print(dsban_2)"
   ]
  },
  {
   "cell_type": "code",
   "execution_count": 9,
   "id": "c1442d5a",
   "metadata": {},
   "outputs": [
    {
     "name": "stdout",
     "output_type": "stream",
     "text": [
      "    temple   hp  age  number\n",
      "10    1000  100   10       1\n",
      "20    1000   70   20       2\n",
      "30    1000   50   30       3\n"
     ]
    }
   ],
   "source": [
    "dsban_2['temple']=1000\n",
    "print(dsban_2)\n",
    "\n",
    "#특정열의 모든 숫자를 바꾼다"
   ]
  },
  {
   "cell_type": "code",
   "execution_count": 10,
   "id": "aef13a02",
   "metadata": {},
   "outputs": [
    {
     "name": "stdout",
     "output_type": "stream",
     "text": [
      "10    1000\n",
      "20    1000\n",
      "30    1000\n",
      "Name: temple, dtype: int64\n",
      "\n",
      "10    1000\n",
      "20    1000\n",
      "30    1000\n",
      "Name: temple, dtype: int64\n"
     ]
    }
   ],
   "source": [
    "print(dsban_2.temple,end=\"\\n\\n\")\n",
    "print(dsban_2['temple'])"
   ]
  },
  {
   "cell_type": "code",
   "execution_count": 11,
   "id": "37dbfdb6",
   "metadata": {},
   "outputs": [
    {
     "name": "stdout",
     "output_type": "stream",
     "text": [
      "    temple   hp  age\n",
      "10    1000  100   10\n",
      "20    1000   70   20\n",
      "30    1000   50   30\n"
     ]
    }
   ],
   "source": [
    "del dsban_2['number']\n",
    "print(dsban_2)"
   ]
  },
  {
   "cell_type": "code",
   "execution_count": 12,
   "id": "c8a4ac73",
   "metadata": {},
   "outputs": [
    {
     "name": "stdout",
     "output_type": "stream",
     "text": [
      "    temple   hp age\n",
      "10    1000  100  10\n",
      "20    1000   70  20\n",
      "30    1000   50  30\n",
      "six      1    2   3\n",
      "    temple   hp age  zeros\n",
      "10    1000  100  10      3\n",
      "20    1000   70  20      3\n",
      "30    1000   50  30      3\n",
      "six      1    2   3      3\n"
     ]
    }
   ],
   "source": [
    "dsban_2.loc['six']=['1','2','3']\n",
    "print(dsban_2)\n",
    "dsban_2['zeros']=3\n",
    "print(dsban_2)"
   ]
  },
  {
   "cell_type": "code",
   "execution_count": 13,
   "id": "e75d20c7",
   "metadata": {},
   "outputs": [
    {
     "name": "stdout",
     "output_type": "stream",
     "text": [
      "       year     name  age\n",
      "one    2013    first   10\n",
      "two    2014  seconde   11\n",
      "third  2015   thirde   12\n"
     ]
    }
   ],
   "source": [
    "df2=pd.DataFrame(data,columns=['year','name','age'],index=['one','two','third'])\n",
    "print(df2)"
   ]
  },
  {
   "cell_type": "code",
   "execution_count": 14,
   "id": "32de5331",
   "metadata": {},
   "outputs": [
    {
     "name": "stdout",
     "output_type": "stream",
     "text": [
      "       year     name  age\n",
      "one    2013    first  100\n",
      "two    2014  seconde  100\n",
      "third  2015   thirde  100\n"
     ]
    }
   ],
   "source": [
    "df2['age']=100\n",
    "print(df2)"
   ]
  },
  {
   "cell_type": "code",
   "execution_count": 15,
   "id": "be721b90",
   "metadata": {},
   "outputs": [
    {
     "name": "stdout",
     "output_type": "stream",
     "text": [
      "one        first\n",
      "two      seconde\n",
      "third     thirde\n",
      "Name: name, dtype: object\n",
      "one      100\n",
      "two      100\n",
      "third    100\n",
      "Name: age, dtype: int64\n",
      "          name  age\n",
      "one      first  100\n",
      "two    seconde  100\n",
      "third   thirde  100\n"
     ]
    }
   ],
   "source": [
    "print(df2.name)\n",
    "print(df2.age)\n",
    "print(df2[['name','age']])"
   ]
  },
  {
   "cell_type": "code",
   "execution_count": 16,
   "id": "29596943",
   "metadata": {},
   "outputs": [
    {
     "name": "stdout",
     "output_type": "stream",
     "text": [
      "[1 2 3]\n"
     ]
    }
   ],
   "source": [
    "arr=np.array([1,2,3])\n",
    "print(arr)"
   ]
  },
  {
   "cell_type": "code",
   "execution_count": 17,
   "id": "7da74eea",
   "metadata": {},
   "outputs": [
    {
     "name": "stdout",
     "output_type": "stream",
     "text": [
      "     지점 지점명                일시  기온(°C)  풍속(m/s)  습도(%)  현지기압(hPa)\n",
      "0   108  서울   2020-10-10 1:00    14.8      2.5     65     1011.9\n",
      "1   108  서울   2020-10-10 2:00    14.2      1.8     67     1011.4\n",
      "2   108  서울   2020-10-10 3:00    13.7      2.2     70     1011.3\n",
      "3   108  서울   2020-10-10 4:00    13.1      1.2     71     1011.3\n",
      "4   108  서울   2020-10-10 5:00    12.5      1.4     72     1011.5\n",
      "5   108  서울   2020-10-10 6:00    12.4      1.7     73     1011.5\n",
      "6   108  서울   2020-10-10 7:00    12.3      2.0     76     1011.5\n",
      "7   108  서울   2020-10-10 8:00    13.2      1.2     75     1011.8\n",
      "8   108  서울   2020-10-10 9:00    15.9      2.7     64     1011.7\n",
      "9   108  서울  2020-10-10 10:00    17.7      3.2     57     1011.6\n",
      "10  108  서울  2020-10-10 11:00    18.8      3.2     54     1011.0\n",
      "11  108  서울  2020-10-10 12:00    20.3      2.8     48     1010.2\n",
      "12  108  서울  2020-10-10 13:00    20.7      2.7     45     1009.5\n",
      "13  108  서울  2020-10-10 14:00    20.9      2.4     44     1009.1\n",
      "14  108  서울  2020-10-10 15:00    21.1      1.8     44     1008.7\n",
      "15  108  서울  2020-10-10 16:00    20.8      1.9     46     1008.5\n",
      "16  108  서울  2020-10-10 17:00    20.1      2.4     50     1007.7\n",
      "17  108  서울  2020-10-10 18:00    18.9      2.6     53     1007.4\n",
      "18  108  서울  2020-10-10 19:00    18.0      1.8     55     1007.3\n",
      "19  108  서울  2020-10-10 20:00    17.5      1.1     60     1008.3\n",
      "20  108  서울  2020-10-10 21:00    16.7      1.2     63     1008.5\n",
      "21  108  서울  2020-10-10 22:00    16.4      1.1     64     1008.7\n",
      "22  108  서울  2020-10-10 23:00    16.2      1.2     64     1009.2\n",
      "23  108  서울   2020-10-11 0:00    16.0      2.4     66     1008.1\n"
     ]
    }
   ],
   "source": [
    "df=pd.read_csv('기상데이터.csv',sep=',',encoding='CP949')\n",
    "print(df)"
   ]
  },
  {
   "cell_type": "code",
   "execution_count": 18,
   "id": "71e9d1dd",
   "metadata": {},
   "outputs": [
    {
     "name": "stdout",
     "output_type": "stream",
     "text": [
      "    지점 지점명               일시  기온(°C)  풍속(m/s)  습도(%)  현지기압(hPa)\n",
      "0  108  서울  2020-10-10 1:00    14.8      2.5     65     1011.9\n",
      "1  108  서울  2020-10-10 2:00    14.2      1.8     67     1011.4\n",
      "2  108  서울  2020-10-10 3:00    13.7      2.2     70     1011.3\n",
      "3  108  서울  2020-10-10 4:00    13.1      1.2     71     1011.3\n",
      "4  108  서울  2020-10-10 5:00    12.5      1.4     72     1011.5\n"
     ]
    }
   ],
   "source": [
    "print(df.head())\n",
    "# df.head 5개의 행 출력한다"
   ]
  },
  {
   "cell_type": "code",
   "execution_count": 19,
   "id": "57b4fe5c",
   "metadata": {},
   "outputs": [
    {
     "data": {
      "text/html": [
       "<div>\n",
       "<style scoped>\n",
       "    .dataframe tbody tr th:only-of-type {\n",
       "        vertical-align: middle;\n",
       "    }\n",
       "\n",
       "    .dataframe tbody tr th {\n",
       "        vertical-align: top;\n",
       "    }\n",
       "\n",
       "    .dataframe thead th {\n",
       "        text-align: right;\n",
       "    }\n",
       "</style>\n",
       "<table border=\"1\" class=\"dataframe\">\n",
       "  <thead>\n",
       "    <tr style=\"text-align: right;\">\n",
       "      <th></th>\n",
       "      <th>지점</th>\n",
       "      <th>지점명</th>\n",
       "      <th>일시</th>\n",
       "      <th>기온(°C)</th>\n",
       "      <th>풍속(m/s)</th>\n",
       "      <th>습도(%)</th>\n",
       "      <th>현지기압(hPa)</th>\n",
       "    </tr>\n",
       "  </thead>\n",
       "  <tbody>\n",
       "    <tr>\n",
       "      <th>6</th>\n",
       "      <td>108</td>\n",
       "      <td>서울</td>\n",
       "      <td>2020-10-10 7:00</td>\n",
       "      <td>12.3</td>\n",
       "      <td>2.0</td>\n",
       "      <td>76</td>\n",
       "      <td>1011.5</td>\n",
       "    </tr>\n",
       "    <tr>\n",
       "      <th>5</th>\n",
       "      <td>108</td>\n",
       "      <td>서울</td>\n",
       "      <td>2020-10-10 6:00</td>\n",
       "      <td>12.4</td>\n",
       "      <td>1.7</td>\n",
       "      <td>73</td>\n",
       "      <td>1011.5</td>\n",
       "    </tr>\n",
       "    <tr>\n",
       "      <th>4</th>\n",
       "      <td>108</td>\n",
       "      <td>서울</td>\n",
       "      <td>2020-10-10 5:00</td>\n",
       "      <td>12.5</td>\n",
       "      <td>1.4</td>\n",
       "      <td>72</td>\n",
       "      <td>1011.5</td>\n",
       "    </tr>\n",
       "    <tr>\n",
       "      <th>3</th>\n",
       "      <td>108</td>\n",
       "      <td>서울</td>\n",
       "      <td>2020-10-10 4:00</td>\n",
       "      <td>13.1</td>\n",
       "      <td>1.2</td>\n",
       "      <td>71</td>\n",
       "      <td>1011.3</td>\n",
       "    </tr>\n",
       "    <tr>\n",
       "      <th>7</th>\n",
       "      <td>108</td>\n",
       "      <td>서울</td>\n",
       "      <td>2020-10-10 8:00</td>\n",
       "      <td>13.2</td>\n",
       "      <td>1.2</td>\n",
       "      <td>75</td>\n",
       "      <td>1011.8</td>\n",
       "    </tr>\n",
       "  </tbody>\n",
       "</table>\n",
       "</div>"
      ],
      "text/plain": [
       "    지점 지점명               일시  기온(°C)  풍속(m/s)  습도(%)  현지기압(hPa)\n",
       "6  108  서울  2020-10-10 7:00    12.3      2.0     76     1011.5\n",
       "5  108  서울  2020-10-10 6:00    12.4      1.7     73     1011.5\n",
       "4  108  서울  2020-10-10 5:00    12.5      1.4     72     1011.5\n",
       "3  108  서울  2020-10-10 4:00    13.1      1.2     71     1011.3\n",
       "7  108  서울  2020-10-10 8:00    13.2      1.2     75     1011.8"
      ]
     },
     "execution_count": 19,
     "metadata": {},
     "output_type": "execute_result"
    }
   ],
   "source": [
    "df.sort_values('기온(°C)',ascending=True).head()\n"
   ]
  },
  {
   "cell_type": "code",
   "execution_count": 20,
   "id": "015bec6b",
   "metadata": {},
   "outputs": [
    {
     "data": {
      "text/html": [
       "<div>\n",
       "<style scoped>\n",
       "    .dataframe tbody tr th:only-of-type {\n",
       "        vertical-align: middle;\n",
       "    }\n",
       "\n",
       "    .dataframe tbody tr th {\n",
       "        vertical-align: top;\n",
       "    }\n",
       "\n",
       "    .dataframe thead th {\n",
       "        text-align: right;\n",
       "    }\n",
       "</style>\n",
       "<table border=\"1\" class=\"dataframe\">\n",
       "  <thead>\n",
       "    <tr style=\"text-align: right;\">\n",
       "      <th></th>\n",
       "      <th>지점</th>\n",
       "      <th>지점명</th>\n",
       "      <th>일시</th>\n",
       "      <th>기온(°C)</th>\n",
       "      <th>풍속(m/s)</th>\n",
       "      <th>습도(%)</th>\n",
       "      <th>현지기압(hPa)</th>\n",
       "    </tr>\n",
       "  </thead>\n",
       "  <tbody>\n",
       "    <tr>\n",
       "      <th>14</th>\n",
       "      <td>108</td>\n",
       "      <td>서울</td>\n",
       "      <td>2020-10-10 15:00</td>\n",
       "      <td>21.1</td>\n",
       "      <td>1.8</td>\n",
       "      <td>44</td>\n",
       "      <td>1008.7</td>\n",
       "    </tr>\n",
       "    <tr>\n",
       "      <th>13</th>\n",
       "      <td>108</td>\n",
       "      <td>서울</td>\n",
       "      <td>2020-10-10 14:00</td>\n",
       "      <td>20.9</td>\n",
       "      <td>2.4</td>\n",
       "      <td>44</td>\n",
       "      <td>1009.1</td>\n",
       "    </tr>\n",
       "    <tr>\n",
       "      <th>15</th>\n",
       "      <td>108</td>\n",
       "      <td>서울</td>\n",
       "      <td>2020-10-10 16:00</td>\n",
       "      <td>20.8</td>\n",
       "      <td>1.9</td>\n",
       "      <td>46</td>\n",
       "      <td>1008.5</td>\n",
       "    </tr>\n",
       "  </tbody>\n",
       "</table>\n",
       "</div>"
      ],
      "text/plain": [
       "     지점 지점명                일시  기온(°C)  풍속(m/s)  습도(%)  현지기압(hPa)\n",
       "14  108  서울  2020-10-10 15:00    21.1      1.8     44     1008.7\n",
       "13  108  서울  2020-10-10 14:00    20.9      2.4     44     1009.1\n",
       "15  108  서울  2020-10-10 16:00    20.8      1.9     46     1008.5"
      ]
     },
     "execution_count": 20,
     "metadata": {},
     "output_type": "execute_result"
    }
   ],
   "source": [
    "df.sort_values('기온(°C)',ascending=False).head(3)"
   ]
  },
  {
   "cell_type": "code",
   "execution_count": 21,
   "id": "d7f32650",
   "metadata": {},
   "outputs": [
    {
     "data": {
      "text/html": [
       "<div>\n",
       "<style scoped>\n",
       "    .dataframe tbody tr th:only-of-type {\n",
       "        vertical-align: middle;\n",
       "    }\n",
       "\n",
       "    .dataframe tbody tr th {\n",
       "        vertical-align: top;\n",
       "    }\n",
       "\n",
       "    .dataframe thead th {\n",
       "        text-align: right;\n",
       "    }\n",
       "</style>\n",
       "<table border=\"1\" class=\"dataframe\">\n",
       "  <thead>\n",
       "    <tr style=\"text-align: right;\">\n",
       "      <th></th>\n",
       "      <th>지점</th>\n",
       "      <th>지점명</th>\n",
       "      <th>일시</th>\n",
       "      <th>기온(°C)</th>\n",
       "      <th>풍속(m/s)</th>\n",
       "      <th>습도(%)</th>\n",
       "      <th>현지기압(hPa)</th>\n",
       "    </tr>\n",
       "  </thead>\n",
       "  <tbody>\n",
       "    <tr>\n",
       "      <th>0</th>\n",
       "      <td>108</td>\n",
       "      <td>서울</td>\n",
       "      <td>2020-10-10 1:00</td>\n",
       "      <td>14.8</td>\n",
       "      <td>2.5</td>\n",
       "      <td>65</td>\n",
       "      <td>1011.9</td>\n",
       "    </tr>\n",
       "    <tr>\n",
       "      <th>1</th>\n",
       "      <td>108</td>\n",
       "      <td>서울</td>\n",
       "      <td>2020-10-10 2:00</td>\n",
       "      <td>14.2</td>\n",
       "      <td>1.8</td>\n",
       "      <td>67</td>\n",
       "      <td>1011.4</td>\n",
       "    </tr>\n",
       "    <tr>\n",
       "      <th>2</th>\n",
       "      <td>108</td>\n",
       "      <td>서울</td>\n",
       "      <td>2020-10-10 3:00</td>\n",
       "      <td>13.7</td>\n",
       "      <td>2.2</td>\n",
       "      <td>70</td>\n",
       "      <td>1011.3</td>\n",
       "    </tr>\n",
       "    <tr>\n",
       "      <th>3</th>\n",
       "      <td>108</td>\n",
       "      <td>서울</td>\n",
       "      <td>2020-10-10 4:00</td>\n",
       "      <td>13.1</td>\n",
       "      <td>1.2</td>\n",
       "      <td>71</td>\n",
       "      <td>1011.3</td>\n",
       "    </tr>\n",
       "    <tr>\n",
       "      <th>4</th>\n",
       "      <td>108</td>\n",
       "      <td>서울</td>\n",
       "      <td>2020-10-10 5:00</td>\n",
       "      <td>12.5</td>\n",
       "      <td>1.4</td>\n",
       "      <td>72</td>\n",
       "      <td>1011.5</td>\n",
       "    </tr>\n",
       "  </tbody>\n",
       "</table>\n",
       "</div>"
      ],
      "text/plain": [
       "    지점 지점명               일시  기온(°C)  풍속(m/s)  습도(%)  현지기압(hPa)\n",
       "0  108  서울  2020-10-10 1:00    14.8      2.5     65     1011.9\n",
       "1  108  서울  2020-10-10 2:00    14.2      1.8     67     1011.4\n",
       "2  108  서울  2020-10-10 3:00    13.7      2.2     70     1011.3\n",
       "3  108  서울  2020-10-10 4:00    13.1      1.2     71     1011.3\n",
       "4  108  서울  2020-10-10 5:00    12.5      1.4     72     1011.5"
      ]
     },
     "execution_count": 21,
     "metadata": {},
     "output_type": "execute_result"
    }
   ],
   "source": [
    "df.sort_index(axis=0).head()"
   ]
  },
  {
   "cell_type": "code",
   "execution_count": 22,
   "id": "812a69ca",
   "metadata": {},
   "outputs": [
    {
     "data": {
      "text/html": [
       "<div>\n",
       "<style scoped>\n",
       "    .dataframe tbody tr th:only-of-type {\n",
       "        vertical-align: middle;\n",
       "    }\n",
       "\n",
       "    .dataframe tbody tr th {\n",
       "        vertical-align: top;\n",
       "    }\n",
       "\n",
       "    .dataframe thead th {\n",
       "        text-align: right;\n",
       "    }\n",
       "</style>\n",
       "<table border=\"1\" class=\"dataframe\">\n",
       "  <thead>\n",
       "    <tr style=\"text-align: right;\">\n",
       "      <th></th>\n",
       "      <th>기온(°C)</th>\n",
       "      <th>습도(%)</th>\n",
       "      <th>일시</th>\n",
       "      <th>지점</th>\n",
       "      <th>지점명</th>\n",
       "      <th>풍속(m/s)</th>\n",
       "      <th>현지기압(hPa)</th>\n",
       "    </tr>\n",
       "  </thead>\n",
       "  <tbody>\n",
       "    <tr>\n",
       "      <th>0</th>\n",
       "      <td>14.8</td>\n",
       "      <td>65</td>\n",
       "      <td>2020-10-10 1:00</td>\n",
       "      <td>108</td>\n",
       "      <td>서울</td>\n",
       "      <td>2.5</td>\n",
       "      <td>1011.9</td>\n",
       "    </tr>\n",
       "    <tr>\n",
       "      <th>1</th>\n",
       "      <td>14.2</td>\n",
       "      <td>67</td>\n",
       "      <td>2020-10-10 2:00</td>\n",
       "      <td>108</td>\n",
       "      <td>서울</td>\n",
       "      <td>1.8</td>\n",
       "      <td>1011.4</td>\n",
       "    </tr>\n",
       "    <tr>\n",
       "      <th>2</th>\n",
       "      <td>13.7</td>\n",
       "      <td>70</td>\n",
       "      <td>2020-10-10 3:00</td>\n",
       "      <td>108</td>\n",
       "      <td>서울</td>\n",
       "      <td>2.2</td>\n",
       "      <td>1011.3</td>\n",
       "    </tr>\n",
       "    <tr>\n",
       "      <th>3</th>\n",
       "      <td>13.1</td>\n",
       "      <td>71</td>\n",
       "      <td>2020-10-10 4:00</td>\n",
       "      <td>108</td>\n",
       "      <td>서울</td>\n",
       "      <td>1.2</td>\n",
       "      <td>1011.3</td>\n",
       "    </tr>\n",
       "    <tr>\n",
       "      <th>4</th>\n",
       "      <td>12.5</td>\n",
       "      <td>72</td>\n",
       "      <td>2020-10-10 5:00</td>\n",
       "      <td>108</td>\n",
       "      <td>서울</td>\n",
       "      <td>1.4</td>\n",
       "      <td>1011.5</td>\n",
       "    </tr>\n",
       "  </tbody>\n",
       "</table>\n",
       "</div>"
      ],
      "text/plain": [
       "   기온(°C)  습도(%)               일시   지점 지점명  풍속(m/s)  현지기압(hPa)\n",
       "0    14.8     65  2020-10-10 1:00  108  서울      2.5     1011.9\n",
       "1    14.2     67  2020-10-10 2:00  108  서울      1.8     1011.4\n",
       "2    13.7     70  2020-10-10 3:00  108  서울      2.2     1011.3\n",
       "3    13.1     71  2020-10-10 4:00  108  서울      1.2     1011.3\n",
       "4    12.5     72  2020-10-10 5:00  108  서울      1.4     1011.5"
      ]
     },
     "execution_count": 22,
     "metadata": {},
     "output_type": "execute_result"
    }
   ],
   "source": [
    "df.sort_index(axis=1).head()"
   ]
  },
  {
   "cell_type": "code",
   "execution_count": 23,
   "id": "e890959e",
   "metadata": {},
   "outputs": [
    {
     "data": {
      "text/html": [
       "<div>\n",
       "<style scoped>\n",
       "    .dataframe tbody tr th:only-of-type {\n",
       "        vertical-align: middle;\n",
       "    }\n",
       "\n",
       "    .dataframe tbody tr th {\n",
       "        vertical-align: top;\n",
       "    }\n",
       "\n",
       "    .dataframe thead th {\n",
       "        text-align: right;\n",
       "    }\n",
       "</style>\n",
       "<table border=\"1\" class=\"dataframe\">\n",
       "  <thead>\n",
       "    <tr style=\"text-align: right;\">\n",
       "      <th></th>\n",
       "      <th>지점</th>\n",
       "      <th>지점명</th>\n",
       "      <th>일시</th>\n",
       "      <th>기온(°C)</th>\n",
       "      <th>풍속(m/s)</th>\n",
       "      <th>습도(%)</th>\n",
       "      <th>현지기압(hPa)</th>\n",
       "    </tr>\n",
       "  </thead>\n",
       "  <tbody>\n",
       "    <tr>\n",
       "      <th>14</th>\n",
       "      <td>108</td>\n",
       "      <td>서울</td>\n",
       "      <td>2020-10-10 15:00</td>\n",
       "      <td>21.1</td>\n",
       "      <td>1.8</td>\n",
       "      <td>44</td>\n",
       "      <td>1008.7</td>\n",
       "    </tr>\n",
       "  </tbody>\n",
       "</table>\n",
       "</div>"
      ],
      "text/plain": [
       "     지점 지점명                일시  기온(°C)  풍속(m/s)  습도(%)  현지기압(hPa)\n",
       "14  108  서울  2020-10-10 15:00    21.1      1.8     44     1008.7"
      ]
     },
     "execution_count": 23,
     "metadata": {},
     "output_type": "execute_result"
    }
   ],
   "source": [
    "df.sort_values('기온(°C)',ascending=False).head(1)"
   ]
  },
  {
   "cell_type": "code",
   "execution_count": 24,
   "id": "ad046607",
   "metadata": {},
   "outputs": [
    {
     "name": "stdout",
     "output_type": "stream",
     "text": [
      "    지점 지점명               일시  기온(°C)  풍속(m/s)  습도(%)  현지기압(hPa)\n",
      "6  108  서울  2020-10-10 7:00    12.3      2.0     76     1011.5\n"
     ]
    }
   ],
   "source": [
    " df2=df.sort_values('습도(%)',ascending=False).head(1)\n",
    "print(df2)"
   ]
  },
  {
   "cell_type": "code",
   "execution_count": 25,
   "id": "29a7b464",
   "metadata": {},
   "outputs": [
    {
     "name": "stdout",
     "output_type": "stream",
     "text": [
      "0    2020-10-10 1:00\n",
      "Name: 일시, dtype: object\n",
      "\n",
      "\n",
      "2020-10-10 1:00\n"
     ]
    }
   ],
   "source": [
    "df.sort_values('습도(%)',ascending=False).head(1)\n",
    "print(df['일시'].head(1))\n",
    "print('\\n')\n",
    "print(df.일시[0])"
   ]
  },
  {
   "cell_type": "code",
   "execution_count": 26,
   "id": "7b3fa0bc",
   "metadata": {},
   "outputs": [
    {
     "name": "stdout",
     "output_type": "stream",
     "text": [
      "0      2020-10-10 1:00\n",
      "1      2020-10-10 2:00\n",
      "2      2020-10-10 3:00\n",
      "3      2020-10-10 4:00\n",
      "4      2020-10-10 5:00\n",
      "5      2020-10-10 6:00\n",
      "6      2020-10-10 7:00\n",
      "7      2020-10-10 8:00\n",
      "8      2020-10-10 9:00\n",
      "9     2020-10-10 10:00\n",
      "10    2020-10-10 11:00\n",
      "11    2020-10-10 12:00\n",
      "12    2020-10-10 13:00\n",
      "13    2020-10-10 14:00\n",
      "14    2020-10-10 15:00\n",
      "15    2020-10-10 16:00\n",
      "16    2020-10-10 17:00\n",
      "17    2020-10-10 18:00\n",
      "18    2020-10-10 19:00\n",
      "19    2020-10-10 20:00\n",
      "20    2020-10-10 21:00\n",
      "21    2020-10-10 22:00\n",
      "22    2020-10-10 23:00\n",
      "23     2020-10-11 0:00\n",
      "Name: 일시, dtype: object\n"
     ]
    }
   ],
   "source": [
    "print(df.일시)"
   ]
  },
  {
   "cell_type": "code",
   "execution_count": 27,
   "id": "e12c7572",
   "metadata": {},
   "outputs": [
    {
     "data": {
      "text/plain": [
       "6    2020-10-10 7:00\n",
       "Name: 일시, dtype: object"
      ]
     },
     "execution_count": 27,
     "metadata": {},
     "output_type": "execute_result"
    }
   ],
   "source": [
    "df2.일시"
   ]
  },
  {
   "cell_type": "code",
   "execution_count": 28,
   "id": "da60544e",
   "metadata": {},
   "outputs": [],
   "source": [
    "import matplotlib.pyplot as plt"
   ]
  },
  {
   "cell_type": "markdown",
   "id": "159c1072",
   "metadata": {},
   "source": [
    "+ Figure:서프 플롯을 작성하는 톨\n",
    "+ subplot:그래프를 작성하기 위한 영역\n",
    "+ Axes:Figure 안에 속해있는 서브플롯 객체\n",
    "+ AXIS :플롯의 거로축이나 세로축"
   ]
  },
  {
   "cell_type": "code",
   "execution_count": 29,
   "id": "a84ec51b",
   "metadata": {},
   "outputs": [
    {
     "data": {
      "image/png": "[encoded data removed]",
      "text/plain": [
       "<Figure size 432x288 with 1 Axes>"
      ]
     },
     "metadata": {
      "needs_background": "light"
     },
     "output_type": "display_data"
    }
   ],
   "source": [
    "plt.plot([1,2,3],[100,200,300]) #x축은 1~3 y축은 100~300\n",
    "plt.show()"
   ]
  },
  {
   "cell_type": "code",
   "execution_count": 30,
   "id": "13a164a2",
   "metadata": {},
   "outputs": [
    {
     "data": {
      "image/png": "[encoded data removed]",
      "text/plain": [
       "<Figure size 432x288 with 1 Axes>"
      ]
     },
     "metadata": {
      "needs_background": "light"
     },
     "output_type": "display_data"
    }
   ],
   "source": [
    "t=np.arange(1,10,0.1) #1~10 0.1 간격으로\n",
    "plt.plot(t,np.sin(t))\n",
    "plt.show()"
   ]
  },
  {
   "cell_type": "code",
   "execution_count": 31,
   "id": "05c4297a",
   "metadata": {},
   "outputs": [
    {
     "data": {
      "image/png": "[encoded data removed]",
      "text/plain": [
       "<Figure size 432x288 with 1 Axes>"
      ]
     },
     "metadata": {
      "needs_background": "light"
     },
     "output_type": "display_data"
    }
   ],
   "source": [
    "fig=plt.figure()\n",
    "ax=fig.add_subplot(111)\n",
    "t=np.arange(1,10,0.1)\n",
    "ax.plot(t,np.sin(t))\n",
    "plt.show()"
   ]
  },
  {
   "cell_type": "code",
   "execution_count": 32,
   "id": "ed28078b",
   "metadata": {},
   "outputs": [
    {
     "data": {
      "image/png": "[encoded data removed]",
      "text/plain": [
       "<Figure size 432x288 with 3 Axes>"
      ]
     },
     "metadata": {
      "needs_background": "light"
     },
     "output_type": "display_data"
    }
   ],
   "source": [
    "fig=plt.figure()\n",
    "ax1=fig.add_subplot(221)\n",
    "ax2=fig.add_subplot(222)\n",
    "ax3=fig.add_subplot(223)\n",
    "\n",
    "t=np.arange(1,10,0.1)\n",
    "ax1.plot(t,np.sin(t))\n",
    "ax2.plot(t,np.cos(t))\n",
    "ax3.plot(t,np.tan(t))\n",
    "\n",
    "plt.show()"
   ]
  },
  {
   "cell_type": "code",
   "execution_count": 33,
   "id": "0934546c",
   "metadata": {},
   "outputs": [
    {
     "data": {
      "image/png": "[encoded data removed]",
      "text/plain": [
       "<Figure size 432x288 with 2 Axes>"
      ]
     },
     "metadata": {
      "needs_background": "light"
     },
     "output_type": "display_data"
    }
   ],
   "source": [
    "fig=plt.figure()\n",
    "ax=fig.add_subplot(111)\n",
    "t=np.arange(1,10,0.1)\n",
    "\n",
    "ax.plot(t,np.sin(t))\n",
    "plt.grid() #격자 생성\n",
    "ax.set_title('sin wave') #제목 타이틀\n",
    "ax.set_xlabel('time') #x축 라벨 \n",
    "ax.set_ylabel(\"value\") #y축 라벨\n",
    "ax.plot(t,np.cos(t),color='r',lw=3) #색깔 굴기 추가\n",
    "plt.legend(['sin(t)','cos(t)'],loc='upper right') #범례 추가 loc =오른쪽 상단\n",
    "ax2=ax.twinx() #이중차트 탄젠트 범위가 크기떄문에 한그래프에서 표시할려면 필요\n",
    "plt.plot(t,np.tan(t))\n",
    "plt.show()"
   ]
  },
  {
   "cell_type": "code",
   "execution_count": 34,
   "id": "b92428fb",
   "metadata": {},
   "outputs": [
    {
     "data": {
      "text/plain": [
       "<BarContainer object of 3 artists>"
      ]
     },
     "execution_count": 34,
     "metadata": {},
     "output_type": "execute_result"
    },
    {
     "data": {
      "image/png": "[encoded data removed]",
      "text/plain": [
       "<Figure size 432x288 with 1 Axes>"
      ]
     },
     "metadata": {
      "needs_background": "light"
     },
     "output_type": "display_data"
    }
   ],
   "source": [
    "fig=plt.figure()\n",
    "\n",
    "ax=fig.add_subplot(111)\n",
    "\n",
    "ax.bar([1,2,3],[100,200,300],color='r')\n",
    "ax.bar([5,6,7],[10,20,30])\n"
   ]
  },
  {
   "cell_type": "code",
   "execution_count": null,
   "id": "e5c89705",
   "metadata": {},
   "outputs": [],
   "source": []
  },
  {
   "cell_type": "code",
   "execution_count": 35,
   "id": "de24d2d5",
   "metadata": {},
   "outputs": [
    {
     "name": "stdout",
     "output_type": "stream",
     "text": [
      "     지점 지점명                일시    기온  풍속(m/s)  습도  현지기압(hPa)\n",
      "0   108  서울   2020-10-10 1:00  14.8      2.5  65     1011.9\n",
      "1   108  서울   2020-10-10 2:00  14.2      1.8  67     1011.4\n",
      "2   108  서울   2020-10-10 3:00  13.7      2.2  70     1011.3\n",
      "3   108  서울   2020-10-10 4:00  13.1      1.2  71     1011.3\n",
      "4   108  서울   2020-10-10 5:00  12.5      1.4  72     1011.5\n",
      "5   108  서울   2020-10-10 6:00  12.4      1.7  73     1011.5\n",
      "6   108  서울   2020-10-10 7:00  12.3      2.0  76     1011.5\n",
      "7   108  서울   2020-10-10 8:00  13.2      1.2  75     1011.8\n",
      "8   108  서울   2020-10-10 9:00  15.9      2.7  64     1011.7\n",
      "9   108  서울  2020-10-10 10:00  17.7      3.2  57     1011.6\n",
      "10  108  서울  2020-10-10 11:00  18.8      3.2  54     1011.0\n",
      "11  108  서울  2020-10-10 12:00  20.3      2.8  48     1010.2\n",
      "12  108  서울  2020-10-10 13:00  20.7      2.7  45     1009.5\n",
      "13  108  서울  2020-10-10 14:00  20.9      2.4  44     1009.1\n",
      "14  108  서울  2020-10-10 15:00  21.1      1.8  44     1008.7\n",
      "15  108  서울  2020-10-10 16:00  20.8      1.9  46     1008.5\n",
      "16  108  서울  2020-10-10 17:00  20.1      2.4  50     1007.7\n",
      "17  108  서울  2020-10-10 18:00  18.9      2.6  53     1007.4\n",
      "18  108  서울  2020-10-10 19:00  18.0      1.8  55     1007.3\n",
      "19  108  서울  2020-10-10 20:00  17.5      1.1  60     1008.3\n",
      "20  108  서울  2020-10-10 21:00  16.7      1.2  63     1008.5\n",
      "21  108  서울  2020-10-10 22:00  16.4      1.1  64     1008.7\n",
      "22  108  서울  2020-10-10 23:00  16.2      1.2  64     1009.2\n",
      "23  108  서울   2020-10-11 0:00  16.0      2.4  66     1008.1\n"
     ]
    }
   ],
   "source": [
    "df=pd.read_csv('기상데이터2.csv',sep=',',encoding='CP949')\n",
    "print(df)"
   ]
  },
  {
   "cell_type": "code",
   "execution_count": 36,
   "id": "b3b88d4f",
   "metadata": {},
   "outputs": [],
   "source": [
    "R1=df.head(10)"
   ]
  },
  {
   "cell_type": "code",
   "execution_count": 37,
   "id": "375ce15e",
   "metadata": {},
   "outputs": [
    {
     "name": "stdout",
     "output_type": "stream",
     "text": [
      "    지점 지점명                일시    기온  풍속(m/s)  습도  현지기압(hPa)\n",
      "0  108  서울   2020-10-10 1:00  14.8      2.5  65     1011.9\n",
      "1  108  서울   2020-10-10 2:00  14.2      1.8  67     1011.4\n",
      "2  108  서울   2020-10-10 3:00  13.7      2.2  70     1011.3\n",
      "3  108  서울   2020-10-10 4:00  13.1      1.2  71     1011.3\n",
      "4  108  서울   2020-10-10 5:00  12.5      1.4  72     1011.5\n",
      "5  108  서울   2020-10-10 6:00  12.4      1.7  73     1011.5\n",
      "6  108  서울   2020-10-10 7:00  12.3      2.0  76     1011.5\n",
      "7  108  서울   2020-10-10 8:00  13.2      1.2  75     1011.8\n",
      "8  108  서울   2020-10-10 9:00  15.9      2.7  64     1011.7\n",
      "9  108  서울  2020-10-10 10:00  17.7      3.2  57     1011.6\n"
     ]
    }
   ],
   "source": [
    "print(R1)"
   ]
  },
  {
   "cell_type": "code",
   "execution_count": 38,
   "id": "3106fb5c",
   "metadata": {},
   "outputs": [],
   "source": [
    "from matplotlib import rcParams\n",
    "rcParams['font.sans-serif']='Malgun Gothic'\n",
    "rcParams['font.weight'] = 'regular'\n",
    "rcParams['axes.titlesize'] = 15\n",
    "rcParams['ytick.labelsize'] = 12\n",
    "rcParams['xtick.labelsize'] = 12"
   ]
  },
  {
   "cell_type": "code",
   "execution_count": 39,
   "id": "6e087fd8",
   "metadata": {},
   "outputs": [],
   "source": [
    "temper=df.기온.head(3)\n",
    "humidity=df.습도.head(3)\n",
    "dt=df.일시.head(3)"
   ]
  },
  {
   "cell_type": "code",
   "execution_count": 40,
   "id": "0db4f42f",
   "metadata": {},
   "outputs": [],
   "source": [
    "# fig=plt.figure()\n",
    "# ax=fig.add_subplot(111)\n",
    "# T1=R1.기온\n",
    "# print(T1)\n",
    "# T2=R1.일시\n",
    "# T3=R1.습도\n",
    "\n"
   ]
  },
  {
   "cell_type": "code",
   "execution_count": 41,
   "id": "640814f8",
   "metadata": {},
   "outputs": [
    {
     "data": {
      "text/plain": [
       "<matplotlib.legend.Legend at 0x1f25125eb38>"
      ]
     },
     "execution_count": 41,
     "metadata": {},
     "output_type": "execute_result"
    },
    {
     "data": {
      "image/png": "[encoded data removed]",
      "text/plain": [
       "<Figure size 432x288 with 2 Axes>"
      ]
     },
     "metadata": {
      "needs_background": "light"
     },
     "output_type": "display_data"
    }
   ],
   "source": [
    "fig=plt.figure()\n",
    "ax=fig.add_subplot(111)\n",
    "t=np.arange(1,10,0.1)\n",
    "# ax.plot(df.일시,df.기온)\n",
    "ax2=ax.twinx()\n",
    "ax2.plot(df.습도,color='blue',lw=3)\n",
    "ax.bar(df.일시,df.기온,color='pink')\n",
    "ax.set_xticks(['2020-10-10 1:00','2020-10-10 11:00','2020-10-10 20:00'])\n",
    "ax.set_title('날씨') #제목 타이틀\n",
    "ax.set_xlabel('일짜') #x축 라벨 \n",
    "ax.set_ylabel(\"기온'('c')\") #y축 라벨\n",
    "ax2.set_ylabel(\"습도\")\n",
    "ax.legend(['온도'],loc='upper right')\n",
    "ax2.legend(['습도'],loc='lower right')"
   ]
  },
  {
   "cell_type": "code",
   "execution_count": 42,
   "id": "cef512df",
   "metadata": {},
   "outputs": [
    {
     "name": "stdout",
     "output_type": "stream",
     "text": [
      "     지점 지점명                일시    기온  풍속(m/s)  습도  현지기압(hPa)\n",
      "0   108  서울   2020-10-10 1:00  14.8      2.5  65     1011.9\n",
      "1   108  서울   2020-10-10 2:00  14.2      1.8  67     1011.4\n",
      "2   108  서울   2020-10-10 3:00  13.7      2.2  70     1011.3\n",
      "3   108  서울   2020-10-10 4:00  13.1      1.2  71     1011.3\n",
      "4   108  서울   2020-10-10 5:00  12.5      1.4  72     1011.5\n",
      "5   108  서울   2020-10-10 6:00  12.4      1.7  73     1011.5\n",
      "6   108  서울   2020-10-10 7:00  12.3      2.0  76     1011.5\n",
      "7   108  서울   2020-10-10 8:00  13.2      1.2  75     1011.8\n",
      "8   108  서울   2020-10-10 9:00  15.9      2.7  64     1011.7\n",
      "9   108  서울  2020-10-10 10:00  17.7      3.2  57     1011.6\n",
      "10  108  서울  2020-10-10 11:00  18.8      3.2  54     1011.0\n",
      "11  108  서울  2020-10-10 12:00  20.3      2.8  48     1010.2\n",
      "12  108  서울  2020-10-10 13:00  20.7      2.7  45     1009.5\n",
      "13  108  서울  2020-10-10 14:00  20.9      2.4  44     1009.1\n",
      "14  108  서울  2020-10-10 15:00  21.1      1.8  44     1008.7\n",
      "15  108  서울  2020-10-10 16:00  20.8      1.9  46     1008.5\n",
      "16  108  서울  2020-10-10 17:00  20.1      2.4  50     1007.7\n",
      "17  108  서울  2020-10-10 18:00  18.9      2.6  53     1007.4\n",
      "18  108  서울  2020-10-10 19:00  18.0      1.8  55     1007.3\n",
      "19  108  서울  2020-10-10 20:00  17.5      1.1  60     1008.3\n",
      "20  108  서울  2020-10-10 21:00  16.7      1.2  63     1008.5\n",
      "21  108  서울  2020-10-10 22:00  16.4      1.1  64     1008.7\n",
      "22  108  서울  2020-10-10 23:00  16.2      1.2  64     1009.2\n",
      "23  108  서울   2020-10-11 0:00  16.0      2.4  66     1008.1\n"
     ]
    }
   ],
   "source": [
    "df=pd.read_csv('기상데이터2.csv',sep=',',encoding='CP949')\n",
    "print(df)"
   ]
  },
  {
   "cell_type": "code",
   "execution_count": 43,
   "id": "c484937d",
   "metadata": {},
   "outputs": [
    {
     "data": {
      "text/plain": [
       "0     14.8\n",
       "1     14.2\n",
       "2     13.7\n",
       "3     13.1\n",
       "4     12.5\n",
       "5     12.4\n",
       "6     12.3\n",
       "7     13.2\n",
       "8     15.9\n",
       "9     17.7\n",
       "10    18.8\n",
       "11    20.3\n",
       "12    20.7\n",
       "13    20.9\n",
       "14    21.1\n",
       "15    20.8\n",
       "16    20.1\n",
       "17    18.9\n",
       "18    18.0\n",
       "19    17.5\n",
       "20    16.7\n",
       "21    16.4\n",
       "22    16.2\n",
       "23    16.0\n",
       "Name: 기온, dtype: float64"
      ]
     },
     "execution_count": 43,
     "metadata": {},
     "output_type": "execute_result"
    }
   ],
   "source": [
    "df['기온']"
   ]
  },
  {
   "cell_type": "code",
   "execution_count": 44,
   "id": "b9d6122a",
   "metadata": {},
   "outputs": [
    {
     "name": "stdout",
     "output_type": "stream",
     "text": [
      "     지점 지점명                일시    기온  풍속(m/s)  습도  현지기압(hPa)\n",
      "14  108  서울  2020-10-10 15:00  21.1      1.8  44     1008.7\n",
      "13  108  서울  2020-10-10 14:00  20.9      2.4  44     1009.1\n",
      "15  108  서울  2020-10-10 16:00  20.8      1.9  46     1008.5\n",
      "12  108  서울  2020-10-10 13:00  20.7      2.7  45     1009.5\n",
      "11  108  서울  2020-10-10 12:00  20.3      2.8  48     1010.2\n",
      "16  108  서울  2020-10-10 17:00  20.1      2.4  50     1007.7\n",
      "17  108  서울  2020-10-10 18:00  18.9      2.6  53     1007.4\n",
      "10  108  서울  2020-10-10 11:00  18.8      3.2  54     1011.0\n",
      "18  108  서울  2020-10-10 19:00  18.0      1.8  55     1007.3\n",
      "9   108  서울  2020-10-10 10:00  17.7      3.2  57     1011.6\n",
      "19  108  서울  2020-10-10 20:00  17.5      1.1  60     1008.3\n",
      "20  108  서울  2020-10-10 21:00  16.7      1.2  63     1008.5\n",
      "21  108  서울  2020-10-10 22:00  16.4      1.1  64     1008.7\n",
      "22  108  서울  2020-10-10 23:00  16.2      1.2  64     1009.2\n",
      "23  108  서울   2020-10-11 0:00  16.0      2.4  66     1008.1\n",
      "8   108  서울   2020-10-10 9:00  15.9      2.7  64     1011.7\n",
      "0   108  서울   2020-10-10 1:00  14.8      2.5  65     1011.9\n",
      "1   108  서울   2020-10-10 2:00  14.2      1.8  67     1011.4\n",
      "2   108  서울   2020-10-10 3:00  13.7      2.2  70     1011.3\n",
      "7   108  서울   2020-10-10 8:00  13.2      1.2  75     1011.8\n",
      "3   108  서울   2020-10-10 4:00  13.1      1.2  71     1011.3\n",
      "4   108  서울   2020-10-10 5:00  12.5      1.4  72     1011.5\n",
      "5   108  서울   2020-10-10 6:00  12.4      1.7  73     1011.5\n",
      "6   108  서울   2020-10-10 7:00  12.3      2.0  76     1011.5\n"
     ]
    }
   ],
   "source": [
    "df_sotr_value=df.sort_values('기온',ascending=False)\n",
    "print(df_sotr_value)"
   ]
  },
  {
   "cell_type": "code",
   "execution_count": 45,
   "id": "e39c92d2",
   "metadata": {},
   "outputs": [
    {
     "name": "stdout",
     "output_type": "stream",
     "text": [
      "     지점 지점명                일시    기온  풍속(m/s)  습도  현지기압(hPa)\n",
      "0   108  서울   2020-10-10 1:00  14.8      2.5  65     1011.9\n",
      "1   108  서울   2020-10-10 2:00  14.2      1.8  67     1011.4\n",
      "2   108  서울   2020-10-10 3:00  13.7      2.2  70     1011.3\n",
      "3   108  서울   2020-10-10 4:00  13.1      1.2  71     1011.3\n",
      "4   108  서울   2020-10-10 5:00  12.5      1.4  72     1011.5\n",
      "5   108  서울   2020-10-10 6:00  12.4      1.7  73     1011.5\n",
      "6   108  서울   2020-10-10 7:00  12.3      2.0  76     1011.5\n",
      "7   108  서울   2020-10-10 8:00  13.2      1.2  75     1011.8\n",
      "8   108  서울   2020-10-10 9:00  15.9      2.7  64     1011.7\n",
      "9   108  서울  2020-10-10 10:00  17.7      3.2  57     1011.6\n",
      "10  108  서울  2020-10-10 11:00  18.8      3.2  54     1011.0\n",
      "11  108  서울  2020-10-10 12:00  20.3      2.8  48     1010.2\n",
      "12  108  서울  2020-10-10 13:00  20.7      2.7  45     1009.5\n",
      "13  108  서울  2020-10-10 14:00  20.9      2.4  44     1009.1\n",
      "14  108  서울  2020-10-10 15:00  21.1      1.8  44     1008.7\n",
      "15  108  서울  2020-10-10 16:00  20.8      1.9  46     1008.5\n",
      "16  108  서울  2020-10-10 17:00  20.1      2.4  50     1007.7\n",
      "17  108  서울  2020-10-10 18:00  18.9      2.6  53     1007.4\n",
      "18  108  서울  2020-10-10 19:00  18.0      1.8  55     1007.3\n",
      "19  108  서울  2020-10-10 20:00  17.5      1.1  60     1008.3\n",
      "20  108  서울  2020-10-10 21:00  16.7      1.2  63     1008.5\n",
      "21  108  서울  2020-10-10 22:00  16.4      1.1  64     1008.7\n",
      "22  108  서울  2020-10-10 23:00  16.2      1.2  64     1009.2\n",
      "23  108  서울   2020-10-11 0:00  16.0      2.4  66     1008.1\n"
     ]
    }
   ],
   "source": [
    "df=pd.read_csv('기상데이터2.csv',sep=',',encoding='CP949')\n",
    "print(df)"
   ]
  },
  {
   "cell_type": "code",
   "execution_count": 50,
   "id": "869dadf5",
   "metadata": {},
   "outputs": [
    {
     "data": {
      "text/plain": [
       "<matplotlib.legend.Legend at 0x1f251584780>"
      ]
     },
     "execution_count": 50,
     "metadata": {},
     "output_type": "execute_result"
    },
    {
     "data": {
      "image/png": "[encoded data removed]",
      "text/plain": [
       "<Figure size 432x288 with 2 Axes>"
      ]
     },
     "metadata": {
      "needs_background": "light"
     },
     "output_type": "display_data"
    }
   ],
   "source": [
    "fig=plt.figure()\n",
    "ax=fig.add_subplot(111)\n",
    "t=np.arange(1,10,0.1)\n",
    "# ax.plot(df.일시,df.기온)\n",
    "ax2=ax.twinx()\n",
    "ax2.plot(df.습도,color='blue',lw=3)\n",
    "ax.bar(df.일시,df.기온,color='pink')\n",
    "ax.set_xticks(['2020-10-10 1:00','2020-10-10 11:00','2020-10-10 20:00'])\n",
    "ax.set_title('날씨') #제목 타이틀\n",
    "ax.set_xlabel('일짜') #x축 라벨 \n",
    "ax.set_ylabel(\"기온'('c')\") #y축 라벨\n",
    "ax2.set_ylabel(\"습도\")\n",
    "ax.legend(['온도'],loc='upper right')\n",
    "ax2.legend(['습도'],loc='lower right')"
   ]
  },
  {
   "cell_type": "code",
   "execution_count": 93,
   "id": "79fe8b80",
   "metadata": {},
   "outputs": [
    {
     "data": {
      "text/plain": [
       "<matplotlib.legend.Legend at 0x1f256be70f0>"
      ]
     },
     "execution_count": 93,
     "metadata": {},
     "output_type": "execute_result"
    },
    {
     "data": {
      "image/png": "[encoded data removed]",
      "text/plain": [
       "<Figure size 432x288 with 2 Axes>"
      ]
     },
     "metadata": {
      "needs_background": "light"
     },
     "output_type": "display_data"
    }
   ],
   "source": [
    "fig=plt.figure()\n",
    "ax=fig.add_subplot(111)\n",
    "ax2=ax.twinx()\n",
    "ax2.plot(df.일시,df.기온,color='gray',lw=3)\n",
    "ax.bar(df.일시,df.습도,color='beige')\n",
    "ax.set_xticks(['2020-10-10 1:00','2020-10-10 11:00','2020-10-10 20:00'])\n",
    "ax.legend(['습도'],loc='upper right')\n",
    "ax2.legend(['기온'],loc='lower right')"
   ]
  },
  {
   "cell_type": "code",
   "execution_count": 89,
   "id": "97da87bd",
   "metadata": {},
   "outputs": [],
   "source": [
    "ax.legend??"
   ]
  }
 ],
 "metadata": {
  "kernelspec": {
   "display_name": "Python 3",
   "language": "python",
   "name": "python3"
  },
  "language_info": {
   "codemirror_mode": {
    "name": "ipython",
    "version": 3
   },
   "file_extension": ".py",
   "mimetype": "text/x-python",
   "name": "python",
   "nbconvert_exporter": "python",
   "pygments_lexer": "ipython3",
   "version": "3.5.6"
  }
 },
 "nbformat": 4,
 "nbformat_minor": 5
}
