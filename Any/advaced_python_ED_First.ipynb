{
 "cells": [
  {
   "cell_type": "code",
   "execution_count": 1,
   "id": "1b2daf94",
   "metadata": {
    "ExecuteTime": {
     "end_time": "2022-10-20T12:50:52.353102Z",
     "start_time": "2022-10-20T12:50:52.329487Z"
    }
   },
   "outputs": [],
   "source": [
    "import collections"
   ]
  },
  {
   "cell_type": "code",
   "execution_count": 2,
   "id": "5ab18490",
   "metadata": {
    "ExecuteTime": {
     "end_time": "2022-10-20T12:50:52.369864Z",
     "start_time": "2022-10-20T12:50:52.354101Z"
    }
   },
   "outputs": [
    {
     "name": "stdout",
     "output_type": "stream",
     "text": [
      "1\n"
     ]
    }
   ],
   "source": [
    "d1=(1,2)\n",
    "d2=(2,3)\n",
    "print(d1[0])\n",
    "# 기존 튜플형태는 인덱싱으로 원소접근"
   ]
  },
  {
   "cell_type": "markdown",
   "id": "b8c32fd9",
   "metadata": {},
   "source": [
    "### namedtuple\n",
    "* 이름이있는 튜플 이름으로 속성접근이 가능하다"
   ]
  },
  {
   "cell_type": "code",
   "execution_count": 3,
   "id": "5e93eab7",
   "metadata": {
    "ExecuteTime": {
     "end_time": "2022-10-20T12:50:52.394588Z",
     "start_time": "2022-10-20T12:50:52.375234Z"
    }
   },
   "outputs": [
    {
     "name": "stdout",
     "output_type": "stream",
     "text": [
      "<class '__main__.point'>\n",
      "point(x=11, y=22)\n",
      "11\n",
      "22\n"
     ]
    }
   ],
   "source": [
    "ord=collections.namedtuple('point',['x','y']) #tpyename Tuple의 서브클래스\n",
    "print(ord)\n",
    "data=ord(11,22)\n",
    "print(data) #data가 point라는 이름의 x,y필드를 가진다\n",
    "print(data.x) #속성으로 접근가능\n",
    "print(data.y)"
   ]
  },
  {
   "cell_type": "markdown",
   "id": "0f6690d6",
   "metadata": {},
   "source": [
    "### dqueue를 이용한 자료구조 구현"
   ]
  },
  {
   "cell_type": "code",
   "execution_count": 4,
   "id": "2084cf9b",
   "metadata": {
    "ExecuteTime": {
     "end_time": "2022-10-20T12:50:52.409937Z",
     "start_time": "2022-10-20T12:50:52.399589Z"
    }
   },
   "outputs": [
    {
     "name": "stdout",
     "output_type": "stream",
     "text": [
      "<class 'collections.deque'>\n",
      "deque([9, 7, 5, 3, 1])\n",
      "출력된 데이타  1\n",
      "출력된 데이타  3\n",
      "출력된 데이타  5\n",
      "출력된 데이타  7\n",
      "출력된 데이타  9\n",
      "\n",
      "deque([0, 1, 2, 3, 4, 5, 6, 7, 8, 9])\n",
      "출력된 데이타 9\n",
      "출력된 데이타 8\n",
      "출력된 데이타 7\n",
      "출력된 데이타 6\n",
      "출력된 데이타 5\n",
      "출력된 데이타 4\n",
      "출력된 데이타 3\n",
      "출력된 데이타 2\n",
      "출력된 데이타 1\n",
      "출력된 데이타 0\n",
      "\n",
      "deque([0, 1, 2, 3, 4, 5, 6, 7, 8, 9])\n",
      "deque([9, 0, 1, 2, 3, 4, 5, 6, 7, 8])\n",
      "deque([7, 8, 9, 0, 1, 2, 3, 4, 5, 6])\n"
     ]
    }
   ],
   "source": [
    "def queue(): #FIFO\n",
    "    data=collections.deque()\n",
    "    print(type(data))\n",
    "    for i in range(1,11,2):\n",
    "        data.appendleft(i) #삽입순서 1,3,5,7,9 out순서 1,3,5,7,9\n",
    "    print(data)\n",
    "    for _ in range(len(data)):\n",
    "        print(\"출력된 데이타 \",data.pop())\n",
    "    print()\n",
    "        \n",
    "def stack(): #FILO\n",
    "    data=collections.deque()\n",
    "    for i in range(10):\n",
    "        data.append(i)\n",
    "    print(data)\n",
    "    for _ in range(len(data)):\n",
    "        print(\"출력된 데이타\",data.pop())\n",
    "    print()\n",
    "    \n",
    "def Circle_queue(): #환형큐 한바퀴돌림\n",
    "    data=collections.deque()\n",
    "    for i in range(10):\n",
    "        data.append(i)\n",
    "    print(data)\n",
    "    data.rotate(1) #한칸미루기\n",
    "    print(data)\n",
    "    data.rotate(2)\n",
    "    print(data)\n",
    "    \n",
    "    \n",
    "if __name__==\"__main__\":\n",
    "    queue()\n",
    "    stack()\n",
    "    Circle_queue()"
   ]
  },
  {
   "cell_type": "markdown",
   "id": "2762f734",
   "metadata": {},
   "source": [
    "### Counter를 이용한 sequenc의 데이터갯수 세기\n",
    "* 같은값들이 몇번 나타나는지 반환-> Sequence 해당\n",
    "* 요소가 딕셔너리 키로 저장되고 개수가 딕셔너리값으로 저장된다"
   ]
  },
  {
   "cell_type": "code",
   "execution_count": 5,
   "id": "2ccda3d3",
   "metadata": {
    "ExecuteTime": {
     "end_time": "2022-10-20T12:50:52.426269Z",
     "start_time": "2022-10-20T12:50:52.413273Z"
    }
   },
   "outputs": [
    {
     "name": "stdout",
     "output_type": "stream",
     "text": [
      "Counter({1: 2, 2: 2, 3: 1, 4: 1, 5: 1, 6: 1})\n"
     ]
    }
   ],
   "source": [
    "#Colleticn.Counter  Sequnce 자료형의 데이터값의 개수를 dict로 return한다\n",
    "\n",
    "data=[1,1,2,2,3,4,5,6]\n",
    "data_count=collections.Counter(data)\n",
    "print(data_count)"
   ]
  },
  {
   "cell_type": "code",
   "execution_count": 6,
   "id": "f62b7913",
   "metadata": {
    "ExecuteTime": {
     "end_time": "2022-10-20T12:50:52.442286Z",
     "start_time": "2022-10-20T12:50:52.429270Z"
    }
   },
   "outputs": [
    {
     "name": "stdout",
     "output_type": "stream",
     "text": [
      "a 100\n",
      "c 300\n",
      "b 200\n",
      "[('a', 100), ('b', 200), ('c', 300)]\n"
     ]
    }
   ],
   "source": [
    "#OrderedDIct 순서가있는 dict\n",
    "data=collections.OrderedDict()\n",
    "\n",
    "data['a']=100\n",
    "data['c']=300\n",
    "data['b']=200\n",
    "\n",
    "for key,value in data.items(): \n",
    "    print(key,value)\n",
    "    \n",
    "print(sorted(data.items())) #sorted by key\n",
    "\n",
    "    \n"
   ]
  },
  {
   "cell_type": "markdown",
   "id": "c8deab6d",
   "metadata": {},
   "source": [
    "### defaultdict\n",
    "\n",
    "* 말그대로 처음 키를 지정할떄 value값을 주지않으면 어떤키에 대한 value값을 디폴트 값을 지정하겠다는뜻"
   ]
  },
  {
   "cell_type": "code",
   "execution_count": 7,
   "id": "6f76e309",
   "metadata": {
    "ExecuteTime": {
     "end_time": "2022-10-20T12:50:52.457941Z",
     "start_time": "2022-10-20T12:50:52.445627Z"
    }
   },
   "outputs": [
    {
     "name": "stdout",
     "output_type": "stream",
     "text": [
      "defaultdict(<class 'list'>, {'hello': [1, 2], 'test': []})\n"
     ]
    }
   ],
   "source": [
    "data=collections.defaultdict(list)\n",
    "\n",
    "data['hello']\n",
    "data['hello']=[1,2]\n",
    "data[\"test\"] #key값이 default값으로 value에 list할당\n",
    "print(data)"
   ]
  },
  {
   "cell_type": "markdown",
   "id": "75d603da",
   "metadata": {},
   "source": [
    "### list comprehension"
   ]
  },
  {
   "cell_type": "code",
   "execution_count": 8,
   "id": "71fded2d",
   "metadata": {
    "ExecuteTime": {
     "end_time": "2022-10-20T12:50:52.473522Z",
     "start_time": "2022-10-20T12:50:52.461084Z"
    }
   },
   "outputs": [
    {
     "name": "stdout",
     "output_type": "stream",
     "text": [
      "[[0, 1, 2, 3, 4], [1, 2, 3, 4, 5], [2, 3, 4, 5, 6]]\n"
     ]
    }
   ],
   "source": [
    "data=[[a+b for a in range(5)]for b in range(3)] #3행 5열생성\n",
    "print(data)"
   ]
  },
  {
   "cell_type": "code",
   "execution_count": 9,
   "id": "fc2c5a57",
   "metadata": {
    "ExecuteTime": {
     "end_time": "2022-10-20T12:50:52.489851Z",
     "start_time": "2022-10-20T12:50:52.476595Z"
    }
   },
   "outputs": [
    {
     "name": "stdout",
     "output_type": "stream",
     "text": [
      "[0, 3, 6, 9]\n",
      "[0, 0, 2, 0, 4, 0, 6, 0, 8, 0, 10, 0, 12, 0, 14, 0, 16, 0, 18, 0]\n"
     ]
    }
   ],
   "source": [
    "arr=[i for i in range(10) if i%3==0] #if문하나만 있을시 \n",
    "print(arr)\n",
    "arr=[i if i%2==0 else 0 for i in range(20)] #if else문 전부존재시\n",
    "print(arr)"
   ]
  },
  {
   "cell_type": "markdown",
   "id": "2404f859",
   "metadata": {},
   "source": [
    "### 반복의 중첩"
   ]
  },
  {
   "cell_type": "code",
   "execution_count": 10,
   "id": "0a6b2c3b",
   "metadata": {
    "ExecuteTime": {
     "end_time": "2022-10-20T12:50:52.506124Z",
     "start_time": "2022-10-20T12:50:52.494833Z"
    }
   },
   "outputs": [
    {
     "name": "stdout",
     "output_type": "stream",
     "text": [
      "[0, 0, 0, 1, 1, 1, 2, 2, 2, 3, 3, 3, 4, 4, 4]\n"
     ]
    }
   ],
   "source": [
    "data=[i for i in range(5) for j in range(3)]\n",
    "print(data)\n",
    "#i가 0~4 까지 각숫자가 3번씩찍힌다"
   ]
  },
  {
   "cell_type": "code",
   "execution_count": 11,
   "id": "7b9b7d33",
   "metadata": {
    "ExecuteTime": {
     "end_time": "2022-10-20T12:50:52.514342Z",
     "start_time": "2022-10-20T12:50:52.508304Z"
    }
   },
   "outputs": [
    {
     "name": "stdout",
     "output_type": "stream",
     "text": [
      "[[0], [0], [0], [1], [1], [1], [2], [2], [2], [3], [3], [3], [4], [4], [4]]\n"
     ]
    }
   ],
   "source": [
    "data=[[i] for i in range(5) for j in range(3)] #2차원 배열로 할당\n",
    "print(data)"
   ]
  },
  {
   "cell_type": "code",
   "execution_count": 12,
   "id": "3e5480e8",
   "metadata": {
    "ExecuteTime": {
     "end_time": "2022-10-20T12:50:52.538172Z",
     "start_time": "2022-10-20T12:50:52.517479Z"
    }
   },
   "outputs": [
    {
     "name": "stdout",
     "output_type": "stream",
     "text": [
      "[[0, 1, 2], [0, 1, 2], [0, 1, 2], [0, 1, 2]]\n"
     ]
    }
   ],
   "source": [
    "data=[[ i for i in range(3)]for j in range(4)] #4행 3열 발생\n",
    "print(data) "
   ]
  },
  {
   "cell_type": "code",
   "execution_count": 32,
   "id": "f37a32ef",
   "metadata": {
    "ExecuteTime": {
     "end_time": "2022-10-20T12:57:55.056274Z",
     "start_time": "2022-10-20T12:57:55.050466Z"
    }
   },
   "outputs": [
    {
     "name": "stdout",
     "output_type": "stream",
     "text": [
      "[2, 2, 2, 3, 3, 3, 4, 4, 4, 5, 5, 5, 6, 6, 6, 7, 7, 7, 8, 8, 8, 9, 9, 9]\n"
     ]
    }
   ],
   "source": [
    "res=[x for x in range(2,10) for y in range(3)]\n",
    "print(res)"
   ]
  },
  {
   "cell_type": "markdown",
   "id": "d848bf31",
   "metadata": {},
   "source": [
    "### dictionary comprehension"
   ]
  },
  {
   "cell_type": "code",
   "execution_count": 14,
   "id": "f4fe004a",
   "metadata": {
    "ExecuteTime": {
     "end_time": "2022-10-20T12:50:52.577896Z",
     "start_time": "2022-10-20T12:50:52.557899Z"
    }
   },
   "outputs": [
    {
     "name": "stdout",
     "output_type": "stream",
     "text": [
      "{'math': 80, 'ko': 70, 'eng': 90}\n",
      "<class 'dict'>\n"
     ]
    }
   ],
   "source": [
    "data=['math','ko','eng']\n",
    "sco=[80,70,90,80]\n",
    "\n",
    "res={key:val for key,val in zip(data,sco)}\n",
    "print(res)\n",
    "print(type(res))"
   ]
  },
  {
   "cell_type": "markdown",
   "id": "87daace2",
   "metadata": {},
   "source": [
    "### enumerate (iterable) zip\n",
    "\n",
    "* enumerate Sequence의 데이터를 입력받아 index가 부여된 enumerate객체 반환\n",
    "* zip Sequence를받아서 짝을 지어준다 zip객체 반환"
   ]
  },
  {
   "cell_type": "code",
   "execution_count": 47,
   "id": "a4eb27b7",
   "metadata": {
    "ExecuteTime": {
     "end_time": "2022-10-20T13:09:09.248388Z",
     "start_time": "2022-10-20T13:09:09.234935Z"
    }
   },
   "outputs": [
    {
     "name": "stdout",
     "output_type": "stream",
     "text": [
      "<enumerate object at 0x0000027B45B22C80>\n",
      "<class 'enumerate'>\n",
      "(0, 'first')\n",
      "(1, 'second')\n",
      "(2, 'third')\n",
      "[(0, 't'), (1, 'e'), (2, 's'), (3, 't')]\n"
     ]
    }
   ],
   "source": [
    "data=enumerate(['first','second','third'])\n",
    "print(data)\n",
    "print(type(data))\n",
    "for i in range(3):\n",
    "    print(data.__next__()) #iterable객체\n",
    "data=enumerate(\"test\")\n",
    "print(list(data))\n"
   ]
  },
  {
   "cell_type": "code",
   "execution_count": 16,
   "id": "e12113c0",
   "metadata": {
    "ExecuteTime": {
     "end_time": "2022-10-20T12:50:52.609618Z",
     "start_time": "2022-10-20T12:50:52.597159Z"
    }
   },
   "outputs": [
    {
     "name": "stdout",
     "output_type": "stream",
     "text": [
      "0 l\n",
      "1 o\n",
      "2 v\n",
      "3 e\n"
     ]
    }
   ],
   "source": [
    "data=enumerate(\"love\")\n",
    "for key,value in data:\n",
    "    print(key,value)"
   ]
  },
  {
   "cell_type": "code",
   "execution_count": 49,
   "id": "d9f46d0a",
   "metadata": {
    "ExecuteTime": {
     "end_time": "2022-10-20T13:16:24.121597Z",
     "start_time": "2022-10-20T13:16:24.104617Z"
    }
   },
   "outputs": [
    {
     "name": "stdout",
     "output_type": "stream",
     "text": [
      "(1, 2, 3) ('t', 'z', 'k')\n",
      "<class 'tuple'>\n"
     ]
    }
   ],
   "source": [
    "nums=[1,2,3,4]\n",
    "letters=['t','z','k']\n",
    "zip_res=zip(nums,letters)\n",
    "# for key,value in zip_res:\n",
    "#     print(key,value)\n",
    "    \n",
    "x,y=zip(*zip_res) #zip함수를이용하되 인자에 *을붙인다 tuple형태로 unpacking\n",
    "print(x,y)\n",
    "print(type(x))"
   ]
  },
  {
   "cell_type": "markdown",
   "id": "188b2271",
   "metadata": {},
   "source": [
    "### lambda\n",
    "\n",
    "* lambda 인수:식\n",
    "* 한줄짜리 축약함수 자동 retunr if while 사용불가"
   ]
  },
  {
   "cell_type": "markdown",
   "id": "c0c61f36",
   "metadata": {},
   "source": [
    "### map filter reduce\n",
    "\n",
    "* map Sequence의 각요소를 함수 f에 적용한결과를 map객체로 반환\n",
    "* filter iterable 각요소를 함수에 적용한후 반환값이 true인것만 묶어서 반환\n",
    "* Sequence의 각요소를 차례대로 함수에적용하여 그전값과 현재구한값을 계속 더해간다"
   ]
  },
  {
   "cell_type": "code",
   "execution_count": 18,
   "id": "9047760c",
   "metadata": {
    "ExecuteTime": {
     "end_time": "2022-10-20T12:50:52.633683Z",
     "start_time": "2022-10-20T12:50:52.628779Z"
    }
   },
   "outputs": [
    {
     "name": "stdout",
     "output_type": "stream",
     "text": [
      "4\n"
     ]
    }
   ],
   "source": [
    "func=lambda x:x*2\n",
    "print(func(2))"
   ]
  },
  {
   "cell_type": "code",
   "execution_count": 19,
   "id": "bc617458",
   "metadata": {
    "ExecuteTime": {
     "end_time": "2022-10-20T12:50:52.656871Z",
     "start_time": "2022-10-20T12:50:52.637090Z"
    }
   },
   "outputs": [
    {
     "name": "stdout",
     "output_type": "stream",
     "text": [
      "<map object at 0x0000027B2BE59450>\n"
     ]
    },
    {
     "data": {
      "text/plain": [
       "[2, 4, 6, 8, 10, 12, 14, 16, 18, 20]"
      ]
     },
     "execution_count": 19,
     "metadata": {},
     "output_type": "execute_result"
    }
   ],
   "source": [
    "arr=[1,2,3,4,5,6,7,8,9,10]\n",
    "print(map(func,arr)) ##map객체로 표혀됨\n",
    "list(map(func,arr))"
   ]
  },
  {
   "cell_type": "code",
   "execution_count": 20,
   "id": "d0042089",
   "metadata": {
    "ExecuteTime": {
     "end_time": "2022-10-20T12:50:52.680262Z",
     "start_time": "2022-10-20T12:50:52.658869Z"
    }
   },
   "outputs": [
    {
     "name": "stdout",
     "output_type": "stream",
     "text": [
      "[2, 4, 6, 8, 10]\n",
      "[2, 4, 6, 8, 10]\n"
     ]
    }
   ],
   "source": [
    "func=lambda x:x%2==0\n",
    "func_1= lambda x:True if x%2==0 else False #lamda의 조건절을 넣을떄의 문법\n",
    "print(list(filter(func,arr)))\n",
    "print(list(filter(func,arr)))\n"
   ]
  },
  {
   "cell_type": "code",
   "execution_count": 21,
   "id": "636b2b42",
   "metadata": {
    "ExecuteTime": {
     "end_time": "2022-10-20T12:50:52.695398Z",
     "start_time": "2022-10-20T12:50:52.683163Z"
    }
   },
   "outputs": [
    {
     "name": "stdout",
     "output_type": "stream",
     "text": [
      "[2, 4, 6, 8]\n"
     ]
    }
   ],
   "source": [
    "arr=[1,2,3,4,5,6,7,8,9]\n",
    "data=lambda x:x%2==0\n",
    "print(list(filter(data,arr))) #filter(함수,배열)\n",
    "\n",
    "#lambda식이 참인것만 arr에서 골라내어 출력한다"
   ]
  },
  {
   "cell_type": "code",
   "execution_count": 22,
   "id": "b400f9ad",
   "metadata": {
    "ExecuteTime": {
     "end_time": "2022-10-20T12:50:52.703533Z",
     "start_time": "2022-10-20T12:50:52.698398Z"
    }
   },
   "outputs": [
    {
     "name": "stdout",
     "output_type": "stream",
     "text": [
      "[2, 4, 6, 8]\n"
     ]
    }
   ],
   "source": [
    "arr=[1,2,3,4,5,6,7,8,9]\n",
    "func=lambda x:True if x%2==0 else False\n",
    "print(list(filter(func,arr)))"
   ]
  },
  {
   "cell_type": "code",
   "execution_count": 23,
   "id": "bf41ffd0",
   "metadata": {
    "ExecuteTime": {
     "end_time": "2022-10-20T12:50:52.711131Z",
     "start_time": "2022-10-20T12:50:52.706614Z"
    }
   },
   "outputs": [],
   "source": [
    "from functools import reduce"
   ]
  },
  {
   "cell_type": "code",
   "execution_count": 24,
   "id": "53754163",
   "metadata": {
    "ExecuteTime": {
     "end_time": "2022-10-20T12:50:52.726866Z",
     "start_time": "2022-10-20T12:50:52.714482Z"
    }
   },
   "outputs": [
    {
     "name": "stdout",
     "output_type": "stream",
     "text": [
      "45\n"
     ]
    }
   ],
   "source": [
    "arr=[1,2,3,4,5,6,7,8,9]\n",
    "f=lambda x,y:x+y\n",
    "print(reduce(f,arr))\n",
    "# lambda함수 인수x는 이전계산결과 y는 다음요소"
   ]
  },
  {
   "cell_type": "markdown",
   "id": "34edac99",
   "metadata": {},
   "source": [
    "### Generator\n",
    "* Sequence 객체들은 iteration제공  string dict list tuple\n",
    "* return Generaotr객체"
   ]
  },
  {
   "cell_type": "code",
   "execution_count": 25,
   "id": "cb6892d9",
   "metadata": {
    "ExecuteTime": {
     "end_time": "2022-10-20T12:50:52.743049Z",
     "start_time": "2022-10-20T12:50:52.730440Z"
    }
   },
   "outputs": [
    {
     "name": "stdout",
     "output_type": "stream",
     "text": [
      "<generator object count at 0x0000027B2BE2A500>\n",
      "5\n",
      "4\n",
      "3\n",
      "2\n",
      "1\n"
     ]
    }
   ],
   "source": [
    "def count(n):\n",
    "    while n>0:\n",
    "        yield n\n",
    "        n=n-1\n",
    "data=count(5)\n",
    "print(data) #data=Generator객체\n",
    "for i in range(5):\n",
    "    print(data.__next__()) #next(data) 동일 작동\n",
    "   "
   ]
  },
  {
   "cell_type": "code",
   "execution_count": 26,
   "id": "4e3e3e5e",
   "metadata": {
    "ExecuteTime": {
     "end_time": "2022-10-20T12:50:52.758823Z",
     "start_time": "2022-10-20T12:50:52.745788Z"
    }
   },
   "outputs": [
    {
     "name": "stdout",
     "output_type": "stream",
     "text": [
      "[1, 2, 3, 4, 1, 2, 3, 4, 1, 2, 3, 4, 1, 2, 3, 4]\n"
     ]
    }
   ],
   "source": [
    "def multi_generator():\n",
    "    arr=[1,2,3,4]\n",
    "    for i in arr:\n",
    "        yield from arr #Sequence iteration객체를 yield할떄는 yield from Sequence사용\n",
    "        \n",
    "print(list(multi_generator())) #Sequence->값이 연속적으롱 이어지는 type"
   ]
  },
  {
   "cell_type": "code",
   "execution_count": 27,
   "id": "8ef58750",
   "metadata": {
    "ExecuteTime": {
     "end_time": "2022-10-20T12:50:52.774744Z",
     "start_time": "2022-10-20T12:50:52.761248Z"
    }
   },
   "outputs": [],
   "source": [
    "class MyItercls:\n",
    "    def __init__(self):\n",
    "        self.data=list()\n",
    "    def __iter__(self): #Iteration만들기\n",
    "        return self.data.__iter__()\n"
   ]
  },
  {
   "cell_type": "markdown",
   "id": "5c970399",
   "metadata": {},
   "source": [
    "### Decorator\n",
    "* closure 외부함수에서 내부함수를 정의\n",
    "* 외부함수는 내부함수 객체를 반환"
   ]
  },
  {
   "cell_type": "code",
   "execution_count": 28,
   "id": "90b07ac8",
   "metadata": {
    "ExecuteTime": {
     "end_time": "2022-10-20T12:50:52.791508Z",
     "start_time": "2022-10-20T12:50:52.782177Z"
    }
   },
   "outputs": [
    {
     "name": "stdout",
     "output_type": "stream",
     "text": [
      "<function out.<locals>.inner at 0x0000027B2BE15120>\n",
      "5\n"
     ]
    }
   ],
   "source": [
    "def out(num):\n",
    "    def inner():\n",
    "        print(num)\n",
    "    return inner\n",
    "print(out(5)) #내부함수 객체를 반환\n",
    "f=out(5) #내부함수 객체를 반환\n",
    "f()"
   ]
  },
  {
   "cell_type": "code",
   "execution_count": 29,
   "id": "605fb4bb",
   "metadata": {
    "ExecuteTime": {
     "end_time": "2022-10-20T12:50:52.812305Z",
     "start_time": "2022-10-20T12:50:52.793847Z"
    }
   },
   "outputs": [
    {
     "name": "stdout",
     "output_type": "stream",
     "text": [
      "시작 1666270252.7991729\n",
      "5 kello 18\n",
      "종료 1666270252.7991729\n"
     ]
    }
   ],
   "source": [
    "import time\n",
    "def time_check(func):\n",
    "    def wrapper(*args,**kwargs): ##가변이수 키워드 가변인수\n",
    "        start=time.time()\n",
    "        print(\"시작\",start)\n",
    "        func(*args,**kwargs)\n",
    "        end=time.time()\n",
    "        print(\"종료\",end)\n",
    "    return wrapper\n",
    "@time_check\n",
    "def user(n,user=\"kello\",age=18):\n",
    "    print(n,user,age)\n",
    "    \n",
    "    \n",
    "user(5)"
   ]
  },
  {
   "cell_type": "code",
   "execution_count": 51,
   "id": "2e7f1307",
   "metadata": {
    "ExecuteTime": {
     "end_time": "2022-10-20T13:25:01.000691Z",
     "start_time": "2022-10-20T13:25:00.983608Z"
    }
   },
   "outputs": [
    {
     "name": "stdout",
     "output_type": "stream",
     "text": [
      "func 시작\n",
      "hello\n",
      "func 종료\n",
      "number_func 시작\n",
      "(5,)\n",
      "number_func 종료\n"
     ]
    }
   ],
   "source": [
    "def trace(func):\n",
    "    def wrapper(*args,**kwargs):\n",
    "        print(func.__name__,'시작')\n",
    "        func(*args,**kwargs)\n",
    "        print(func.__name__,'종료')\n",
    "    return wrapper\n",
    "    \n",
    "@trace\n",
    "def func():\n",
    "    print('hello')\n",
    "@trace\n",
    "def number_func(*number):\n",
    "    print(number)\n",
    "func()\n",
    "number_func(5)"
   ]
  },
  {
   "cell_type": "markdown",
   "id": "1aa47a00",
   "metadata": {},
   "source": [
    "### assert\n",
    "\n",
    "* assert<표현식> [,'진단 메세지']  \n",
    "* 참이 아니면 AssertionError 발생\n"
   ]
  },
  {
   "cell_type": "code",
   "execution_count": 31,
   "id": "f6aabe81",
   "metadata": {
    "ExecuteTime": {
     "end_time": "2022-10-20T12:50:53.592688Z",
     "start_time": "2022-10-20T12:50:52.839539Z"
    }
   },
   "outputs": [
    {
     "ename": "AssertionError",
     "evalue": "Expeted int x",
     "output_type": "error",
     "traceback": [
      "\u001b[1;31m---------------------------------------------------------------------------\u001b[0m",
      "\u001b[1;31mAssertionError\u001b[0m                            Traceback (most recent call last)",
      "Cell \u001b[1;32mIn [31], line 5\u001b[0m\n\u001b[0;32m      2\u001b[0m     \u001b[38;5;28;01massert\u001b[39;00m  \u001b[38;5;28misinstance\u001b[39m(x,\u001b[38;5;28mint\u001b[39m),\u001b[38;5;124m'\u001b[39m\u001b[38;5;124mExpeted int x\u001b[39m\u001b[38;5;124m'\u001b[39m\n\u001b[0;32m      3\u001b[0m     \u001b[38;5;28;01massert\u001b[39;00m  \u001b[38;5;28misinstance\u001b[39m(y,\u001b[38;5;28mint\u001b[39m),\u001b[38;5;124m'\u001b[39m\u001b[38;5;124mExpeted int y\u001b[39m\u001b[38;5;124m'\u001b[39m\n\u001b[1;32m----> 5\u001b[0m \u001b[43mcheck\u001b[49m\u001b[43m(\u001b[49m\u001b[38;5;241;43m3.5\u001b[39;49m\u001b[43m,\u001b[49m\u001b[38;5;241;43m3\u001b[39;49m\u001b[43m)\u001b[49m\n",
      "Cell \u001b[1;32mIn [31], line 2\u001b[0m, in \u001b[0;36mcheck\u001b[1;34m(x, y)\u001b[0m\n\u001b[0;32m      1\u001b[0m \u001b[38;5;28;01mdef\u001b[39;00m \u001b[38;5;21mcheck\u001b[39m(x,y):\n\u001b[1;32m----> 2\u001b[0m     \u001b[38;5;28;01massert\u001b[39;00m  \u001b[38;5;28misinstance\u001b[39m(x,\u001b[38;5;28mint\u001b[39m),\u001b[38;5;124m'\u001b[39m\u001b[38;5;124mExpeted int x\u001b[39m\u001b[38;5;124m'\u001b[39m\n\u001b[0;32m      3\u001b[0m     \u001b[38;5;28;01massert\u001b[39;00m  \u001b[38;5;28misinstance\u001b[39m(y,\u001b[38;5;28mint\u001b[39m),\u001b[38;5;124m'\u001b[39m\u001b[38;5;124mExpeted int y\u001b[39m\u001b[38;5;124m'\u001b[39m\n",
      "\u001b[1;31mAssertionError\u001b[0m: Expeted int x"
     ]
    }
   ],
   "source": [
    "def check(x,y):\n",
    "    assert  isinstance(x,int),'Expeted int x'\n",
    "    assert  isinstance(y,int),'Expeted int y'\n",
    "    \n",
    "check(3.5,3)"
   ]
  }
 ],
 "metadata": {
  "kernelspec": {
   "display_name": "Python 3 (ipykernel)",
   "language": "python",
   "name": "python3"
  },
  "language_info": {
   "codemirror_mode": {
    "name": "ipython",
    "version": 3
   },
   "file_extension": ".py",
   "mimetype": "text/x-python",
   "name": "python",
   "nbconvert_exporter": "python",
   "pygments_lexer": "ipython3",
   "version": "3.10.4"
  }
 },
 "nbformat": 4,
 "nbformat_minor": 5
}
