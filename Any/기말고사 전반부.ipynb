{
 "cells": [
  {
   "cell_type": "code",
   "execution_count": 1,
   "id": "28cb0692",
   "metadata": {
    "ExecuteTime": {
     "end_time": "2022-12-15T13:04:09.967690Z",
     "start_time": "2022-12-15T13:04:09.371339Z"
    }
   },
   "outputs": [],
   "source": [
    "import numpy as np\n",
    "import random"
   ]
  },
  {
   "cell_type": "markdown",
   "id": "3b533639",
   "metadata": {
    "ExecuteTime": {
     "end_time": "2022-12-14T04:06:46.320762Z",
     "start_time": "2022-12-14T04:06:46.313701Z"
    }
   },
   "source": [
    "### ndarray 생성방법"
   ]
  },
  {
   "cell_type": "code",
   "execution_count": 2,
   "id": "e7a22165",
   "metadata": {
    "ExecuteTime": {
     "end_time": "2022-12-15T13:04:09.991698Z",
     "start_time": "2022-12-15T13:04:09.972780Z"
    }
   },
   "outputs": [
    {
     "data": {
      "text/plain": [
       "array([1, 2, 3, 4])"
      ]
     },
     "execution_count": 2,
     "metadata": {},
     "output_type": "execute_result"
    }
   ],
   "source": [
    "n1 = np.array([1,2,3,4])\n",
    "n1"
   ]
  },
  {
   "cell_type": "code",
   "execution_count": 3,
   "id": "31eeedd5",
   "metadata": {
    "ExecuteTime": {
     "end_time": "2022-12-15T13:04:10.009950Z",
     "start_time": "2022-12-15T13:04:09.995605Z"
    }
   },
   "outputs": [
    {
     "data": {
      "text/plain": [
       "array([1, 3, 5])"
      ]
     },
     "execution_count": 3,
     "metadata": {},
     "output_type": "execute_result"
    }
   ],
   "source": [
    "n1 = np.arange(1,6,2)\n",
    "n1"
   ]
  },
  {
   "cell_type": "code",
   "execution_count": 4,
   "id": "5b51a9fc",
   "metadata": {
    "ExecuteTime": {
     "end_time": "2022-12-15T13:04:10.031584Z",
     "start_time": "2022-12-15T13:04:10.015210Z"
    }
   },
   "outputs": [
    {
     "data": {
      "text/plain": [
       "array([ 0. ,  2.5,  5. ,  7.5, 10. ])"
      ]
     },
     "execution_count": 4,
     "metadata": {},
     "output_type": "execute_result"
    }
   ],
   "source": [
    "n1 = np.linspace(0,10,5)\n",
    "n1"
   ]
  },
  {
   "cell_type": "code",
   "execution_count": 5,
   "id": "4f52c6b9",
   "metadata": {
    "ExecuteTime": {
     "end_time": "2022-12-15T13:04:10.049560Z",
     "start_time": "2022-12-15T13:04:10.034845Z"
    }
   },
   "outputs": [
    {
     "data": {
      "text/plain": [
       "array([[0., 0., 0.],\n",
       "       [0., 0., 0.]])"
      ]
     },
     "execution_count": 5,
     "metadata": {},
     "output_type": "execute_result"
    }
   ],
   "source": [
    "n1 = np.zeros((2,3))\n",
    "n1"
   ]
  },
  {
   "cell_type": "code",
   "execution_count": 6,
   "id": "f7357871",
   "metadata": {
    "ExecuteTime": {
     "end_time": "2022-12-15T13:04:10.065250Z",
     "start_time": "2022-12-15T13:04:10.052545Z"
    }
   },
   "outputs": [
    {
     "data": {
      "text/plain": [
       "array([[1., 1.],\n",
       "       [1., 1.]])"
      ]
     },
     "execution_count": 6,
     "metadata": {},
     "output_type": "execute_result"
    }
   ],
   "source": [
    "n1 = np.ones((2,2))\n",
    "n1"
   ]
  },
  {
   "cell_type": "code",
   "execution_count": 7,
   "id": "1fc18c5f",
   "metadata": {
    "ExecuteTime": {
     "end_time": "2022-12-15T13:04:10.080596Z",
     "start_time": "2022-12-15T13:04:10.068717Z"
    }
   },
   "outputs": [
    {
     "data": {
      "text/plain": [
       "array([[1., 1.],\n",
       "       [1., 1.]])"
      ]
     },
     "execution_count": 7,
     "metadata": {},
     "output_type": "execute_result"
    }
   ],
   "source": [
    "n1 = np.empty((2,2))\n",
    "n1"
   ]
  },
  {
   "cell_type": "code",
   "execution_count": 8,
   "id": "de637a00",
   "metadata": {
    "ExecuteTime": {
     "end_time": "2022-12-15T13:04:10.096541Z",
     "start_time": "2022-12-15T13:04:10.084373Z"
    }
   },
   "outputs": [
    {
     "data": {
      "text/plain": [
       "array([[5, 5, 5],\n",
       "       [5, 5, 5]])"
      ]
     },
     "execution_count": 8,
     "metadata": {},
     "output_type": "execute_result"
    }
   ],
   "source": [
    "n1 = np.full((2,3),5)\n",
    "n1"
   ]
  },
  {
   "cell_type": "markdown",
   "id": "56a526f7",
   "metadata": {},
   "source": [
    "### 난수로 ndarray 생성"
   ]
  },
  {
   "cell_type": "code",
   "execution_count": 9,
   "id": "7a67ff1d",
   "metadata": {
    "ExecuteTime": {
     "end_time": "2022-12-15T13:04:10.117785Z",
     "start_time": "2022-12-15T13:04:10.099659Z"
    }
   },
   "outputs": [
    {
     "data": {
      "text/plain": [
       "array([5, 9, 7, 0, 2])"
      ]
     },
     "execution_count": 9,
     "metadata": {},
     "output_type": "execute_result"
    }
   ],
   "source": [
    "n1 = np.random.randint(10,size=5)\n",
    "n1"
   ]
  },
  {
   "cell_type": "code",
   "execution_count": 10,
   "id": "79aab883",
   "metadata": {
    "ExecuteTime": {
     "end_time": "2022-12-15T13:04:10.133044Z",
     "start_time": "2022-12-15T13:04:10.124009Z"
    }
   },
   "outputs": [
    {
     "data": {
      "text/plain": [
       "array([[0.82721038, 0.46566628],\n",
       "       [0.73430944, 0.68845615],\n",
       "       [0.54921474, 0.74706302]])"
      ]
     },
     "execution_count": 10,
     "metadata": {},
     "output_type": "execute_result"
    }
   ],
   "source": [
    "n1 = np.random.random((3,2))\n",
    "n1"
   ]
  },
  {
   "cell_type": "code",
   "execution_count": 11,
   "id": "346eb4b8",
   "metadata": {
    "ExecuteTime": {
     "end_time": "2022-12-15T13:04:10.148662Z",
     "start_time": "2022-12-15T13:04:10.136908Z"
    }
   },
   "outputs": [
    {
     "data": {
      "text/plain": [
       "array([[ 0.16659012,  1.64569755],\n",
       "       [ 0.32318027,  0.9827945 ],\n",
       "       [-0.97954945,  0.16396082]])"
      ]
     },
     "execution_count": 11,
     "metadata": {},
     "output_type": "execute_result"
    }
   ],
   "source": [
    "n1 = np.random.randn(3,2)\n",
    "n1"
   ]
  },
  {
   "cell_type": "code",
   "execution_count": 12,
   "id": "97a4a420",
   "metadata": {
    "ExecuteTime": {
     "end_time": "2022-12-15T13:04:10.164630Z",
     "start_time": "2022-12-15T13:04:10.151576Z"
    }
   },
   "outputs": [
    {
     "data": {
      "text/plain": [
       "array([[0.65416076, 0.0725719 ],\n",
       "       [0.1714704 , 0.47756272],\n",
       "       [0.92501891, 0.7282666 ]])"
      ]
     },
     "execution_count": 12,
     "metadata": {},
     "output_type": "execute_result"
    }
   ],
   "source": [
    "n1 = np.random.random_sample((3,2))\n",
    "n1"
   ]
  },
  {
   "cell_type": "code",
   "execution_count": 13,
   "id": "c657f332",
   "metadata": {
    "ExecuteTime": {
     "end_time": "2022-12-15T13:04:10.180103Z",
     "start_time": "2022-12-15T13:04:10.168391Z"
    }
   },
   "outputs": [
    {
     "data": {
      "text/plain": [
       "array([[ 0.49514571, -0.13488144, -1.16407408],\n",
       "       [-0.32242841,  0.42331531,  0.80204772]])"
      ]
     },
     "execution_count": 13,
     "metadata": {},
     "output_type": "execute_result"
    }
   ],
   "source": [
    "n1 = np.random.standard_normal((2,3))\n",
    "n1"
   ]
  },
  {
   "cell_type": "markdown",
   "id": "0d57aa0d",
   "metadata": {
    "ExecuteTime": {
     "end_time": "2022-12-14T08:13:23.678477Z",
     "start_time": "2022-12-14T08:13:23.651891Z"
    }
   },
   "source": [
    "### Broadcasting"
   ]
  },
  {
   "cell_type": "code",
   "execution_count": 14,
   "id": "912490bd",
   "metadata": {
    "ExecuteTime": {
     "end_time": "2022-12-15T13:04:10.195727Z",
     "start_time": "2022-12-15T13:04:10.182185Z"
    }
   },
   "outputs": [
    {
     "data": {
      "text/plain": [
       "array([[[ 0,  2,  4,  6,  8],\n",
       "        [10, 12, 14, 16, 18],\n",
       "        [20, 22, 24, 26, 28],\n",
       "        [30, 32, 34, 36, 38]],\n",
       "\n",
       "       [[20, 22, 24, 26, 28],\n",
       "        [30, 32, 34, 36, 38],\n",
       "        [40, 42, 44, 46, 48],\n",
       "        [50, 52, 54, 56, 58]]])"
      ]
     },
     "execution_count": 14,
     "metadata": {},
     "output_type": "execute_result"
    }
   ],
   "source": [
    "n1 = np.arange(20).reshape(4,5)\n",
    "n2 = np.arange(40).reshape(2,4,5)\n",
    "\n",
    "n1+n2"
   ]
  },
  {
   "cell_type": "code",
   "execution_count": 15,
   "id": "70a955a1",
   "metadata": {
    "ExecuteTime": {
     "end_time": "2022-12-15T13:04:10.211235Z",
     "start_time": "2022-12-15T13:04:10.199422Z"
    }
   },
   "outputs": [
    {
     "name": "stdout",
     "output_type": "stream",
     "text": [
      "[[[0 1 2 3 4]]]\n",
      "\n",
      "[[0]\n",
      " [1]\n",
      " [2]\n",
      " [3]\n",
      " [4]]\n"
     ]
    }
   ],
   "source": [
    "a = np.arange(5).reshape(1,1,5) \n",
    "b = np.arange(5).reshape(5,1)\n",
    "# 결과 1 5 5\n",
    "print(a)\n",
    "print()\n",
    "print(b)"
   ]
  },
  {
   "cell_type": "code",
   "execution_count": 16,
   "id": "d3385de7",
   "metadata": {
    "ExecuteTime": {
     "end_time": "2022-12-15T13:04:10.232354Z",
     "start_time": "2022-12-15T13:04:10.214640Z"
    }
   },
   "outputs": [
    {
     "data": {
      "text/plain": [
       "array([[[0, 1, 2, 3, 4],\n",
       "        [1, 2, 3, 4, 5],\n",
       "        [2, 3, 4, 5, 6],\n",
       "        [3, 4, 5, 6, 7],\n",
       "        [4, 5, 6, 7, 8]]])"
      ]
     },
     "execution_count": 16,
     "metadata": {},
     "output_type": "execute_result"
    }
   ],
   "source": [
    "a+b"
   ]
  },
  {
   "cell_type": "code",
   "execution_count": 17,
   "id": "824ad5f4",
   "metadata": {
    "ExecuteTime": {
     "end_time": "2022-12-15T13:04:11.763241Z",
     "start_time": "2022-12-15T13:04:10.236428Z"
    }
   },
   "outputs": [],
   "source": [
    "import matplotlib.pyplot as plt"
   ]
  },
  {
   "cell_type": "code",
   "execution_count": 33,
   "id": "883af700",
   "metadata": {
    "ExecuteTime": {
     "end_time": "2022-12-15T13:04:57.849225Z",
     "start_time": "2022-12-15T13:04:57.633559Z"
    }
   },
   "outputs": [
    {
     "name": "stdout",
     "output_type": "stream",
     "text": [
      "[ 7  0  2 12  7]\n"
     ]
    },
    {
     "data": {
      "image/png": "[encoded data removed]",
      "text/plain": [
       "<Figure size 640x480 with 1 Axes>"
      ]
     },
     "metadata": {},
     "output_type": "display_data"
    }
   ],
   "source": [
    "data = np.random.randint(21,size=5)\n",
    "print(data)\n",
    "plt.plot(data,label=\"test\")\n",
    "plt.legend()\n",
    "plt.show()"
   ]
  },
  {
   "cell_type": "code",
   "execution_count": 40,
   "id": "e3a07758",
   "metadata": {
    "ExecuteTime": {
     "end_time": "2022-12-15T13:16:17.741583Z",
     "start_time": "2022-12-15T13:16:17.574761Z"
    }
   },
   "outputs": [
    {
     "data": {
      "image/png": "[encoded data removed]",
      "text/plain": [
       "<Figure size 640x480 with 1 Axes>"
      ]
     },
     "metadata": {},
     "output_type": "display_data"
    }
   ],
   "source": [
    "data = np.random.randint(21,size=10)\n",
    "plt.plot(data,'ro-.',lw=5)\n",
    "plt.show()"
   ]
  },
  {
   "cell_type": "markdown",
   "id": "458ed2a4",
   "metadata": {},
   "source": [
    "### 제목 및 각 축의 레이블 달기 기타 스타일"
   ]
  },
  {
   "cell_type": "code",
   "execution_count": 5,
   "id": "52354359",
   "metadata": {
    "ExecuteTime": {
     "end_time": "2022-12-16T01:07:20.048742Z",
     "start_time": "2022-12-16T01:07:18.297073Z"
    },
    "scrolled": true
   },
   "outputs": [
    {
     "data": {
      "image/png": "[encoded data removed]",
      "text/plain": [
       "<Figure size 640x480 with 1 Axes>"
      ]
     },
     "metadata": {},
     "output_type": "display_data"
    }
   ],
   "source": [
    "import numpy as np\n",
    "import matplotlib.pyplot as plt\n",
    "data =np.random.randint(21,size=5)\n",
    "plt.plot(data,'r+',ls=\"--\")  # red plus markers\n",
    "plt.title(\"random func\") # 제목달기\n",
    "plt.xlabel(\"x data\") # xlabel\n",
    "plt.ylabel(\"y data\") # ylabel\n",
    "plt.axis([0,5,0,20])\n",
    "plt.show()"
   ]
  },
  {
   "cell_type": "code",
   "execution_count": 20,
   "id": "50e53d36",
   "metadata": {
    "ExecuteTime": {
     "end_time": "2022-12-15T13:04:12.463472Z",
     "start_time": "2022-12-15T13:04:12.253893Z"
    }
   },
   "outputs": [
    {
     "data": {
      "text/plain": [
       "[<matplotlib.lines.Line2D at 0x241adcd6ce0>]"
      ]
     },
     "execution_count": 20,
     "metadata": {},
     "output_type": "execute_result"
    },
    {
     "data": {
      "image/png": "[encoded data removed]",
      "text/plain": [
       "<Figure size 640x480 with 1 Axes>"
      ]
     },
     "metadata": {},
     "output_type": "display_data"
    }
   ],
   "source": [
    "data = np.linspace(1,10,5)\n",
    "plt.plot(data,c=\"c\",lw=5,ls=\"--\",marker = \"o\")"
   ]
  },
  {
   "cell_type": "markdown",
   "id": "3e36c75d",
   "metadata": {},
   "source": [
    "### TIck 설정하기  legned 설정하기"
   ]
  },
  {
   "cell_type": "code",
   "execution_count": 21,
   "id": "c1f0a265",
   "metadata": {
    "ExecuteTime": {
     "end_time": "2022-12-15T13:04:12.617919Z",
     "start_time": "2022-12-15T13:04:12.467768Z"
    }
   },
   "outputs": [
    {
     "data": {
      "image/png": "[encoded data removed]",
      "text/plain": [
       "<Figure size 640x480 with 1 Axes>"
      ]
     },
     "metadata": {},
     "output_type": "display_data"
    }
   ],
   "source": [
    "data = np.random.randint(101,size=10)\n",
    "plt.plot(data,label=\"label_Testing\") # lable=범례\n",
    "plt.legend(loc=1) # 범례의 위치를 설정한다\n",
    "plt.xticks([0,4,10]) # x눈금을 사용자가 정한다\n",
    "plt.yticks([10,50,100]) # y눈금을 사용자가 정한다\n",
    "plt.axis([0,10,10,100]) # 순서대로 xmin xmax ymin ymax\n",
    "plt.show()"
   ]
  },
  {
   "cell_type": "markdown",
   "id": "c24a74fe",
   "metadata": {},
   "source": [
    "### 한꺼번에 plot하기\n",
    "* 주의사항 속성 생략이 불가하다"
   ]
  },
  {
   "cell_type": "code",
   "execution_count": 22,
   "id": "4332876c",
   "metadata": {
    "ExecuteTime": {
     "end_time": "2022-12-15T13:04:12.801418Z",
     "start_time": "2022-12-15T13:04:12.622263Z"
    }
   },
   "outputs": [
    {
     "data": {
      "image/png": "[encoded data removed]",
      "text/plain": [
       "<Figure size 640x480 with 1 Axes>"
      ]
     },
     "metadata": {},
     "output_type": "display_data"
    }
   ],
   "source": [
    "t = np.arange(0,5,0.2)\n",
    "plt.plot(t,'r--',t**2,'bo',t**3,'c^')\n",
    "plt.grid() # 격자 출력하기\n",
    "plt.show()"
   ]
  },
  {
   "cell_type": "markdown",
   "id": "359d7307",
   "metadata": {},
   "source": [
    "### 그림의 번호를 지정해 동시 작업하기\n",
    "* plt.figure(n)   \n",
    "   그림의 번호를 지정 (기본 1)\n",
    "   기본그림에 새로운 그림을 추가  \n",
    "       plt.figure(2)\n",
    "       \n",
    "       \n",
    "* plt.subplot(r,c,i)  \n",
    "* plt.subplot(rci)  \n",
    "    plt.subplot(2,3,1)  \n",
    "    plt.subplot(231)  "
   ]
  },
  {
   "cell_type": "code",
   "execution_count": 23,
   "id": "9d3df89b",
   "metadata": {
    "ExecuteTime": {
     "end_time": "2022-12-15T13:04:13.184043Z",
     "start_time": "2022-12-15T13:04:12.805718Z"
    }
   },
   "outputs": [
    {
     "data": {
      "image/png": "[encoded data removed]",
      "text/plain": [
       "<Figure size 640x480 with 1 Axes>"
      ]
     },
     "metadata": {},
     "output_type": "display_data"
    },
    {
     "data": {
      "image/png": "[encoded data removed]",
      "text/plain": [
       "<Figure size 640x480 with 1 Axes>"
      ]
     },
     "metadata": {},
     "output_type": "display_data"
    },
    {
     "data": {
      "image/png": "[encoded data removed]",
      "text/plain": [
       "<Figure size 640x480 with 1 Axes>"
      ]
     },
     "metadata": {},
     "output_type": "display_data"
    }
   ],
   "source": [
    "def f(t):\n",
    "    return np.exp(-t) * np.cos(2*np.pi*t)\n",
    "\n",
    "t1 = np.arange(0,5,0.1)\n",
    "t2 = np.arange(0,5,0.02)\n",
    "\n",
    "plt.figure(1) #기본값 1\n",
    "plt.subplot(331)  # 3*3 의 첫번쨰\n",
    "plt.plot(t1,f(t1),'b--')\n",
    "plt.figure(3)\n",
    "plt.subplot(221) # 2*2 의 첫번쨰\n",
    "plt.plot([1,2,3,4],'c^')\n",
    "plt.figure(2) #2번그림판지정\n",
    "plt.subplot(333) # 3 * 3 의 세번쨰\n",
    "plt.plot(t2,np.cos(2*np.pi*t2),'r--')\n",
    "plt.show()"
   ]
  },
  {
   "cell_type": "code",
   "execution_count": 24,
   "id": "87c8ac8e",
   "metadata": {
    "ExecuteTime": {
     "end_time": "2022-12-15T13:04:13.528340Z",
     "start_time": "2022-12-15T13:04:13.187542Z"
    }
   },
   "outputs": [
    {
     "data": {
      "text/plain": [
       "[<matplotlib.lines.Line2D at 0x241aba05330>]"
      ]
     },
     "execution_count": 24,
     "metadata": {},
     "output_type": "execute_result"
    },
    {
     "data": {
      "image/png": "[encoded data removed]",
      "text/plain": [
       "<Figure size 640x480 with 3 Axes>"
      ]
     },
     "metadata": {},
     "output_type": "display_data"
    }
   ],
   "source": [
    "grid = plt.GridSpec(3,3,wspace=0.5,hspace=0.3)\n",
    "ax1 = plt.subplot(grid[0,0]) # 0행 0열\n",
    "ax2 = plt.subplot(grid[0,1:]) # 0행의 1열부터\n",
    "ax3 = plt.subplot(grid[1,0:]) # 1행에서 0열부터 끝까지\n",
    "ax1.plot([1,5])\n",
    "ax2.plot(np.sin(data))\n",
    "ax3.plot(data)"
   ]
  },
  {
   "cell_type": "markdown",
   "id": "70782a5b",
   "metadata": {},
   "source": [
    "### Seabron 정리\n",
    "\n",
    "* 특징  \n",
    "    다양한 통계 지표를 낼수잇는 시각화 차트를 제공  \n",
    "    matplotlib를 기반으로 high-level 인터페이스를 제공  \n",
    "* 주요 plot  \n",
    "    relplot() : 항목간의 관계도  (seborn 자체 figure)   \n",
    "    countplot() : 항목별 분포도(histogram)  \n",
    "    distplot() : 분포 밀도 누적분포 러그  \n",
    "    pairplot() : 항목간의 선형관계도 그리드형태의 분포와 밀도  \n",
    "    implot() : 항목간의 선형관계도    \n",
    "    jointplot() : 선점도 분포도  "
   ]
  },
  {
   "cell_type": "code",
   "execution_count": 25,
   "id": "ebbb7d0d",
   "metadata": {
    "ExecuteTime": {
     "end_time": "2022-12-15T13:04:18.851719Z",
     "start_time": "2022-12-15T13:04:13.531354Z"
    }
   },
   "outputs": [
    {
     "data": {
      "text/html": [
       "<div>\n",
       "<style scoped>\n",
       "    .dataframe tbody tr th:only-of-type {\n",
       "        vertical-align: middle;\n",
       "    }\n",
       "\n",
       "    .dataframe tbody tr th {\n",
       "        vertical-align: top;\n",
       "    }\n",
       "\n",
       "    .dataframe thead th {\n",
       "        text-align: right;\n",
       "    }\n",
       "</style>\n",
       "<table border=\"1\" class=\"dataframe\">\n",
       "  <thead>\n",
       "    <tr style=\"text-align: right;\">\n",
       "      <th></th>\n",
       "      <th>survived</th>\n",
       "      <th>pclass</th>\n",
       "      <th>sex</th>\n",
       "      <th>age</th>\n",
       "      <th>sibsp</th>\n",
       "      <th>parch</th>\n",
       "      <th>fare</th>\n",
       "      <th>embarked</th>\n",
       "      <th>class</th>\n",
       "      <th>who</th>\n",
       "      <th>adult_male</th>\n",
       "      <th>deck</th>\n",
       "      <th>embark_town</th>\n",
       "      <th>alive</th>\n",
       "      <th>alone</th>\n",
       "    </tr>\n",
       "  </thead>\n",
       "  <tbody>\n",
       "    <tr>\n",
       "      <th>0</th>\n",
       "      <td>0</td>\n",
       "      <td>3</td>\n",
       "      <td>male</td>\n",
       "      <td>22.0</td>\n",
       "      <td>1</td>\n",
       "      <td>0</td>\n",
       "      <td>7.2500</td>\n",
       "      <td>S</td>\n",
       "      <td>Third</td>\n",
       "      <td>man</td>\n",
       "      <td>True</td>\n",
       "      <td>NaN</td>\n",
       "      <td>Southampton</td>\n",
       "      <td>no</td>\n",
       "      <td>False</td>\n",
       "    </tr>\n",
       "    <tr>\n",
       "      <th>1</th>\n",
       "      <td>1</td>\n",
       "      <td>1</td>\n",
       "      <td>female</td>\n",
       "      <td>38.0</td>\n",
       "      <td>1</td>\n",
       "      <td>0</td>\n",
       "      <td>71.2833</td>\n",
       "      <td>C</td>\n",
       "      <td>First</td>\n",
       "      <td>woman</td>\n",
       "      <td>False</td>\n",
       "      <td>C</td>\n",
       "      <td>Cherbourg</td>\n",
       "      <td>yes</td>\n",
       "      <td>False</td>\n",
       "    </tr>\n",
       "    <tr>\n",
       "      <th>2</th>\n",
       "      <td>1</td>\n",
       "      <td>3</td>\n",
       "      <td>female</td>\n",
       "      <td>26.0</td>\n",
       "      <td>0</td>\n",
       "      <td>0</td>\n",
       "      <td>7.9250</td>\n",
       "      <td>S</td>\n",
       "      <td>Third</td>\n",
       "      <td>woman</td>\n",
       "      <td>False</td>\n",
       "      <td>NaN</td>\n",
       "      <td>Southampton</td>\n",
       "      <td>yes</td>\n",
       "      <td>True</td>\n",
       "    </tr>\n",
       "    <tr>\n",
       "      <th>3</th>\n",
       "      <td>1</td>\n",
       "      <td>1</td>\n",
       "      <td>female</td>\n",
       "      <td>35.0</td>\n",
       "      <td>1</td>\n",
       "      <td>0</td>\n",
       "      <td>53.1000</td>\n",
       "      <td>S</td>\n",
       "      <td>First</td>\n",
       "      <td>woman</td>\n",
       "      <td>False</td>\n",
       "      <td>C</td>\n",
       "      <td>Southampton</td>\n",
       "      <td>yes</td>\n",
       "      <td>False</td>\n",
       "    </tr>\n",
       "    <tr>\n",
       "      <th>4</th>\n",
       "      <td>0</td>\n",
       "      <td>3</td>\n",
       "      <td>male</td>\n",
       "      <td>35.0</td>\n",
       "      <td>0</td>\n",
       "      <td>0</td>\n",
       "      <td>8.0500</td>\n",
       "      <td>S</td>\n",
       "      <td>Third</td>\n",
       "      <td>man</td>\n",
       "      <td>True</td>\n",
       "      <td>NaN</td>\n",
       "      <td>Southampton</td>\n",
       "      <td>no</td>\n",
       "      <td>True</td>\n",
       "    </tr>\n",
       "    <tr>\n",
       "      <th>...</th>\n",
       "      <td>...</td>\n",
       "      <td>...</td>\n",
       "      <td>...</td>\n",
       "      <td>...</td>\n",
       "      <td>...</td>\n",
       "      <td>...</td>\n",
       "      <td>...</td>\n",
       "      <td>...</td>\n",
       "      <td>...</td>\n",
       "      <td>...</td>\n",
       "      <td>...</td>\n",
       "      <td>...</td>\n",
       "      <td>...</td>\n",
       "      <td>...</td>\n",
       "      <td>...</td>\n",
       "    </tr>\n",
       "    <tr>\n",
       "      <th>886</th>\n",
       "      <td>0</td>\n",
       "      <td>2</td>\n",
       "      <td>male</td>\n",
       "      <td>27.0</td>\n",
       "      <td>0</td>\n",
       "      <td>0</td>\n",
       "      <td>13.0000</td>\n",
       "      <td>S</td>\n",
       "      <td>Second</td>\n",
       "      <td>man</td>\n",
       "      <td>True</td>\n",
       "      <td>NaN</td>\n",
       "      <td>Southampton</td>\n",
       "      <td>no</td>\n",
       "      <td>True</td>\n",
       "    </tr>\n",
       "    <tr>\n",
       "      <th>887</th>\n",
       "      <td>1</td>\n",
       "      <td>1</td>\n",
       "      <td>female</td>\n",
       "      <td>19.0</td>\n",
       "      <td>0</td>\n",
       "      <td>0</td>\n",
       "      <td>30.0000</td>\n",
       "      <td>S</td>\n",
       "      <td>First</td>\n",
       "      <td>woman</td>\n",
       "      <td>False</td>\n",
       "      <td>B</td>\n",
       "      <td>Southampton</td>\n",
       "      <td>yes</td>\n",
       "      <td>True</td>\n",
       "    </tr>\n",
       "    <tr>\n",
       "      <th>888</th>\n",
       "      <td>0</td>\n",
       "      <td>3</td>\n",
       "      <td>female</td>\n",
       "      <td>NaN</td>\n",
       "      <td>1</td>\n",
       "      <td>2</td>\n",
       "      <td>23.4500</td>\n",
       "      <td>S</td>\n",
       "      <td>Third</td>\n",
       "      <td>woman</td>\n",
       "      <td>False</td>\n",
       "      <td>NaN</td>\n",
       "      <td>Southampton</td>\n",
       "      <td>no</td>\n",
       "      <td>False</td>\n",
       "    </tr>\n",
       "    <tr>\n",
       "      <th>889</th>\n",
       "      <td>1</td>\n",
       "      <td>1</td>\n",
       "      <td>male</td>\n",
       "      <td>26.0</td>\n",
       "      <td>0</td>\n",
       "      <td>0</td>\n",
       "      <td>30.0000</td>\n",
       "      <td>C</td>\n",
       "      <td>First</td>\n",
       "      <td>man</td>\n",
       "      <td>True</td>\n",
       "      <td>C</td>\n",
       "      <td>Cherbourg</td>\n",
       "      <td>yes</td>\n",
       "      <td>True</td>\n",
       "    </tr>\n",
       "    <tr>\n",
       "      <th>890</th>\n",
       "      <td>0</td>\n",
       "      <td>3</td>\n",
       "      <td>male</td>\n",
       "      <td>32.0</td>\n",
       "      <td>0</td>\n",
       "      <td>0</td>\n",
       "      <td>7.7500</td>\n",
       "      <td>Q</td>\n",
       "      <td>Third</td>\n",
       "      <td>man</td>\n",
       "      <td>True</td>\n",
       "      <td>NaN</td>\n",
       "      <td>Queenstown</td>\n",
       "      <td>no</td>\n",
       "      <td>True</td>\n",
       "    </tr>\n",
       "  </tbody>\n",
       "</table>\n",
       "<p>891 rows × 15 columns</p>\n",
       "</div>"
      ],
      "text/plain": [
       "     survived  pclass     sex   age  sibsp  parch     fare embarked   class  \\\n",
       "0           0       3    male  22.0      1      0   7.2500        S   Third   \n",
       "1           1       1  female  38.0      1      0  71.2833        C   First   \n",
       "2           1       3  female  26.0      0      0   7.9250        S   Third   \n",
       "3           1       1  female  35.0      1      0  53.1000        S   First   \n",
       "4           0       3    male  35.0      0      0   8.0500        S   Third   \n",
       "..        ...     ...     ...   ...    ...    ...      ...      ...     ...   \n",
       "886         0       2    male  27.0      0      0  13.0000        S  Second   \n",
       "887         1       1  female  19.0      0      0  30.0000        S   First   \n",
       "888         0       3  female   NaN      1      2  23.4500        S   Third   \n",
       "889         1       1    male  26.0      0      0  30.0000        C   First   \n",
       "890         0       3    male  32.0      0      0   7.7500        Q   Third   \n",
       "\n",
       "       who  adult_male deck  embark_town alive  alone  \n",
       "0      man        True  NaN  Southampton    no  False  \n",
       "1    woman       False    C    Cherbourg   yes  False  \n",
       "2    woman       False  NaN  Southampton   yes   True  \n",
       "3    woman       False    C  Southampton   yes  False  \n",
       "4      man        True  NaN  Southampton    no   True  \n",
       "..     ...         ...  ...          ...   ...    ...  \n",
       "886    man        True  NaN  Southampton    no   True  \n",
       "887  woman       False    B  Southampton   yes   True  \n",
       "888  woman       False  NaN  Southampton    no  False  \n",
       "889    man        True    C    Cherbourg   yes   True  \n",
       "890    man        True  NaN   Queenstown    no   True  \n",
       "\n",
       "[891 rows x 15 columns]"
      ]
     },
     "execution_count": 25,
     "metadata": {},
     "output_type": "execute_result"
    }
   ],
   "source": [
    "import seaborn as sns\n",
    "\n",
    "titanic = sns.load_dataset('titanic')\n",
    "titanic"
   ]
  }
 ],
 "metadata": {
  "kernelspec": {
   "display_name": "Python 3 (ipykernel)",
   "language": "python",
   "name": "python3"
  },
  "language_info": {
   "codemirror_mode": {
    "name": "ipython",
    "version": 3
   },
   "file_extension": ".py",
   "mimetype": "text/x-python",
   "name": "python",
   "nbconvert_exporter": "python",
   "pygments_lexer": "ipython3",
   "version": "3.10.4"
  }
 },
 "nbformat": 4,
 "nbformat_minor": 5
}
