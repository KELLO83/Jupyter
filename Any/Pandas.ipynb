{
 "cells": [
  {
   "cell_type": "markdown",
   "id": "9d944c74",
   "metadata": {},
   "source": [
    "# Chapter10. Pandas(1)"
   ]
  },
  {
   "cell_type": "code",
   "execution_count": 1,
   "id": "fe7dc8cb",
   "metadata": {
    "ExecuteTime": {
     "end_time": "2022-11-25T00:35:15.645702Z",
     "start_time": "2022-11-25T00:35:12.871983Z"
    }
   },
   "outputs": [],
   "source": [
    "import pandas as pd\n",
    "import numpy as np"
   ]
  },
  {
   "cell_type": "code",
   "execution_count": 2,
   "id": "ab806f54",
   "metadata": {
    "ExecuteTime": {
     "end_time": "2022-11-25T00:35:15.657034Z",
     "start_time": "2022-11-25T00:35:15.645702Z"
    }
   },
   "outputs": [
    {
     "name": "stdout",
     "output_type": "stream",
     "text": [
      "<class 'pandas.core.series.Series'>\n",
      "0    1\n",
      "1    3\n",
      "2    5\n",
      "3    7\n",
      "dtype: int64\n",
      "[1 3 5 7]\n",
      "RangeIndex(start=0, stop=4, step=1)\n",
      "int64\n"
     ]
    }
   ],
   "source": [
    "arr = pd.Series([1,3,5,7])\n",
    "print(type(arr)) # Series 객체\n",
    "print(arr) # 인덱스 번호까지 함꼐 출력된다..\n",
    "print(arr.values)\n",
    "print(arr.index)\n",
    "print(arr.dtype)"
   ]
  },
  {
   "cell_type": "code",
   "execution_count": 3,
   "id": "e042fa13",
   "metadata": {
    "ExecuteTime": {
     "end_time": "2022-11-25T00:35:15.665034Z",
     "start_time": "2022-11-25T00:35:15.657034Z"
    }
   },
   "outputs": [
    {
     "name": "stdout",
     "output_type": "stream",
     "text": [
      "a    16\n",
      "b    13\n",
      "c     5\n",
      "d     0\n",
      "e     3\n",
      "dtype: int32\n",
      "16\n",
      "16\n"
     ]
    }
   ],
   "source": [
    "data=np.random.randint(20,size=5)\n",
    "arr=pd.Series(data,index=['a','b','c','d','e']) #인덱스를 사용자가 지정으로 바뀐다\n",
    "print(arr)\n",
    "\n",
    "print(arr[0])  # 원래있던 idx를 이용하여 value get\n",
    "print(arr['a']) #사용자지정 idx를사용하여 value를 get"
   ]
  },
  {
   "cell_type": "code",
   "execution_count": 4,
   "id": "8bc6741c",
   "metadata": {
    "ExecuteTime": {
     "end_time": "2022-11-25T00:35:15.673036Z",
     "start_time": "2022-11-25T00:35:15.665034Z"
    }
   },
   "outputs": [
    {
     "name": "stdout",
     "output_type": "stream",
     "text": [
      "NO\n",
      "name     kello\n",
      "age         23\n",
      "grade       A+\n",
      "Name: testing, dtype: object\n"
     ]
    }
   ],
   "source": [
    "data={\"name\":\"kello\",\"age\":23,\"grade\":'A+'}\n",
    "\n",
    "arr=pd.Series(data) #dict 로 만들시 key -> index value -> value\n",
    "arr.name=\"testing\" # Series의 이름이 붙는다\n",
    "arr.index.name=\"NO\" #인덱스의 이름은 NO\n",
    "\n",
    "print(arr)\n"
   ]
  },
  {
   "cell_type": "code",
   "execution_count": 5,
   "id": "4226625e",
   "metadata": {
    "ExecuteTime": {
     "end_time": "2022-11-25T00:35:15.689046Z",
     "start_time": "2022-11-25T00:35:15.673036Z"
    }
   },
   "outputs": [
    {
     "name": "stdout",
     "output_type": "stream",
     "text": [
      "DAUM      50\n",
      "GOOGLE    30\n",
      "NAVER     40\n",
      "dtype: int64\n"
     ]
    }
   ],
   "source": [
    "D1 = pd.Series([10,20,30],index=['NAVER','GOOGLE','DAUM'])\n",
    "D2 = pd.Series([10,20,30],index=['GOOGLE','DAUM','NAVER'])\n",
    "\n",
    "MERGE = D1 + D2 #Series끼리의 연산은 같은 idx끼리 연산을 진행한다\n",
    "\n",
    "print(MERGE)"
   ]
  },
  {
   "cell_type": "code",
   "execution_count": 6,
   "id": "ad93e8cc",
   "metadata": {
    "ExecuteTime": {
     "end_time": "2022-11-25T00:38:05.041631Z",
     "start_time": "2022-11-25T00:38:05.022096Z"
    }
   },
   "outputs": [
    {
     "name": "stdout",
     "output_type": "stream",
     "text": [
      "love    3\n",
      "me      2\n",
      "dtype: int64\n"
     ]
    }
   ],
   "source": [
    "obj = pd.Series({\"love\":3,\"me\":2})\n",
    "\n",
    "print(obj) # love key value 3 me key value 2\n"
   ]
  },
  {
   "cell_type": "markdown",
   "id": "d4090f28",
   "metadata": {},
   "source": [
    "## Series 연습문제\n",
    "\n",
    "* 리스트만으로 생성  \n",
    "* 딕셔너리만으로 생성  \n",
    "* 리스트와 index 를 이용하여 생성  \n",
    "* 각 Series 에 대해 indexing 을 통해 원하는 값을 선택하시오  \n",
    "* 각 Series 에 2 개씩 새로운 데이터를 추가하시오  \n",
    "* 각 Series 의 index 를 다르게 부여하시오 \n",
    "* 참고 : obj.reindex ([3, 1, 0, 2]) # index 의 순서바꾸기  \n",
    "* 각 Series 에서 1 개씩 데이터를 삭제하시오 참고 :  \n",
    "* 참고 : obj.drop (‘row1’) # index ‘ 에 해당되는 데이터 삭제  "
   ]
  },
  {
   "cell_type": "code",
   "execution_count": 40,
   "id": "c54be00c",
   "metadata": {
    "ExecuteTime": {
     "end_time": "2022-11-25T01:02:00.920439Z",
     "start_time": "2022-11-25T01:02:00.902943Z"
    }
   },
   "outputs": [
    {
     "name": "stdout",
     "output_type": "stream",
     "text": [
      "초기 값\n",
      " a    10\n",
      "b    50\n",
      "c    40\n",
      "d    30\n",
      "dtype: int64\n",
      "\n",
      "데이터 삽입\n",
      " a     10\n",
      "b     50\n",
      "c     40\n",
      "d     30\n",
      "e    100\n",
      "dtype: int64\n",
      "\n",
      "데이터 삭제\n",
      " c     40\n",
      "e    100\n",
      "dtype: int64\n",
      "\n",
      "e    100\n",
      "c     40\n",
      "dtype: int64\n"
     ]
    }
   ],
   "source": [
    "data = [10,50,40,30]\n",
    "\n",
    "obj = pd.Series(data,index=[\"a\",\"b\",\"c\",\"d\"])\n",
    "print(\"초기 값\\n\",obj,end=\"\\n\\n\")\n",
    "\n",
    "#Series 데이터 삽입\n",
    "obj['e']=100 # Series에다가 e라는 key값을가지는 value 100을 추가한다\n",
    "print(\"데이터 삽입\\n\",obj,end='\\n\\n')\n",
    "\n",
    "#Series 데이터 삭제 \n",
    "del obj['d'] # d라는key값과 그에상응하는 value를 지운다\n",
    "obj=obj.drop('a') # drop이라는 함수는 자가수정기능이없다 자기파괴를하지않는다\n",
    "obj.drop('b',inplace=True) # 자가수정기능 on 자기파괴를한다\n",
    "\n",
    "print(\"데이터 삭제\\n\",obj,end='\\n\\n')\n",
    "\n",
    "\n",
    "# Series 순서바꾸기\n",
    "obj=obj.reindex(['e','c']) # reindex 자가수정기능이없고 inplace기능이 존재하지않는다\n",
    "print(obj)\n"
   ]
  },
  {
   "cell_type": "code",
   "execution_count": 47,
   "id": "c4edb7ad",
   "metadata": {
    "ExecuteTime": {
     "end_time": "2022-11-25T01:06:39.697138Z",
     "start_time": "2022-11-25T01:06:39.672831Z"
    }
   },
   "outputs": [
    {
     "name": "stdout",
     "output_type": "stream",
     "text": [
      "apple     1000\n",
      "melon     3000\n",
      "banana    2000\n",
      "dtype: int64\n",
      "\n",
      "melon          3000\n",
      "banana         2000\n",
      "sweatberry    10000\n",
      "dtype: int64\n"
     ]
    }
   ],
   "source": [
    "data = {\"apple\":1000,\"melon\":3000,\"banana\":2000}\n",
    "s2 = pd.Series(data) # Dict 로 Series 객체 만들기\n",
    "print(s2,end=\"\\n\\n\")\n",
    "s2[\"sweatberry\"]=10000\n",
    "s2=s2.drop(\"apple\")\n",
    "\n",
    "print(s2) # apple 삭제 sweatberry추가"
   ]
  },
  {
   "cell_type": "markdown",
   "id": "134bc1d9",
   "metadata": {},
   "source": [
    "# Chapter11. Pandas(2)"
   ]
  },
  {
   "cell_type": "code",
   "execution_count": 65,
   "id": "4916c4c3",
   "metadata": {
    "ExecuteTime": {
     "end_time": "2022-11-25T01:33:32.206294Z",
     "start_time": "2022-11-25T01:33:32.189364Z"
    }
   },
   "outputs": [
    {
     "data": {
      "text/html": [
       "<div>\n",
       "<style scoped>\n",
       "    .dataframe tbody tr th:only-of-type {\n",
       "        vertical-align: middle;\n",
       "    }\n",
       "\n",
       "    .dataframe tbody tr th {\n",
       "        vertical-align: top;\n",
       "    }\n",
       "\n",
       "    .dataframe thead th {\n",
       "        text-align: right;\n",
       "    }\n",
       "</style>\n",
       "<table border=\"1\" class=\"dataframe\">\n",
       "  <thead>\n",
       "    <tr style=\"text-align: right;\">\n",
       "      <th></th>\n",
       "      <th>Apples</th>\n",
       "      <th>Orange</th>\n",
       "    </tr>\n",
       "  </thead>\n",
       "  <tbody>\n",
       "    <tr>\n",
       "      <th>0</th>\n",
       "      <td>3</td>\n",
       "      <td>0</td>\n",
       "    </tr>\n",
       "    <tr>\n",
       "      <th>1</th>\n",
       "      <td>2</td>\n",
       "      <td>3</td>\n",
       "    </tr>\n",
       "    <tr>\n",
       "      <th>2</th>\n",
       "      <td>0</td>\n",
       "      <td>7</td>\n",
       "    </tr>\n",
       "    <tr>\n",
       "      <th>3</th>\n",
       "      <td>1</td>\n",
       "      <td>2</td>\n",
       "    </tr>\n",
       "  </tbody>\n",
       "</table>\n",
       "</div>"
      ],
      "text/plain": [
       "   Apples  Orange\n",
       "0       3       0\n",
       "1       2       3\n",
       "2       0       7\n",
       "3       1       2"
      ]
     },
     "metadata": {},
     "output_type": "display_data"
    }
   ],
   "source": [
    "from IPython.display import display\n",
    "\n",
    "data = {\"Apples\":[3,2,0,1],\"Orange\":[0,3,7,2]} #Apples 라는Colume 그 안속 데이터들이 3 2 1 0 \n",
    "data = pd.DataFrame(data) # dataFrame 생성하기\n",
    "test_data = data\n",
    "display(data) \n",
    "\n",
    "#0,1,2,3 => index\n",
    "# Apples,Orange => Columes \n",
    "# index,Columes 으로 이루어진 DataFrame\n"
   ]
  },
  {
   "cell_type": "code",
   "execution_count": 68,
   "id": "4a71d44e",
   "metadata": {
    "ExecuteTime": {
     "end_time": "2022-11-25T01:34:11.237375Z",
     "start_time": "2022-11-25T01:34:11.211583Z"
    }
   },
   "outputs": [
    {
     "data": {
      "text/html": [
       "<div>\n",
       "<style scoped>\n",
       "    .dataframe tbody tr th:only-of-type {\n",
       "        vertical-align: middle;\n",
       "    }\n",
       "\n",
       "    .dataframe tbody tr th {\n",
       "        vertical-align: top;\n",
       "    }\n",
       "\n",
       "    .dataframe thead th {\n",
       "        text-align: right;\n",
       "    }\n",
       "</style>\n",
       "<table border=\"1\" class=\"dataframe\">\n",
       "  <thead>\n",
       "    <tr style=\"text-align: right;\">\n",
       "      <th></th>\n",
       "      <th>col0</th>\n",
       "      <th>col1</th>\n",
       "      <th>col2</th>\n",
       "    </tr>\n",
       "  </thead>\n",
       "  <tbody>\n",
       "    <tr>\n",
       "      <th>0</th>\n",
       "      <td>1</td>\n",
       "      <td>10</td>\n",
       "      <td>100</td>\n",
       "    </tr>\n",
       "    <tr>\n",
       "      <th>1</th>\n",
       "      <td>2</td>\n",
       "      <td>20</td>\n",
       "      <td>200</td>\n",
       "    </tr>\n",
       "    <tr>\n",
       "      <th>2</th>\n",
       "      <td>3</td>\n",
       "      <td>30</td>\n",
       "      <td>300</td>\n",
       "    </tr>\n",
       "    <tr>\n",
       "      <th>3</th>\n",
       "      <td>4</td>\n",
       "      <td>40</td>\n",
       "      <td>400</td>\n",
       "    </tr>\n",
       "  </tbody>\n",
       "</table>\n",
       "</div>"
      ],
      "text/plain": [
       "   col0  col1  col2\n",
       "0     1    10   100\n",
       "1     2    20   200\n",
       "2     3    30   300\n",
       "3     4    40   400"
      ]
     },
     "metadata": {},
     "output_type": "display_data"
    },
    {
     "data": {
      "text/html": [
       "<div>\n",
       "<style scoped>\n",
       "    .dataframe tbody tr th:only-of-type {\n",
       "        vertical-align: middle;\n",
       "    }\n",
       "\n",
       "    .dataframe tbody tr th {\n",
       "        vertical-align: top;\n",
       "    }\n",
       "\n",
       "    .dataframe thead th {\n",
       "        text-align: right;\n",
       "    }\n",
       "</style>\n",
       "<table border=\"1\" class=\"dataframe\">\n",
       "  <thead>\n",
       "    <tr style=\"text-align: right;\">\n",
       "      <th></th>\n",
       "      <th>Apples</th>\n",
       "      <th>Orange</th>\n",
       "      <th>col0</th>\n",
       "      <th>col1</th>\n",
       "      <th>col2</th>\n",
       "    </tr>\n",
       "  </thead>\n",
       "  <tbody>\n",
       "    <tr>\n",
       "      <th>0</th>\n",
       "      <td>NaN</td>\n",
       "      <td>NaN</td>\n",
       "      <td>NaN</td>\n",
       "      <td>NaN</td>\n",
       "      <td>NaN</td>\n",
       "    </tr>\n",
       "    <tr>\n",
       "      <th>1</th>\n",
       "      <td>NaN</td>\n",
       "      <td>NaN</td>\n",
       "      <td>NaN</td>\n",
       "      <td>NaN</td>\n",
       "      <td>NaN</td>\n",
       "    </tr>\n",
       "    <tr>\n",
       "      <th>2</th>\n",
       "      <td>NaN</td>\n",
       "      <td>NaN</td>\n",
       "      <td>NaN</td>\n",
       "      <td>NaN</td>\n",
       "      <td>NaN</td>\n",
       "    </tr>\n",
       "    <tr>\n",
       "      <th>3</th>\n",
       "      <td>NaN</td>\n",
       "      <td>NaN</td>\n",
       "      <td>NaN</td>\n",
       "      <td>NaN</td>\n",
       "      <td>NaN</td>\n",
       "    </tr>\n",
       "  </tbody>\n",
       "</table>\n",
       "</div>"
      ],
      "text/plain": [
       "   Apples  Orange  col0  col1  col2\n",
       "0     NaN     NaN   NaN   NaN   NaN\n",
       "1     NaN     NaN   NaN   NaN   NaN\n",
       "2     NaN     NaN   NaN   NaN   NaN\n",
       "3     NaN     NaN   NaN   NaN   NaN"
      ]
     },
     "metadata": {},
     "output_type": "display_data"
    }
   ],
   "source": [
    "row_data ={'col0':[1,2,3,4],'col1':[10,20,30,40],'col2':[100,200,300,400]}\n",
    "\n",
    "data =pd.DataFrame(row_data)\n",
    "display(data)\n",
    "\n",
    "test = test_data + data # ...?\n",
    "\n",
    "display(test)\n"
   ]
  },
  {
   "cell_type": "markdown",
   "id": "16ef3bc8",
   "metadata": {},
   "source": [
    "### 시계열 데이터 생성"
   ]
  },
  {
   "cell_type": "code",
   "execution_count": 81,
   "id": "7d805918",
   "metadata": {
    "ExecuteTime": {
     "end_time": "2022-11-25T01:47:45.164784Z",
     "start_time": "2022-11-25T01:47:45.147254Z"
    }
   },
   "outputs": [
    {
     "data": {
      "text/plain": [
       "DatetimeIndex(['2020-01-01 00:00:00', '2020-01-05 18:00:00',\n",
       "               '2020-01-10 12:00:00', '2020-01-15 06:00:00',\n",
       "               '2020-01-20 00:00:00'],\n",
       "              dtype='datetime64[ns]', freq=None)"
      ]
     },
     "execution_count": 81,
     "metadata": {},
     "output_type": "execute_result"
    }
   ],
   "source": [
    "dndx1 = pd.date_range(start='1/1/2020',end='1/20/2020',periods=5) # 첫쨰날과 끝날을 포함하는 5개를나누어 표현한다\n",
    "\n",
    "dndx1"
   ]
  },
  {
   "cell_type": "code",
   "execution_count": 94,
   "id": "67d83ee2",
   "metadata": {
    "ExecuteTime": {
     "end_time": "2022-11-25T01:52:22.576857Z",
     "start_time": "2022-11-25T01:52:22.555983Z"
    }
   },
   "outputs": [
    {
     "data": {
      "text/html": [
       "<div>\n",
       "<style scoped>\n",
       "    .dataframe tbody tr th:only-of-type {\n",
       "        vertical-align: middle;\n",
       "    }\n",
       "\n",
       "    .dataframe tbody tr th {\n",
       "        vertical-align: top;\n",
       "    }\n",
       "\n",
       "    .dataframe thead th {\n",
       "        text-align: right;\n",
       "    }\n",
       "</style>\n",
       "<table border=\"1\" class=\"dataframe\">\n",
       "  <thead>\n",
       "    <tr style=\"text-align: right;\">\n",
       "      <th></th>\n",
       "      <th>A</th>\n",
       "      <th>B</th>\n",
       "      <th>C</th>\n",
       "      <th>D</th>\n",
       "    </tr>\n",
       "  </thead>\n",
       "  <tbody>\n",
       "    <tr>\n",
       "      <th>2018-05-21</th>\n",
       "      <td>-1.089640</td>\n",
       "      <td>-0.330396</td>\n",
       "      <td>2.067622</td>\n",
       "      <td>-0.204037</td>\n",
       "    </tr>\n",
       "    <tr>\n",
       "      <th>2018-05-22</th>\n",
       "      <td>0.331360</td>\n",
       "      <td>1.235064</td>\n",
       "      <td>0.071224</td>\n",
       "      <td>-0.188443</td>\n",
       "    </tr>\n",
       "    <tr>\n",
       "      <th>2018-05-23</th>\n",
       "      <td>1.204057</td>\n",
       "      <td>-1.745482</td>\n",
       "      <td>1.167918</td>\n",
       "      <td>0.462167</td>\n",
       "    </tr>\n",
       "    <tr>\n",
       "      <th>2018-05-24</th>\n",
       "      <td>0.952231</td>\n",
       "      <td>0.761585</td>\n",
       "      <td>0.350549</td>\n",
       "      <td>-0.639127</td>\n",
       "    </tr>\n",
       "    <tr>\n",
       "      <th>2018-05-25</th>\n",
       "      <td>0.787866</td>\n",
       "      <td>0.157442</td>\n",
       "      <td>-0.459739</td>\n",
       "      <td>-0.363771</td>\n",
       "    </tr>\n",
       "    <tr>\n",
       "      <th>2018-05-26</th>\n",
       "      <td>-0.200268</td>\n",
       "      <td>-0.819148</td>\n",
       "      <td>-0.068878</td>\n",
       "      <td>0.885649</td>\n",
       "    </tr>\n",
       "  </tbody>\n",
       "</table>\n",
       "</div>"
      ],
      "text/plain": [
       "                   A         B         C         D\n",
       "2018-05-21 -1.089640 -0.330396  2.067622 -0.204037\n",
       "2018-05-22  0.331360  1.235064  0.071224 -0.188443\n",
       "2018-05-23  1.204057 -1.745482  1.167918  0.462167\n",
       "2018-05-24  0.952231  0.761585  0.350549 -0.639127\n",
       "2018-05-25  0.787866  0.157442 -0.459739 -0.363771\n",
       "2018-05-26 -0.200268 -0.819148 -0.068878  0.885649"
      ]
     },
     "execution_count": 94,
     "metadata": {},
     "output_type": "execute_result"
    }
   ],
   "source": [
    "import numpy\n",
    "datas = pd.date_range('20180521',periods=6)\n",
    "\n",
    "df = pd.DataFrame(np.random.randn(6,4),index=datas,columns=list('ABCD')) # index와 columes를 지정한다\n",
    "df"
   ]
  },
  {
   "cell_type": "markdown",
   "id": "96673a86",
   "metadata": {},
   "source": [
    "### 본격적인 dataFrame 강의\n",
    "\n",
    "* 인덱싱 슬라이싱이 제일중요하다\n"
   ]
  },
  {
   "cell_type": "code",
   "execution_count": 112,
   "id": "f3a6f60f",
   "metadata": {
    "ExecuteTime": {
     "end_time": "2022-11-25T02:11:12.620234Z",
     "start_time": "2022-11-25T02:11:12.598152Z"
    }
   },
   "outputs": [
    {
     "data": {
      "text/html": [
       "<div>\n",
       "<style scoped>\n",
       "    .dataframe tbody tr th:only-of-type {\n",
       "        vertical-align: middle;\n",
       "    }\n",
       "\n",
       "    .dataframe tbody tr th {\n",
       "        vertical-align: top;\n",
       "    }\n",
       "\n",
       "    .dataframe thead th {\n",
       "        text-align: right;\n",
       "    }\n",
       "</style>\n",
       "<table border=\"1\" class=\"dataframe\">\n",
       "  <thead>\n",
       "    <tr style=\"text-align: right;\">\n",
       "      <th></th>\n",
       "      <th>Name</th>\n",
       "      <th>Year</th>\n",
       "      <th>Points</th>\n",
       "      <th>Nan</th>\n",
       "    </tr>\n",
       "  </thead>\n",
       "  <tbody>\n",
       "    <tr>\n",
       "      <th>one</th>\n",
       "      <td>lee</td>\n",
       "      <td>2013</td>\n",
       "      <td>1.5</td>\n",
       "      <td>NaN</td>\n",
       "    </tr>\n",
       "    <tr>\n",
       "      <th>two</th>\n",
       "      <td>kim</td>\n",
       "      <td>2014</td>\n",
       "      <td>1.8</td>\n",
       "      <td>NaN</td>\n",
       "    </tr>\n",
       "    <tr>\n",
       "      <th>three</th>\n",
       "      <td>jun</td>\n",
       "      <td>2015</td>\n",
       "      <td>2.3</td>\n",
       "      <td>NaN</td>\n",
       "    </tr>\n",
       "    <tr>\n",
       "      <th>four</th>\n",
       "      <td>chou</td>\n",
       "      <td>2016</td>\n",
       "      <td>2.8</td>\n",
       "      <td>NaN</td>\n",
       "    </tr>\n",
       "  </tbody>\n",
       "</table>\n",
       "</div>"
      ],
      "text/plain": [
       "       Name  Year  Points  Nan\n",
       "one     lee  2013     1.5  NaN\n",
       "two     kim  2014     1.8  NaN\n",
       "three   jun  2015     2.3  NaN\n",
       "four   chou  2016     2.8  NaN"
      ]
     },
     "metadata": {},
     "output_type": "display_data"
    }
   ],
   "source": [
    "data = {'Name':['lee','kim','jun','chou',],'Year':[2013,2014,2015,2016],'Points':[1.5,1.8,2.3,2.8]}\n",
    "\n",
    "df = pd.DataFrame(data,index=['one','two','three','four'],columns=['Name','Year','Points',\"Nan\"]) # Columes 의경우 \n",
    "#out of range여도 NAN을 Columes를 추가하며 값은 NAN을 할당한다\n",
    "display(df)"
   ]
  },
  {
   "cell_type": "code",
   "execution_count": 121,
   "id": "ef81d6c7",
   "metadata": {
    "ExecuteTime": {
     "end_time": "2022-11-25T02:16:30.864544Z",
     "start_time": "2022-11-25T02:16:30.848950Z"
    }
   },
   "outputs": [
    {
     "data": {
      "text/plain": [
       "one       lee\n",
       "two       kim\n",
       "three     jun\n",
       "four     chou\n",
       "Name: Name, dtype: object"
      ]
     },
     "execution_count": 121,
     "metadata": {},
     "output_type": "execute_result"
    }
   ],
   "source": [
    "df['Name']"
   ]
  },
  {
   "cell_type": "code",
   "execution_count": 117,
   "id": "d9b0334d",
   "metadata": {
    "ExecuteTime": {
     "end_time": "2022-11-25T02:12:06.457750Z",
     "start_time": "2022-11-25T02:12:06.442386Z"
    }
   },
   "outputs": [
    {
     "data": {
      "text/html": [
       "<div>\n",
       "<style scoped>\n",
       "    .dataframe tbody tr th:only-of-type {\n",
       "        vertical-align: middle;\n",
       "    }\n",
       "\n",
       "    .dataframe tbody tr th {\n",
       "        vertical-align: top;\n",
       "    }\n",
       "\n",
       "    .dataframe thead th {\n",
       "        text-align: right;\n",
       "    }\n",
       "</style>\n",
       "<table border=\"1\" class=\"dataframe\">\n",
       "  <thead>\n",
       "    <tr style=\"text-align: right;\">\n",
       "      <th></th>\n",
       "      <th>Name</th>\n",
       "      <th>Year</th>\n",
       "    </tr>\n",
       "  </thead>\n",
       "  <tbody>\n",
       "    <tr>\n",
       "      <th>one</th>\n",
       "      <td>lee</td>\n",
       "      <td>2013</td>\n",
       "    </tr>\n",
       "    <tr>\n",
       "      <th>two</th>\n",
       "      <td>kim</td>\n",
       "      <td>2014</td>\n",
       "    </tr>\n",
       "    <tr>\n",
       "      <th>three</th>\n",
       "      <td>jun</td>\n",
       "      <td>2015</td>\n",
       "    </tr>\n",
       "    <tr>\n",
       "      <th>four</th>\n",
       "      <td>chou</td>\n",
       "      <td>2016</td>\n",
       "    </tr>\n",
       "  </tbody>\n",
       "</table>\n",
       "</div>"
      ],
      "text/plain": [
       "       Name  Year\n",
       "one     lee  2013\n",
       "two     kim  2014\n",
       "three   jun  2015\n",
       "four   chou  2016"
      ]
     },
     "metadata": {},
     "output_type": "display_data"
    }
   ],
   "source": [
    "display(df[['Name','Year']]) # 두개이상의 columes을 줄시 이중리스트로 주어야한다!!!!!!!!!"
   ]
  },
  {
   "cell_type": "code",
   "execution_count": 136,
   "id": "729f9e4d",
   "metadata": {
    "ExecuteTime": {
     "end_time": "2022-11-25T02:25:51.146266Z",
     "start_time": "2022-11-25T02:25:51.108530Z"
    }
   },
   "outputs": [
    {
     "data": {
      "text/html": [
       "<div>\n",
       "<style scoped>\n",
       "    .dataframe tbody tr th:only-of-type {\n",
       "        vertical-align: middle;\n",
       "    }\n",
       "\n",
       "    .dataframe tbody tr th {\n",
       "        vertical-align: top;\n",
       "    }\n",
       "\n",
       "    .dataframe thead th {\n",
       "        text-align: right;\n",
       "    }\n",
       "</style>\n",
       "<table border=\"1\" class=\"dataframe\">\n",
       "  <thead>\n",
       "    <tr style=\"text-align: right;\">\n",
       "      <th></th>\n",
       "      <th>Name</th>\n",
       "      <th>Year</th>\n",
       "      <th>Points</th>\n",
       "      <th>Nan</th>\n",
       "    </tr>\n",
       "  </thead>\n",
       "  <tbody>\n",
       "    <tr>\n",
       "      <th>two</th>\n",
       "      <td>kim</td>\n",
       "      <td>2014</td>\n",
       "      <td>1.8</td>\n",
       "      <td>NaN</td>\n",
       "    </tr>\n",
       "    <tr>\n",
       "      <th>three</th>\n",
       "      <td>jun</td>\n",
       "      <td>2015</td>\n",
       "      <td>2.3</td>\n",
       "      <td>NaN</td>\n",
       "    </tr>\n",
       "  </tbody>\n",
       "</table>\n",
       "</div>"
      ],
      "text/plain": [
       "      Name  Year  Points  Nan\n",
       "two    kim  2014     1.8  NaN\n",
       "three  jun  2015     2.3  NaN"
      ]
     },
     "metadata": {},
     "output_type": "display_data"
    },
    {
     "data": {
      "text/html": [
       "<div>\n",
       "<style scoped>\n",
       "    .dataframe tbody tr th:only-of-type {\n",
       "        vertical-align: middle;\n",
       "    }\n",
       "\n",
       "    .dataframe tbody tr th {\n",
       "        vertical-align: top;\n",
       "    }\n",
       "\n",
       "    .dataframe thead th {\n",
       "        text-align: right;\n",
       "    }\n",
       "</style>\n",
       "<table border=\"1\" class=\"dataframe\">\n",
       "  <thead>\n",
       "    <tr style=\"text-align: right;\">\n",
       "      <th></th>\n",
       "      <th>Name</th>\n",
       "      <th>Year</th>\n",
       "      <th>Points</th>\n",
       "      <th>Nan</th>\n",
       "    </tr>\n",
       "  </thead>\n",
       "  <tbody>\n",
       "    <tr>\n",
       "      <th>one</th>\n",
       "      <td>lee</td>\n",
       "      <td>2013</td>\n",
       "      <td>1.5</td>\n",
       "      <td>NaN</td>\n",
       "    </tr>\n",
       "    <tr>\n",
       "      <th>two</th>\n",
       "      <td>kim</td>\n",
       "      <td>2014</td>\n",
       "      <td>1.8</td>\n",
       "      <td>NaN</td>\n",
       "    </tr>\n",
       "  </tbody>\n",
       "</table>\n",
       "</div>"
      ],
      "text/plain": [
       "    Name  Year  Points  Nan\n",
       "one  lee  2013     1.5  NaN\n",
       "two  kim  2014     1.8  NaN"
      ]
     },
     "metadata": {},
     "output_type": "display_data"
    },
    {
     "data": {
      "text/html": [
       "<div>\n",
       "<style scoped>\n",
       "    .dataframe tbody tr th:only-of-type {\n",
       "        vertical-align: middle;\n",
       "    }\n",
       "\n",
       "    .dataframe tbody tr th {\n",
       "        vertical-align: top;\n",
       "    }\n",
       "\n",
       "    .dataframe thead th {\n",
       "        text-align: right;\n",
       "    }\n",
       "</style>\n",
       "<table border=\"1\" class=\"dataframe\">\n",
       "  <thead>\n",
       "    <tr style=\"text-align: right;\">\n",
       "      <th></th>\n",
       "      <th>Points</th>\n",
       "      <th>Nan</th>\n",
       "    </tr>\n",
       "  </thead>\n",
       "  <tbody>\n",
       "    <tr>\n",
       "      <th>two</th>\n",
       "      <td>1.8</td>\n",
       "      <td>NaN</td>\n",
       "    </tr>\n",
       "    <tr>\n",
       "      <th>three</th>\n",
       "      <td>2.3</td>\n",
       "      <td>NaN</td>\n",
       "    </tr>\n",
       "  </tbody>\n",
       "</table>\n",
       "</div>"
      ],
      "text/plain": [
       "       Points  Nan\n",
       "two       1.8  NaN\n",
       "three     2.3  NaN"
      ]
     },
     "metadata": {},
     "output_type": "display_data"
    }
   ],
   "source": [
    "# 행슬라이싱 2가지 방안\n",
    "display(df.iloc[1:3]) # 1행 2행의 데이터값들을 출력한다\n",
    "display(df.loc['one':'two']) # one two 라는 이름을가지는 행의 데이터들을 출력한다\n",
    "display(df.iloc[1:3,2:4]) # 2:4 는 1행 2행 2열 3열 끝 숫자 포함x"
   ]
  },
  {
   "cell_type": "code",
   "execution_count": 147,
   "id": "a426c05e",
   "metadata": {
    "ExecuteTime": {
     "end_time": "2022-11-25T02:42:01.333347Z",
     "start_time": "2022-11-25T02:42:01.312235Z"
    }
   },
   "outputs": [
    {
     "data": {
      "text/html": [
       "<div>\n",
       "<style scoped>\n",
       "    .dataframe tbody tr th:only-of-type {\n",
       "        vertical-align: middle;\n",
       "    }\n",
       "\n",
       "    .dataframe tbody tr th {\n",
       "        vertical-align: top;\n",
       "    }\n",
       "\n",
       "    .dataframe thead th {\n",
       "        text-align: right;\n",
       "    }\n",
       "</style>\n",
       "<table border=\"1\" class=\"dataframe\">\n",
       "  <thead>\n",
       "    <tr style=\"text-align: right;\">\n",
       "      <th></th>\n",
       "      <th>A</th>\n",
       "      <th>B</th>\n",
       "      <th>C</th>\n",
       "      <th>D</th>\n",
       "    </tr>\n",
       "  </thead>\n",
       "  <tbody>\n",
       "    <tr>\n",
       "      <th>2018-05-21</th>\n",
       "      <td>1.015118</td>\n",
       "      <td>1.014329</td>\n",
       "      <td>0.174922</td>\n",
       "      <td>0.925094</td>\n",
       "    </tr>\n",
       "    <tr>\n",
       "      <th>2018-05-22</th>\n",
       "      <td>0.010866</td>\n",
       "      <td>-1.427017</td>\n",
       "      <td>-0.443245</td>\n",
       "      <td>0.242015</td>\n",
       "    </tr>\n",
       "    <tr>\n",
       "      <th>2018-05-23</th>\n",
       "      <td>0.302503</td>\n",
       "      <td>-0.924815</td>\n",
       "      <td>-0.309561</td>\n",
       "      <td>1.445945</td>\n",
       "    </tr>\n",
       "    <tr>\n",
       "      <th>2018-05-24</th>\n",
       "      <td>0.888157</td>\n",
       "      <td>0.188052</td>\n",
       "      <td>0.544727</td>\n",
       "      <td>-0.483284</td>\n",
       "    </tr>\n",
       "    <tr>\n",
       "      <th>2018-05-25</th>\n",
       "      <td>0.053433</td>\n",
       "      <td>0.065538</td>\n",
       "      <td>-1.024100</td>\n",
       "      <td>-1.947929</td>\n",
       "    </tr>\n",
       "    <tr>\n",
       "      <th>2018-05-26</th>\n",
       "      <td>0.440401</td>\n",
       "      <td>-1.312992</td>\n",
       "      <td>1.504509</td>\n",
       "      <td>-1.924384</td>\n",
       "    </tr>\n",
       "  </tbody>\n",
       "</table>\n",
       "</div>"
      ],
      "text/plain": [
       "                   A         B         C         D\n",
       "2018-05-21  1.015118  1.014329  0.174922  0.925094\n",
       "2018-05-22  0.010866 -1.427017 -0.443245  0.242015\n",
       "2018-05-23  0.302503 -0.924815 -0.309561  1.445945\n",
       "2018-05-24  0.888157  0.188052  0.544727 -0.483284\n",
       "2018-05-25  0.053433  0.065538 -1.024100 -1.947929\n",
       "2018-05-26  0.440401 -1.312992  1.504509 -1.924384"
      ]
     },
     "metadata": {},
     "output_type": "display_data"
    }
   ],
   "source": [
    "datas = pd.date_range('20180521',periods=6)\n",
    "df = pd.DataFrame(np.random.randn(6,4), index=datas , columns = list('ABCD'))\n",
    "display(df)"
   ]
  },
  {
   "cell_type": "markdown",
   "id": "c9deb3a6",
   "metadata": {},
   "source": [
    "## Boolean Indexing"
   ]
  },
  {
   "cell_type": "code",
   "execution_count": 152,
   "id": "91365dfb",
   "metadata": {
    "ExecuteTime": {
     "end_time": "2022-11-25T02:43:06.015837Z",
     "start_time": "2022-11-25T02:43:05.969862Z"
    }
   },
   "outputs": [
    {
     "data": {
      "text/html": [
       "<div>\n",
       "<style scoped>\n",
       "    .dataframe tbody tr th:only-of-type {\n",
       "        vertical-align: middle;\n",
       "    }\n",
       "\n",
       "    .dataframe tbody tr th {\n",
       "        vertical-align: top;\n",
       "    }\n",
       "\n",
       "    .dataframe thead th {\n",
       "        text-align: right;\n",
       "    }\n",
       "</style>\n",
       "<table border=\"1\" class=\"dataframe\">\n",
       "  <thead>\n",
       "    <tr style=\"text-align: right;\">\n",
       "      <th></th>\n",
       "      <th>A</th>\n",
       "      <th>B</th>\n",
       "      <th>C</th>\n",
       "      <th>D</th>\n",
       "    </tr>\n",
       "  </thead>\n",
       "  <tbody>\n",
       "    <tr>\n",
       "      <th>2018-05-21</th>\n",
       "      <td>True</td>\n",
       "      <td>True</td>\n",
       "      <td>True</td>\n",
       "      <td>True</td>\n",
       "    </tr>\n",
       "    <tr>\n",
       "      <th>2018-05-22</th>\n",
       "      <td>True</td>\n",
       "      <td>False</td>\n",
       "      <td>False</td>\n",
       "      <td>True</td>\n",
       "    </tr>\n",
       "    <tr>\n",
       "      <th>2018-05-23</th>\n",
       "      <td>True</td>\n",
       "      <td>False</td>\n",
       "      <td>False</td>\n",
       "      <td>True</td>\n",
       "    </tr>\n",
       "    <tr>\n",
       "      <th>2018-05-24</th>\n",
       "      <td>True</td>\n",
       "      <td>True</td>\n",
       "      <td>True</td>\n",
       "      <td>False</td>\n",
       "    </tr>\n",
       "    <tr>\n",
       "      <th>2018-05-25</th>\n",
       "      <td>True</td>\n",
       "      <td>True</td>\n",
       "      <td>False</td>\n",
       "      <td>False</td>\n",
       "    </tr>\n",
       "    <tr>\n",
       "      <th>2018-05-26</th>\n",
       "      <td>True</td>\n",
       "      <td>False</td>\n",
       "      <td>True</td>\n",
       "      <td>False</td>\n",
       "    </tr>\n",
       "  </tbody>\n",
       "</table>\n",
       "</div>"
      ],
      "text/plain": [
       "               A      B      C      D\n",
       "2018-05-21  True   True   True   True\n",
       "2018-05-22  True  False  False   True\n",
       "2018-05-23  True  False  False   True\n",
       "2018-05-24  True   True   True  False\n",
       "2018-05-25  True   True  False  False\n",
       "2018-05-26  True  False   True  False"
      ]
     },
     "metadata": {},
     "output_type": "display_data"
    },
    {
     "data": {
      "text/html": [
       "<div>\n",
       "<style scoped>\n",
       "    .dataframe tbody tr th:only-of-type {\n",
       "        vertical-align: middle;\n",
       "    }\n",
       "\n",
       "    .dataframe tbody tr th {\n",
       "        vertical-align: top;\n",
       "    }\n",
       "\n",
       "    .dataframe thead th {\n",
       "        text-align: right;\n",
       "    }\n",
       "</style>\n",
       "<table border=\"1\" class=\"dataframe\">\n",
       "  <thead>\n",
       "    <tr style=\"text-align: right;\">\n",
       "      <th></th>\n",
       "      <th>A</th>\n",
       "      <th>B</th>\n",
       "      <th>C</th>\n",
       "      <th>D</th>\n",
       "    </tr>\n",
       "  </thead>\n",
       "  <tbody>\n",
       "    <tr>\n",
       "      <th>2018-05-21</th>\n",
       "      <td>1.015118</td>\n",
       "      <td>1.014329</td>\n",
       "      <td>0.174922</td>\n",
       "      <td>0.925094</td>\n",
       "    </tr>\n",
       "    <tr>\n",
       "      <th>2018-05-22</th>\n",
       "      <td>0.010866</td>\n",
       "      <td>NaN</td>\n",
       "      <td>NaN</td>\n",
       "      <td>0.242015</td>\n",
       "    </tr>\n",
       "    <tr>\n",
       "      <th>2018-05-23</th>\n",
       "      <td>0.302503</td>\n",
       "      <td>NaN</td>\n",
       "      <td>NaN</td>\n",
       "      <td>1.445945</td>\n",
       "    </tr>\n",
       "    <tr>\n",
       "      <th>2018-05-24</th>\n",
       "      <td>0.888157</td>\n",
       "      <td>0.188052</td>\n",
       "      <td>0.544727</td>\n",
       "      <td>NaN</td>\n",
       "    </tr>\n",
       "    <tr>\n",
       "      <th>2018-05-25</th>\n",
       "      <td>0.053433</td>\n",
       "      <td>0.065538</td>\n",
       "      <td>NaN</td>\n",
       "      <td>NaN</td>\n",
       "    </tr>\n",
       "    <tr>\n",
       "      <th>2018-05-26</th>\n",
       "      <td>0.440401</td>\n",
       "      <td>NaN</td>\n",
       "      <td>1.504509</td>\n",
       "      <td>NaN</td>\n",
       "    </tr>\n",
       "  </tbody>\n",
       "</table>\n",
       "</div>"
      ],
      "text/plain": [
       "                   A         B         C         D\n",
       "2018-05-21  1.015118  1.014329  0.174922  0.925094\n",
       "2018-05-22  0.010866       NaN       NaN  0.242015\n",
       "2018-05-23  0.302503       NaN       NaN  1.445945\n",
       "2018-05-24  0.888157  0.188052  0.544727       NaN\n",
       "2018-05-25  0.053433  0.065538       NaN       NaN\n",
       "2018-05-26  0.440401       NaN  1.504509       NaN"
      ]
     },
     "metadata": {},
     "output_type": "display_data"
    },
    {
     "data": {
      "text/html": [
       "<div>\n",
       "<style scoped>\n",
       "    .dataframe tbody tr th:only-of-type {\n",
       "        vertical-align: middle;\n",
       "    }\n",
       "\n",
       "    .dataframe tbody tr th {\n",
       "        vertical-align: top;\n",
       "    }\n",
       "\n",
       "    .dataframe thead th {\n",
       "        text-align: right;\n",
       "    }\n",
       "</style>\n",
       "<table border=\"1\" class=\"dataframe\">\n",
       "  <thead>\n",
       "    <tr style=\"text-align: right;\">\n",
       "      <th></th>\n",
       "      <th>A</th>\n",
       "      <th>B</th>\n",
       "      <th>C</th>\n",
       "      <th>D</th>\n",
       "    </tr>\n",
       "  </thead>\n",
       "  <tbody>\n",
       "    <tr>\n",
       "      <th>2018-05-21</th>\n",
       "      <td>1.015118</td>\n",
       "      <td>1.014329</td>\n",
       "      <td>0.174922</td>\n",
       "      <td>0.925094</td>\n",
       "    </tr>\n",
       "    <tr>\n",
       "      <th>2018-05-23</th>\n",
       "      <td>0.302503</td>\n",
       "      <td>-0.924815</td>\n",
       "      <td>-0.309561</td>\n",
       "      <td>1.445945</td>\n",
       "    </tr>\n",
       "    <tr>\n",
       "      <th>2018-05-24</th>\n",
       "      <td>0.888157</td>\n",
       "      <td>0.188052</td>\n",
       "      <td>0.544727</td>\n",
       "      <td>-0.483284</td>\n",
       "    </tr>\n",
       "    <tr>\n",
       "      <th>2018-05-26</th>\n",
       "      <td>0.440401</td>\n",
       "      <td>-1.312992</td>\n",
       "      <td>1.504509</td>\n",
       "      <td>-1.924384</td>\n",
       "    </tr>\n",
       "  </tbody>\n",
       "</table>\n",
       "</div>"
      ],
      "text/plain": [
       "                   A         B         C         D\n",
       "2018-05-21  1.015118  1.014329  0.174922  0.925094\n",
       "2018-05-23  0.302503 -0.924815 -0.309561  1.445945\n",
       "2018-05-24  0.888157  0.188052  0.544727 -0.483284\n",
       "2018-05-26  0.440401 -1.312992  1.504509 -1.924384"
      ]
     },
     "metadata": {},
     "output_type": "display_data"
    }
   ],
   "source": [
    "display(df >0 )\n",
    "\n",
    "display(df[df>0])\n",
    "\n",
    "display(df[df.A > 0.3])"
   ]
  }
 ],
 "metadata": {
  "kernelspec": {
   "display_name": "Python 3 (ipykernel)",
   "language": "python",
   "name": "python3"
  },
  "language_info": {
   "codemirror_mode": {
    "name": "ipython",
    "version": 3
   },
   "file_extension": ".py",
   "mimetype": "text/x-python",
   "name": "python",
   "nbconvert_exporter": "python",
   "pygments_lexer": "ipython3",
   "version": "3.10.4"
  }
 },
 "nbformat": 4,
 "nbformat_minor": 5
}
