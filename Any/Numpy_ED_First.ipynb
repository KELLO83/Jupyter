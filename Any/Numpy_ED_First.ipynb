{
 "cells": [
  {
   "cell_type": "code",
   "execution_count": 1,
   "id": "f073bf08",
   "metadata": {
    "ExecuteTime": {
     "end_time": "2022-11-19T07:46:14.391550Z",
     "start_time": "2022-11-19T07:46:13.949853Z"
    }
   },
   "outputs": [],
   "source": [
    "import numpy as np\n",
    "import random"
   ]
  },
  {
   "cell_type": "markdown",
   "id": "9d223506",
   "metadata": {},
   "source": [
    "### ndarray의 속성"
   ]
  },
  {
   "cell_type": "code",
   "execution_count": 2,
   "id": "f6adeb2d",
   "metadata": {
    "ExecuteTime": {
     "end_time": "2022-11-19T07:46:14.407085Z",
     "start_time": "2022-11-19T07:46:14.394024Z"
    }
   },
   "outputs": [
    {
     "name": "stdout",
     "output_type": "stream",
     "text": [
      "[[10 17  7]\n",
      " [ 3 14  2]\n",
      " [10  3  3]\n",
      " [17 17  3]]\n",
      "2\n",
      "2\n",
      "(4, 3)\n",
      "12\n",
      "int32\n",
      "4\n"
     ]
    }
   ],
   "source": [
    "data=np.random.randint(21,size=12).reshape(4,3) # 구간 0~20 12개발생 4행 3열\n",
    "print(data)\n",
    "print(data.ndim) #axis의수 axis=0 axis=1 존재\n",
    "print(len(data.shape)) #data.ndim 동일작동\n",
    "print(data.shape) #data의 모양 tuple형태로 출력\n",
    "print(data.size) #배열요소의 총갯수\n",
    "print(data.dtype) #배열요소위 자료형\n",
    "print(data.itemsize) #각 요소의 크기"
   ]
  },
  {
   "cell_type": "markdown",
   "id": "8d8f01c1",
   "metadata": {},
   "source": [
    "### ndarray 생성방법"
   ]
  },
  {
   "cell_type": "code",
   "execution_count": 3,
   "id": "6d147d33",
   "metadata": {
    "ExecuteTime": {
     "end_time": "2022-11-19T07:46:14.424871Z",
     "start_time": "2022-11-19T07:46:14.408027Z"
    }
   },
   "outputs": [
    {
     "name": "stdout",
     "output_type": "stream",
     "text": [
      "[[[ 0  1  2]\n",
      "  [ 3  4  5]\n",
      "  [ 6  7  8]\n",
      "  [ 9 10 11]\n",
      "  [12 13 14]]\n",
      "\n",
      " [[15 16 17]\n",
      "  [18 19 20]\n",
      "  [21 22 23]\n",
      "  [24 25 26]\n",
      "  [27 28 29]]]\n"
     ]
    }
   ],
   "source": [
    "array_data=np.arange(30).reshape(2,5,3) #arange를 사용하는 방법 arange=range와 동일하지만 실수도가능\n",
    "print(array_data) #구간 0부터 29까지"
   ]
  },
  {
   "cell_type": "code",
   "execution_count": 4,
   "id": "842f4a46",
   "metadata": {
    "ExecuteTime": {
     "end_time": "2022-11-19T07:46:14.441186Z",
     "start_time": "2022-11-19T07:46:14.426869Z"
    }
   },
   "outputs": [
    {
     "name": "stdout",
     "output_type": "stream",
     "text": [
      "[[1 2 3]\n",
      " [4 5 6]]\n",
      "[[1 2]\n",
      " [3 4]\n",
      " [5 6]]\n"
     ]
    }
   ],
   "source": [
    "a1=np.array([[1,2,3],[4,5,6]]) #array(list) 를 사용하는 방법\n",
    "print(a1)\n",
    "a2=np.array([[1,2],[3,4],[5,6]]) #no.array(s) 이때 s=list(s)\n",
    "print(a2)"
   ]
  },
  {
   "cell_type": "code",
   "execution_count": 5,
   "id": "32ad49fc",
   "metadata": {
    "ExecuteTime": {
     "end_time": "2022-11-19T07:46:14.456135Z",
     "start_time": "2022-11-19T07:46:14.442133Z"
    }
   },
   "outputs": [
    {
     "name": "stdout",
     "output_type": "stream",
     "text": [
      "[[  1.  12.  23.  34.  45.]\n",
      " [ 56.  67.  78.  89. 100.]]\n"
     ]
    }
   ],
   "source": [
    "n2=np.linspace(1,100,10).reshape(2,5) #1,100을포함하는 간격은알아서 10개할당\n",
    "print(n2)"
   ]
  },
  {
   "cell_type": "markdown",
   "id": "0a3cbb2f",
   "metadata": {},
   "source": [
    "### np.zeros np.ones np.full\n",
    "\n",
    "* np.zeros((3,4))\n",
    "* np.ones((3,4)\n",
    "* np.full((3,4),1) 3행4을 전부 1로할당\n",
    "* np.empty((3,4)) 알수없는값으로 3행4열 할당"
   ]
  },
  {
   "cell_type": "code",
   "execution_count": 6,
   "id": "853c835d",
   "metadata": {
    "ExecuteTime": {
     "end_time": "2022-11-19T07:46:14.471155Z",
     "start_time": "2022-11-19T07:46:14.457136Z"
    }
   },
   "outputs": [
    {
     "name": "stdout",
     "output_type": "stream",
     "text": [
      "[[[0. 0. 0. 0. 0.]\n",
      "  [0. 0. 0. 0. 0.]\n",
      "  [0. 0. 0. 0. 0.]]\n",
      "\n",
      " [[0. 0. 0. 0. 0.]\n",
      "  [0. 0. 0. 0. 0.]\n",
      "  [0. 0. 0. 0. 0.]]]\n"
     ]
    }
   ],
   "source": [
    "n3=np.zeros((2,3,5)) # shape (s) 튜플형태로 인자 전달\n",
    "print(n3)"
   ]
  },
  {
   "cell_type": "code",
   "execution_count": 7,
   "id": "df26f1c1",
   "metadata": {
    "ExecuteTime": {
     "end_time": "2022-11-19T07:46:14.486158Z",
     "start_time": "2022-11-19T07:46:14.473156Z"
    }
   },
   "outputs": [
    {
     "name": "stdout",
     "output_type": "stream",
     "text": [
      "[[[1. 1.]\n",
      "  [1. 1.]]\n",
      "\n",
      " [[1. 1.]\n",
      "  [1. 1.]]]\n"
     ]
    }
   ],
   "source": [
    "n4=np.ones((2,2,2))\n",
    "print(n4)"
   ]
  },
  {
   "cell_type": "code",
   "execution_count": 8,
   "id": "5f222069",
   "metadata": {
    "ExecuteTime": {
     "end_time": "2022-11-19T07:46:14.501161Z",
     "start_time": "2022-11-19T07:46:14.487160Z"
    }
   },
   "outputs": [
    {
     "name": "stdout",
     "output_type": "stream",
     "text": [
      "[[[1. 1.]\n",
      "  [1. 1.]]\n",
      "\n",
      " [[1. 1.]\n",
      "  [1. 1.]]]\n"
     ]
    }
   ],
   "source": [
    "n5=np.empty((2,2,2))\n",
    "print(n5)"
   ]
  },
  {
   "cell_type": "code",
   "execution_count": 9,
   "id": "36541a37",
   "metadata": {
    "ExecuteTime": {
     "end_time": "2022-11-19T07:46:14.516165Z",
     "start_time": "2022-11-19T07:46:14.502162Z"
    }
   },
   "outputs": [
    {
     "name": "stdout",
     "output_type": "stream",
     "text": [
      "[[5 5]\n",
      " [5 5]\n",
      " [5 5]]\n"
     ]
    }
   ],
   "source": [
    "n6=np.full((3,2),5) #shape (s) 튜플형태로전달 ,채울숫자\n",
    "print(n6)"
   ]
  },
  {
   "cell_type": "markdown",
   "id": "85831aca",
   "metadata": {},
   "source": [
    "### 난수로 ndarray 생성"
   ]
  },
  {
   "cell_type": "code",
   "execution_count": 10,
   "id": "0d58e130",
   "metadata": {
    "ExecuteTime": {
     "end_time": "2022-11-19T07:46:14.532169Z",
     "start_time": "2022-11-19T07:46:14.519166Z"
    }
   },
   "outputs": [
    {
     "name": "stdout",
     "output_type": "stream",
     "text": [
      "[[4 5 9 5 7]\n",
      " [1 4 5 9 1]]\n"
     ]
    }
   ],
   "source": [
    "c=np.random.randint(1,10,size=10).reshape(2,5) #구간 [1,10)  1~9까지 size만큼 원소를 생성한다\n",
    "print(c)"
   ]
  },
  {
   "cell_type": "code",
   "execution_count": 11,
   "id": "07ef149b",
   "metadata": {
    "ExecuteTime": {
     "end_time": "2022-11-19T07:46:14.547250Z",
     "start_time": "2022-11-19T07:46:14.534170Z"
    }
   },
   "outputs": [
    {
     "name": "stdout",
     "output_type": "stream",
     "text": [
      "[[0.41618265 0.13813028]\n",
      " [0.88681796 0.77099146]\n",
      " [0.05328396 0.60196059]]\n",
      "\n",
      "[[0.83731373 0.19794315]\n",
      " [0.23093236 0.40486822]\n",
      " [0.77078996 0.86910636]]\n"
     ]
    }
   ],
   "source": [
    "d=np.random.rand(3,2)  #3행2열의  : 0 ~ 1의 균일분포구간안에서 발생 [0,1) 구간\n",
    "print(d)\n",
    "print()\n",
    "e=np.random.sample((3,2)) # radom.rand()동일결과 shaep는 tuple형태로전달\n",
    "print(e)"
   ]
  },
  {
   "cell_type": "code",
   "execution_count": 12,
   "id": "dc8bb9ef",
   "metadata": {
    "ExecuteTime": {
     "end_time": "2022-11-19T07:46:14.562653Z",
     "start_time": "2022-11-19T07:46:14.548172Z"
    }
   },
   "outputs": [
    {
     "name": "stdout",
     "output_type": "stream",
     "text": [
      "[[-0.20571782  1.33574817]\n",
      " [-0.43862979 -1.09263906]\n",
      " [-0.86982955 -0.69118981]]\n",
      "\n",
      "[[-0.4871453   0.07384127]\n",
      " [-1.3244275  -1.49271201]\n",
      " [ 0.59400955  0.5299537 ]]\n"
     ]
    }
   ],
   "source": [
    "f=np.random.randn(3,2) #rand와 다르게 가우시안 정규분포 평균 0 분산1 구간에서 발생\n",
    "print(f)\n",
    "print()\n",
    "g=np.random.standard_normal((3,2)) #np.random.randn 동일작동\n",
    "print(g)\n",
    "#random.rand 는 양수만 발생하지만 random.randn 은 평균이 0 분산 1구간에서 전부발생\n"
   ]
  },
  {
   "cell_type": "markdown",
   "id": "9993e6ab",
   "metadata": {},
   "source": [
    "### radom 생성 정리\n",
    "randint(start,end,size=5) -> [start,end)  size 갯수만큼 발생  \n",
    "rand(2,2) -> 2행2열 (0,1]구간안에서 발생  \n",
    "randn(2,2) -> 2행 2열 평균이 0이고 분산이1인구간에서 발생 "
   ]
  },
  {
   "cell_type": "markdown",
   "id": "0e7896ec",
   "metadata": {
    "ExecuteTime": {
     "end_time": "2022-11-19T07:45:52.687163Z",
     "start_time": "2022-11-19T07:45:52.680161Z"
    }
   },
   "source": [
    "### 요소들간의 기본연산"
   ]
  },
  {
   "cell_type": "code",
   "execution_count": 38,
   "id": "9be82d13",
   "metadata": {
    "ExecuteTime": {
     "end_time": "2022-11-19T07:46:50.573522Z",
     "start_time": "2022-11-19T07:46:50.557519Z"
    }
   },
   "outputs": [
    {
     "name": "stdout",
     "output_type": "stream",
     "text": [
      "[30 50 70 90]\n",
      "[-10 -10 -10 -10]\n",
      "[ 200  600 1200 2000]\n"
     ]
    }
   ],
   "source": [
    "a=np.array([10,20,30,40])\n",
    "b=np.array([20,30,40,50])\n",
    "\n",
    "print(a+b)\n",
    "print(a-b)\n",
    "print(a*b)"
   ]
  },
  {
   "cell_type": "markdown",
   "id": "947b1c44",
   "metadata": {
    "ExecuteTime": {
     "end_time": "2022-10-18T15:43:59.948949Z",
     "start_time": "2022-10-18T15:43:59.942947Z"
    }
   },
   "source": [
    "### 행렬의 곱 =>np.dot(a,b)"
   ]
  },
  {
   "cell_type": "code",
   "execution_count": 13,
   "id": "deac0ea5",
   "metadata": {
    "ExecuteTime": {
     "end_time": "2022-11-19T07:46:14.578297Z",
     "start_time": "2022-11-19T07:46:14.563653Z"
    }
   },
   "outputs": [
    {
     "name": "stdout",
     "output_type": "stream",
     "text": [
      "[[22 28]\n",
      " [49 64]]\n"
     ]
    }
   ],
   "source": [
    "a1=np.array([[1,2,3],[4,5,6]])\n",
    "a2=np.array([[1,2],[3,4],[5,6]])\n",
    "dot_arr=np.dot(a1,a2) #행렬의 곱 a1의 열과 a2의 행이 일치해야한다\n",
    "print(dot_arr)"
   ]
  },
  {
   "cell_type": "markdown",
   "id": "36972bfd",
   "metadata": {},
   "source": [
    "### 요소 추가,삽입,삭제\n",
    "\n",
    "* np.append(arr,value,axis)\n",
    "* np.insert(arr,index,value,axis)\n",
    "* np.delete(arr,index,axis)"
   ]
  },
  {
   "cell_type": "code",
   "execution_count": 14,
   "id": "7909334a",
   "metadata": {
    "ExecuteTime": {
     "end_time": "2022-11-19T07:46:14.593942Z",
     "start_time": "2022-11-19T07:46:14.579298Z"
    }
   },
   "outputs": [
    {
     "name": "stdout",
     "output_type": "stream",
     "text": [
      "[[[ 0  1  2]\n",
      "  [ 3  4  5]\n",
      "  [ 6  7  8]\n",
      "  [ 9 10 11]\n",
      "  [12 13 14]]\n",
      "\n",
      " [[15 16 17]\n",
      "  [18 19 20]\n",
      "  [21 22 23]\n",
      "  [24 25 26]\n",
      "  [27 28 29]]]\n",
      "\n",
      "[[ 0  1  2  3]\n",
      " [ 4  5  6  7]\n",
      " [ 8  9 10 11]\n",
      " [12 13 14 15]\n",
      " [16 17 18 19]]\n"
     ]
    }
   ],
   "source": [
    "array_data_3D=np.arange(30).reshape(2,5,3) #0부터29 까지\n",
    "array_data_2D=np.arange(20).reshape(5,4) #0부터 19까지\n",
    "print(array_data_3D)\n",
    "print()\n",
    "print(array_data_2D)"
   ]
  },
  {
   "cell_type": "code",
   "execution_count": 15,
   "id": "8a1b1008",
   "metadata": {
    "ExecuteTime": {
     "end_time": "2022-11-19T07:46:14.609563Z",
     "start_time": "2022-11-19T07:46:14.594942Z"
    }
   },
   "outputs": [
    {
     "name": "stdout",
     "output_type": "stream",
     "text": [
      "[[ 0  1  2  3]\n",
      " [ 4  5  6  7]\n",
      " [ 8  9 10 11]\n",
      " [12 13 14 15]\n",
      " [16 17 18 19]\n",
      " [ 0  0  0  0]]\n"
     ]
    }
   ],
   "source": [
    "array_data_2D=np.append(array_data_2D,[[0,0,0,0]],axis=0) #axis=0행방향추가 \n",
    "print(array_data_2D)\n",
    "#append는 value를 꼭 차원과 동일하게 맞춰서 주어야한다"
   ]
  },
  {
   "cell_type": "code",
   "execution_count": 16,
   "id": "3920c0af",
   "metadata": {
    "ExecuteTime": {
     "end_time": "2022-11-19T07:46:14.624235Z",
     "start_time": "2022-11-19T07:46:14.610563Z"
    }
   },
   "outputs": [
    {
     "name": "stdout",
     "output_type": "stream",
     "text": [
      "[[ 0  1  2  3  1]\n",
      " [ 4  5  6  7  2]\n",
      " [ 8  9 10 11  3]\n",
      " [12 13 14 15  4]\n",
      " [16 17 18 19  5]\n",
      " [ 0  0  0  0  6]]\n"
     ]
    }
   ],
   "source": [
    "array_data_2D=np.append(array_data_2D,[[1],[2],[3],[4],[5],[6]],axis=1) #axis=1 열방향추가\n",
    "print(array_data_2D)\n",
    "#열방향추가시 2차원이니 괄호주의!!!"
   ]
  },
  {
   "cell_type": "code",
   "execution_count": 17,
   "id": "f24595b6",
   "metadata": {
    "ExecuteTime": {
     "end_time": "2022-11-19T07:46:14.639311Z",
     "start_time": "2022-11-19T07:46:14.626239Z"
    }
   },
   "outputs": [],
   "source": [
    "array_data_2D=np.arange(20).reshape(5,4)"
   ]
  },
  {
   "cell_type": "code",
   "execution_count": 18,
   "id": "200eda7e",
   "metadata": {
    "ExecuteTime": {
     "end_time": "2022-11-19T07:46:14.654316Z",
     "start_time": "2022-11-19T07:46:14.641246Z"
    }
   },
   "outputs": [
    {
     "name": "stdout",
     "output_type": "stream",
     "text": [
      "[[   0    1    2    3]\n",
      " [-100 -100 -100 -100]\n",
      " [   4    5    6    7]\n",
      " [   8    9   10   11]\n",
      " [  12   13   14   15]\n",
      " [  16   17   18   19]\n",
      " [-100 -100 -100 -100]]\n"
     ]
    }
   ],
   "source": [
    "array_data_2D=np.insert(array_data_2D,[1,5],-100,axis=0) # [1,5] 행기준 요소를 전부 -100으로채운다\n",
    "print(array_data_2D)\n",
    "#만약 서로 다른 값으로 채우고 싶다면 values를 삽입하려는 axis의 shape에 맞춰서 삽입할 배열을 넣어주면 됩니다."
   ]
  },
  {
   "cell_type": "code",
   "execution_count": 19,
   "id": "d98772a8",
   "metadata": {
    "ExecuteTime": {
     "end_time": "2022-11-19T07:46:14.669258Z",
     "start_time": "2022-11-19T07:46:14.656255Z"
    }
   },
   "outputs": [
    {
     "name": "stdout",
     "output_type": "stream",
     "text": [
      "[[   0    0    0    0]\n",
      " [   0    1    2    3]\n",
      " [-100 -100 -100 -100]\n",
      " [   4    5    6    7]\n",
      " [   8    9   10   11]\n",
      " [  12   13   14   15]\n",
      " [  16   17   18   19]\n",
      " [-100 -100 -100 -100]]\n",
      "\n",
      "[[   9    0    0    0    0]\n",
      " [   9    0    1    2    3]\n",
      " [   9 -100 -100 -100 -100]\n",
      " [   9    4    5    6    7]\n",
      " [   9    8    9   10   11]\n",
      " [   9   12   13   14   15]\n",
      " [   9   16   17   18   19]\n",
      " [   9 -100 -100 -100 -100]]\n"
     ]
    }
   ],
   "source": [
    "array_data_2D=np.insert(array_data_2D,0,[0,0,0,0],axis=0)\n",
    "print(array_data_2D)\n",
    "print()\n",
    "array_data_2D=np.insert(array_data_2D,0,[9,9,9,9,9,9,9,9],axis=1)\n",
    "print(array_data_2D)\n",
    "#Insert 차원을 맞추지않아도된다 전부 동일값삽입시 valuse 에 숫자한개 할당\n",
    "#또는 각 칸마다 다른값을 넣을시 axis=n 의 수의 칸에 맞게 할당한다"
   ]
  },
  {
   "cell_type": "code",
   "execution_count": 20,
   "id": "8b0cd81f",
   "metadata": {
    "ExecuteTime": {
     "end_time": "2022-11-19T07:46:14.684261Z",
     "start_time": "2022-11-19T07:46:14.670259Z"
    }
   },
   "outputs": [
    {
     "name": "stdout",
     "output_type": "stream",
     "text": [
      "[[ 0  1  2  3]\n",
      " [ 4  5  6  7]\n",
      " [ 8  9 10 11]\n",
      " [12 13 14 15]\n",
      " [16 17 18 19]]\n",
      "[[  0   1 -50   2   3]\n",
      " [  4   5 -50   6   7]\n",
      " [  8   9 -50  10  11]\n",
      " [ 12  13 -50  14  15]\n",
      " [ 16  17 -50  18  19]]\n"
     ]
    }
   ],
   "source": [
    "array_data_2D=np.arange(20).reshape(5,4)\n",
    "print(array_data_2D)\n",
    "\n",
    "array_data_2D=np.insert(array_data_2D,2,-50,axis=1)\n",
    "print(array_data_2D)"
   ]
  },
  {
   "cell_type": "code",
   "execution_count": 21,
   "id": "f2055e33",
   "metadata": {
    "ExecuteTime": {
     "end_time": "2022-11-19T07:46:14.699264Z",
     "start_time": "2022-11-19T07:46:14.685261Z"
    }
   },
   "outputs": [
    {
     "name": "stdout",
     "output_type": "stream",
     "text": [
      "[[ 0  1  2  3]\n",
      " [ 4  5  6  7]\n",
      " [ 8  9 10 11]\n",
      " [12 13 14 15]\n",
      " [16 17 18 19]]\n",
      "\n",
      "[[ 0  1  2  3]\n",
      " [ 8  9 10 11]\n",
      " [12 13 14 15]\n",
      " [16 17 18 19]]\n",
      "\n",
      "[[ 1  2  3]\n",
      " [ 9 10 11]\n",
      " [13 14 15]\n",
      " [17 18 19]]\n"
     ]
    }
   ],
   "source": [
    "array_data_2D=np.arange(20).reshape(5,4)\n",
    "print(array_data_2D)\n",
    "print()\n",
    "array_data_2D=np.delete(array_data_2D,1,axis=0)\n",
    "print(array_data_2D)\n",
    "array_data_2D=np.delete(array_data_2D,0,axis=1)\n",
    "print()\n",
    "print(array_data_2D)"
   ]
  },
  {
   "cell_type": "code",
   "execution_count": 22,
   "id": "e6b7804d",
   "metadata": {
    "ExecuteTime": {
     "end_time": "2022-11-19T07:46:14.714339Z",
     "start_time": "2022-11-19T07:46:14.701266Z"
    }
   },
   "outputs": [
    {
     "name": "stdout",
     "output_type": "stream",
     "text": [
      "[[ 1  2]\n",
      " [ 9 10]\n",
      " [13 14]\n",
      " [17 18]]\n"
     ]
    }
   ],
   "source": [
    "array_data_2D=np.delete(array_data_2D,2,axis=1)\n",
    "print(array_data_2D)\n",
    "#np.delete target 삭제할 인덱스 axis를 준다"
   ]
  },
  {
   "cell_type": "code",
   "execution_count": 23,
   "id": "168ac497",
   "metadata": {
    "ExecuteTime": {
     "end_time": "2022-11-19T07:46:14.729070Z",
     "start_time": "2022-11-19T07:46:14.715268Z"
    }
   },
   "outputs": [
    {
     "name": "stdout",
     "output_type": "stream",
     "text": [
      "[[ 1]\n",
      " [ 9]\n",
      " [13]\n",
      " [17]]\n"
     ]
    }
   ],
   "source": [
    "array_data_2D=np.delete(array_data_2D,1,axis=1)\n",
    "print(array_data_2D)"
   ]
  },
  {
   "cell_type": "code",
   "execution_count": 24,
   "id": "c5d1780c",
   "metadata": {
    "ExecuteTime": {
     "end_time": "2022-11-19T07:46:14.744641Z",
     "start_time": "2022-11-19T07:46:14.730634Z"
    }
   },
   "outputs": [
    {
     "name": "stdout",
     "output_type": "stream",
     "text": [
      "[[ 1  1]\n",
      " [ 9  2]\n",
      " [13  3]\n",
      " [17  4]]\n"
     ]
    }
   ],
   "source": [
    "array_data_2D=np.append(array_data_2D,[[1],[2],[3],[4]],axis=1)\n",
    "print(array_data_2D)\n",
    "#append는 기존대상과 차원을 맞추어 삽입한다 열방향 추가b시 주의"
   ]
  },
  {
   "cell_type": "markdown",
   "id": "fa12b2c5",
   "metadata": {
    "ExecuteTime": {
     "end_time": "2022-11-19T07:56:48.079225Z",
     "start_time": "2022-11-19T07:56:48.065223Z"
    }
   },
   "source": [
    "### ndarray의 reshape"
   ]
  },
  {
   "cell_type": "code",
   "execution_count": 43,
   "id": "3cf403de",
   "metadata": {
    "ExecuteTime": {
     "end_time": "2022-11-19T07:57:37.662384Z",
     "start_time": "2022-11-19T07:57:37.647221Z"
    }
   },
   "outputs": [
    {
     "name": "stdout",
     "output_type": "stream",
     "text": [
      "[ 0  1  2  3  4  5  6  7  8  9 10 11]\n",
      "[[ 0  1  2  3]\n",
      " [ 4  5  6  7]\n",
      " [ 8  9 10 11]]\n",
      "[[[ 0  1  2]\n",
      "  [ 3  4  5]]\n",
      "\n",
      " [[ 6  7  8]\n",
      "  [ 9 10 11]]]\n"
     ]
    }
   ],
   "source": [
    "a=np.arange(12)\n",
    "print(a)\n",
    "a.shape=(3,4)\n",
    "print(a)\n",
    "b= a.reshape(2,2,3)\n",
    "print(b)"
   ]
  },
  {
   "cell_type": "code",
   "execution_count": 25,
   "id": "aee571d4",
   "metadata": {
    "ExecuteTime": {
     "end_time": "2022-11-19T07:46:14.759632Z",
     "start_time": "2022-11-19T07:46:14.745643Z"
    }
   },
   "outputs": [
    {
     "name": "stdout",
     "output_type": "stream",
     "text": [
      "[[ 0  1  2]\n",
      " [ 3  4  5]\n",
      " [ 6  7  8]\n",
      " [ 9 10 11]]\n",
      "(4, 3)\n",
      "[[0 1 2]\n",
      " [3 4 5]\n",
      " [6 7 8]]\n",
      "(3, 3)\n",
      "2\n",
      "2\n",
      "9\n",
      "4\n",
      "int32\n",
      "[0 1 2 3 4 5 6 7 8]\n"
     ]
    }
   ],
   "source": [
    "nums = np.array(\n",
    "    [[0,  1,  2],\n",
    "     [3,  4,  5],\n",
    "     [6,  7,  8],\n",
    "     [9, 10, 11]])\n",
    "print(nums)\n",
    "print(nums.shape) #(n.m) n행 m열\n",
    "nums=np.delete(nums,3,axis=0)\n",
    "print(nums)\n",
    "print(nums.shape) #튜플형태 (m행,n열) 전달\n",
    "print(nums.ndim) #2차원 배열\n",
    "print(len(nums.shape)) #numse.ndim 차원의 갯수와동일\n",
    "print(nums.size) #배열요소의 갯수\n",
    "print(nums.itemsize) #배열요소의 자료형 4\n",
    "print(nums.dtype) #배열요소의 자료형 int 32\n"
   ]
  },
  {
   "cell_type": "markdown",
   "id": "b75a3bc3",
   "metadata": {
    "ExecuteTime": {
     "end_time": "2022-11-19T08:22:48.438564Z",
     "start_time": "2022-11-19T08:22:48.435563Z"
    }
   },
   "source": [
    "### nd array ravel"
   ]
  },
  {
   "cell_type": "code",
   "execution_count": 45,
   "id": "67e97148",
   "metadata": {
    "ExecuteTime": {
     "end_time": "2022-11-19T08:23:22.350730Z",
     "start_time": "2022-11-19T08:23:22.344728Z"
    }
   },
   "outputs": [
    {
     "name": "stdout",
     "output_type": "stream",
     "text": [
      "[0 1 2 3 4 5 6 7 8]\n"
     ]
    }
   ],
   "source": [
    "print(nums.ravel())"
   ]
  },
  {
   "cell_type": "code",
   "execution_count": 26,
   "id": "db5f6199",
   "metadata": {
    "ExecuteTime": {
     "end_time": "2022-11-19T07:46:14.774641Z",
     "start_time": "2022-11-19T07:46:14.760632Z"
    }
   },
   "outputs": [
    {
     "name": "stdout",
     "output_type": "stream",
     "text": [
      "[ 9 12 15]\n",
      "[ 3 12 21]\n"
     ]
    }
   ],
   "source": [
    "print(np.sum(nums,axis=0))# axis=0 [0,1,2]->[3,4,5]->[6,7,8]->[9,10,11]\n",
    "print(np.sum(nums,axis=1)) # axis=1 "
   ]
  },
  {
   "cell_type": "markdown",
   "id": "9f990e5b",
   "metadata": {},
   "source": [
    "### Broadcasting"
   ]
  },
  {
   "cell_type": "code",
   "execution_count": 27,
   "id": "f9dd9e70",
   "metadata": {
    "ExecuteTime": {
     "end_time": "2022-11-19T07:46:14.789726Z",
     "start_time": "2022-11-19T07:46:14.775642Z"
    }
   },
   "outputs": [
    {
     "name": "stdout",
     "output_type": "stream",
     "text": [
      "[[0 1 2]\n",
      " [1 2 3]\n",
      " [2 3 4]]\n"
     ]
    }
   ],
   "source": [
    "data=np.arange(3).reshape(3,1)+np.arange(3) #(3,1)+(1,3) =(3,3)\n",
    "print(data)"
   ]
  },
  {
   "cell_type": "code",
   "execution_count": 28,
   "id": "3409fe77",
   "metadata": {
    "ExecuteTime": {
     "end_time": "2022-11-19T07:46:14.804734Z",
     "start_time": "2022-11-19T07:46:14.793730Z"
    }
   },
   "outputs": [
    {
     "name": "stdout",
     "output_type": "stream",
     "text": [
      "[[ 3 17  3 11  1]\n",
      " [10  9 18 19  1]]\n",
      "----------------\n",
      "\n",
      "[[[11  5  4  5  8]\n",
      "  [ 6 12 13 11 14]]\n",
      "\n",
      " [[10 16 19 19  2]\n",
      "  [14  4  7  5  5]]]\n",
      "-----------------\n",
      "[[[14 22  7 16  9]\n",
      "  [16 21 31 30 15]]\n",
      "\n",
      " [[13 33 22 30  3]\n",
      "  [24 13 25 24  6]]]\n",
      "(2, 2, 5)\n"
     ]
    }
   ],
   "source": [
    "d1=np.random.randint(20,size=10).reshape(2,5)\n",
    "d2=np.random.randint(20,size=20).reshape(2,2,5)\n",
    "print(d1)\n",
    "print(\"----------------\")\n",
    "print()\n",
    "print(d2)\n",
    "d3=d1+d2\n",
    "print(\"-----------------\")\n",
    "print(d3) # (2,2,5) \n",
    "print(d3.shape)"
   ]
  },
  {
   "cell_type": "code",
   "execution_count": 29,
   "id": "9ba1b9fc",
   "metadata": {
    "ExecuteTime": {
     "end_time": "2022-11-19T07:46:14.819744Z",
     "start_time": "2022-11-19T07:46:14.806740Z"
    }
   },
   "outputs": [
    {
     "name": "stdout",
     "output_type": "stream",
     "text": [
      "[[ 0  1  2  3]\n",
      " [ 4  5  6  7]\n",
      " [ 8  9 10 11]\n",
      " [12 13 14 15]\n",
      " [16 17 18 19]]\n",
      "\n",
      "[[ 3  4  5  6]\n",
      " [ 7  8  9 10]\n",
      " [11 12 13 14]\n",
      " [15 16 17 18]\n",
      " [19 20 21 22]]\n",
      "d1출력\n",
      " [[ 0  1  2  3]\n",
      " [ 4  5  6  7]\n",
      " [ 8  9 10 11]\n",
      " [12 13 14 15]\n",
      " [16 17 18 19]]\n",
      "d2출력\n",
      " [[[0]]\n",
      "\n",
      " [[1]]\n",
      "\n",
      " [[2]]]\n",
      "[[[ 0  1  2  3]\n",
      "  [ 4  5  6  7]\n",
      "  [ 8  9 10 11]\n",
      "  [12 13 14 15]\n",
      "  [16 17 18 19]]\n",
      "\n",
      " [[ 1  2  3  4]\n",
      "  [ 5  6  7  8]\n",
      "  [ 9 10 11 12]\n",
      "  [13 14 15 16]\n",
      "  [17 18 19 20]]\n",
      "\n",
      " [[ 2  3  4  5]\n",
      "  [ 6  7  8  9]\n",
      "  [10 11 12 13]\n",
      "  [14 15 16 17]\n",
      "  [18 19 20 21]]]\n"
     ]
    }
   ],
   "source": [
    "d1=np.arange(20).reshape(5,4) # (5,4)\n",
    "d2=d1+3 #(3,)+(5,4)\n",
    "print(d1)\n",
    "print()\n",
    "print(d2)\n",
    "d2=np.arange(3).reshape(3,1,1)\n",
    "print(\"d1출력\\n\",d1)\n",
    "print(\"d2출력\\n\",d2)\n",
    "res=d1+d2\n",
    "print(res)# (3,5,4)"
   ]
  },
  {
   "cell_type": "code",
   "execution_count": 30,
   "id": "da510164",
   "metadata": {
    "ExecuteTime": {
     "end_time": "2022-11-19T07:46:14.834751Z",
     "start_time": "2022-11-19T07:46:14.821748Z"
    }
   },
   "outputs": [
    {
     "name": "stdout",
     "output_type": "stream",
     "text": [
      "[[[ 0  1  2  3  4]\n",
      "  [ 5  6  7  8  9]]\n",
      "\n",
      " [[10 11 12 13 14]\n",
      "  [15 16 17 18 19]]]\n",
      "(2, 2, 5)\n",
      "[[0 1 2 3 4]\n",
      " [5 6 7 8 9]]\n",
      "(2, 5)\n",
      "\n",
      "[[[ 0  2  4  6  8]\n",
      "  [10 12 14 16 18]]\n",
      "\n",
      " [[10 12 14 16 18]\n",
      "  [20 22 24 26 28]]]\n"
     ]
    }
   ],
   "source": [
    "d1=np.arange(20).reshape(2,2,5)\n",
    "print(d1)\n",
    "print(d1.shape)\n",
    "d2=np.arange(10).reshape(2,5)\n",
    "print(d2)\n",
    "print(d2.shape)\n",
    "d3=d1+d2\n",
    "print()\n",
    "print(d3)\n"
   ]
  },
  {
   "cell_type": "markdown",
   "id": "c2a2bf2c",
   "metadata": {},
   "source": [
    "### Numpy Indexing slicing"
   ]
  },
  {
   "cell_type": "code",
   "execution_count": 31,
   "id": "beb6f0df",
   "metadata": {
    "ExecuteTime": {
     "end_time": "2022-11-19T07:46:14.849511Z",
     "start_time": "2022-11-19T07:46:14.836752Z"
    }
   },
   "outputs": [
    {
     "name": "stdout",
     "output_type": "stream",
     "text": [
      "[[ 0  1  2  3  4]\n",
      " [ 5  6  7  8  9]\n",
      " [10 11 12 13 14]\n",
      " [15 16 17 18 19]]\n",
      "\n",
      "[ 6 11]\n",
      "\n",
      "[[0 1 2 3 4]\n",
      " [5 6 7 8 9]]\n",
      "\n",
      "[ 9 14 19]\n",
      "\n",
      "[ 4  9 14 19]\n",
      "\n",
      "[15 16 17 18 19]\n",
      "\n",
      "[10 11 12 13 14]\n",
      "\n",
      "8\n",
      "[ 8 13 18]\n"
     ]
    }
   ],
   "source": [
    "d1=np.arange(20).reshape(4,5)\n",
    "print(d1)\n",
    "print()\n",
    "\n",
    "print(d1[1:3,1]) #6 11 1,2인덱스를 1열에서 추출한다\n",
    "print()\n",
    "print(d1[:2])  #0 1행 전부 출력\n",
    "print()\n",
    "print(d1[1:,4]) #1행부터 끝까지 4열에서 출력\n",
    "print()\n",
    "print(d1[:,-1]) #마지막열에서 전부출력\n",
    "print()\n",
    "print(d1[-1]) #행의 마지막행을 출력한다 d1[:,-1]과 다르게 출력한다\n",
    "print()\n",
    "print(d1[-2]) #행 인덱싱\n",
    "print()\n",
    "print(d1[-3,-2]) #-3번쨰원소인데 끝에서 2번째열에서 추출한다 햇갈림...\n",
    "print(d1[-3:,-2]) #-2번쨰열에사 -3부터끝까지 전부출력 8 13 18"
   ]
  },
  {
   "cell_type": "markdown",
   "id": "69ce9c1f",
   "metadata": {},
   "source": [
    "### copy  boolean indexing  filtering searching "
   ]
  },
  {
   "cell_type": "code",
   "execution_count": 33,
   "id": "ff73b095",
   "metadata": {
    "ExecuteTime": {
     "end_time": "2022-11-19T07:46:14.879633Z",
     "start_time": "2022-11-19T07:46:14.865759Z"
    }
   },
   "outputs": [
    {
     "name": "stdout",
     "output_type": "stream",
     "text": [
      "[[ 0.54699363  0.33582597  0.10027799]\n",
      " [ 1.19181842 -2.07175905 -0.65820272]\n",
      " [-0.24242957 -1.57468406  0.21693703]]\n",
      "2537717410736\n",
      "2537717412272\n"
     ]
    }
   ],
   "source": [
    "d1=np.random.randn(3,3)\n",
    "print(d1)\n",
    "d2=d1.copy()\n",
    "print(id(d1)) \n",
    "print(id(d2))\n",
    "# 주소값이 다르다 깊은복사 Numpy copy()사용"
   ]
  },
  {
   "cell_type": "code",
   "execution_count": 34,
   "id": "c1bad0f3",
   "metadata": {
    "ExecuteTime": {
     "end_time": "2022-11-19T07:46:14.894640Z",
     "start_time": "2022-11-19T07:46:14.880633Z"
    }
   },
   "outputs": [
    {
     "name": "stdout",
     "output_type": "stream",
     "text": [
      "[12 11 18 10 10  5 11 17 19  2  5 10 10  8  7]\n",
      "[12 18 10 10  2 10 10  8]\n"
     ]
    }
   ],
   "source": [
    "#Numpy filtering\n",
    "arr=np.random.randint(20,size=15) #0~19까지 숫자를 15개만든다\n",
    "print(arr)\n",
    "func=arr%2==0\n",
    "print(arr[func])"
   ]
  },
  {
   "cell_type": "code",
   "execution_count": 35,
   "id": "e44525d3",
   "metadata": {
    "ExecuteTime": {
     "end_time": "2022-11-19T07:46:14.909633Z",
     "start_time": "2022-11-19T07:46:14.895641Z"
    }
   },
   "outputs": [
    {
     "name": "stdout",
     "output_type": "stream",
     "text": [
      "[[ 0  1  2  3]\n",
      " [ 4  5  6  7]\n",
      " [ 8  9 10 11]\n",
      " [12 13 14 15]\n",
      " [16 17 18 19]]\n",
      "\n",
      "[[ 0  1  2  3]\n",
      " [ 8  9 10 11]\n",
      " [16 17 18 19]]\n",
      "\n"
     ]
    }
   ],
   "source": [
    "d1=np.arange(20).reshape(5,4)\n",
    "print(d1)\n",
    "print()\n",
    "rows=np.array([True,False,True,False,True])\n",
    "res=d1[rows,:]\n",
    "print(res)\n",
    "print()\n"
   ]
  },
  {
   "cell_type": "code",
   "execution_count": 47,
   "id": "882c1947",
   "metadata": {
    "ExecuteTime": {
     "end_time": "2022-11-19T08:24:44.835554Z",
     "start_time": "2022-11-19T08:24:44.821020Z"
    }
   },
   "outputs": [
    {
     "name": "stdout",
     "output_type": "stream",
     "text": [
      "[2 4 6]\n"
     ]
    }
   ],
   "source": [
    "arr=np.array([1,2,3,4,5,6,7]) #filter 사용\n",
    "filter = arr%2 == 0\n",
    "newarr=arr[filter]\n",
    "print(newarr)"
   ]
  },
  {
   "cell_type": "code",
   "execution_count": 36,
   "id": "55504159",
   "metadata": {
    "ExecuteTime": {
     "end_time": "2022-11-19T07:46:14.924637Z",
     "start_time": "2022-11-19T07:46:14.910633Z"
    }
   },
   "outputs": [
    {
     "name": "stdout",
     "output_type": "stream",
     "text": [
      "[[1 2 3]\n",
      " [4 3 6]\n",
      " [7 8 9]\n",
      " [3 2 1]]\n",
      "\n",
      "(array([0, 1, 3], dtype=int64), array([2, 1, 0], dtype=int64))\n",
      "[0 1 3]\n",
      "[2 1 0]\n"
     ]
    }
   ],
   "source": [
    "#np.searching\n",
    "d1=np.array([[1,2,3],[4,3,6],[7,8,9],[3,2,1]])\n",
    "print(d1)\n",
    "print()\n",
    "x=np.where(d1==3)\n",
    "print(x)  \n",
    "print(x[0])\n",
    "print(x[1])"
   ]
  },
  {
   "cell_type": "code",
   "execution_count": 37,
   "id": "ad10e159",
   "metadata": {
    "ExecuteTime": {
     "end_time": "2022-11-19T07:46:14.939640Z",
     "start_time": "2022-11-19T07:46:14.925636Z"
    }
   },
   "outputs": [
    {
     "name": "stdout",
     "output_type": "stream",
     "text": [
      "[[17 14 14  7  6]\n",
      " [ 4 11  1 13  4]\n",
      " [ 1 12 14  4 10]]\n",
      "(array([2], dtype=int64), array([4], dtype=int64))\n",
      "\n",
      "(array([0], dtype=int64), array([0], dtype=int64))\n"
     ]
    }
   ],
   "source": [
    "data=np.random.randint(20,size=15).reshape(3,5)\n",
    "print(data)\n",
    "\n",
    "find=np.where(data==10)\n",
    "print(find)\n",
    "print()\n",
    "p=np.where(data>15)\n",
    "print(p)"
   ]
  }
 ],
 "metadata": {
  "kernelspec": {
   "display_name": "Python 3 (ipykernel)",
   "language": "python",
   "name": "python3"
  },
  "language_info": {
   "codemirror_mode": {
    "name": "ipython",
    "version": 3
   },
   "file_extension": ".py",
   "mimetype": "text/x-python",
   "name": "python",
   "nbconvert_exporter": "python",
   "pygments_lexer": "ipython3",
   "version": "3.10.4"
  }
 },
 "nbformat": 4,
 "nbformat_minor": 5
}
