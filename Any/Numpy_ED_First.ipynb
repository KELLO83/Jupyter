{
 "cells": [
  {
   "cell_type": "code",
   "execution_count": 1,
   "id": "f073bf08",
   "metadata": {
    "ExecuteTime": {
     "end_time": "2022-10-18T15:24:18.708796Z",
     "start_time": "2022-10-18T15:24:18.607260Z"
    }
   },
   "outputs": [],
   "source": [
    "import numpy as np\n",
    "import random"
   ]
  },
  {
   "cell_type": "markdown",
   "id": "8d8f01c1",
   "metadata": {},
   "source": [
    "### ndarray 생성방법"
   ]
  },
  {
   "cell_type": "code",
   "execution_count": 2,
   "id": "6d147d33",
   "metadata": {
    "ExecuteTime": {
     "end_time": "2022-10-18T15:24:18.723799Z",
     "start_time": "2022-10-18T15:24:18.710797Z"
    }
   },
   "outputs": [
    {
     "name": "stdout",
     "output_type": "stream",
     "text": [
      "[[[ 0  1  2]\n",
      "  [ 3  4  5]\n",
      "  [ 6  7  8]\n",
      "  [ 9 10 11]\n",
      "  [12 13 14]]\n",
      "\n",
      " [[15 16 17]\n",
      "  [18 19 20]\n",
      "  [21 22 23]\n",
      "  [24 25 26]\n",
      "  [27 28 29]]]\n"
     ]
    }
   ],
   "source": [
    "array_data=np.arange(30).reshape(2,5,3)\n",
    "print(array_data)"
   ]
  },
  {
   "cell_type": "code",
   "execution_count": 21,
   "id": "842f4a46",
   "metadata": {
    "ExecuteTime": {
     "end_time": "2022-10-18T15:44:57.370452Z",
     "start_time": "2022-10-18T15:44:57.362609Z"
    }
   },
   "outputs": [
    {
     "name": "stdout",
     "output_type": "stream",
     "text": [
      "[[1 2 3]\n",
      " [4 5 6]]\n",
      "[[1 2]\n",
      " [3 4]\n",
      " [5 6]]\n"
     ]
    }
   ],
   "source": [
    "a1=np.array([[1,2,3],[4,5,6]])\n",
    "print(a1)\n",
    "a2=np.array([[1,2],[3,4],[5,6]])\n",
    "print(a2)"
   ]
  },
  {
   "cell_type": "code",
   "execution_count": 4,
   "id": "32ad49fc",
   "metadata": {
    "ExecuteTime": {
     "end_time": "2022-10-18T15:24:18.754806Z",
     "start_time": "2022-10-18T15:24:18.741803Z"
    }
   },
   "outputs": [
    {
     "name": "stdout",
     "output_type": "stream",
     "text": [
      "[[  1.  12.  23.  34.  45.]\n",
      " [ 56.  67.  78.  89. 100.]]\n"
     ]
    }
   ],
   "source": [
    "n2=np.linspace(1,100,10).reshape(2,5)\n",
    "print(n2)"
   ]
  },
  {
   "cell_type": "code",
   "execution_count": 5,
   "id": "853c835d",
   "metadata": {
    "ExecuteTime": {
     "end_time": "2022-10-18T15:24:18.770198Z",
     "start_time": "2022-10-18T15:24:18.755807Z"
    }
   },
   "outputs": [
    {
     "name": "stdout",
     "output_type": "stream",
     "text": [
      "[[[0. 0. 0. 0. 0.]\n",
      "  [0. 0. 0. 0. 0.]\n",
      "  [0. 0. 0. 0. 0.]]\n",
      "\n",
      " [[0. 0. 0. 0. 0.]\n",
      "  [0. 0. 0. 0. 0.]\n",
      "  [0. 0. 0. 0. 0.]]]\n"
     ]
    }
   ],
   "source": [
    "n3=np.zeros((2,3,5)) # shape (s) 튜플형태로 인자 전달\n",
    "print(n3)"
   ]
  },
  {
   "cell_type": "code",
   "execution_count": 6,
   "id": "df26f1c1",
   "metadata": {
    "ExecuteTime": {
     "end_time": "2022-10-18T15:24:18.785259Z",
     "start_time": "2022-10-18T15:24:18.771199Z"
    }
   },
   "outputs": [
    {
     "name": "stdout",
     "output_type": "stream",
     "text": [
      "[[[1. 1.]\n",
      "  [1. 1.]]\n",
      "\n",
      " [[1. 1.]\n",
      "  [1. 1.]]]\n"
     ]
    }
   ],
   "source": [
    "n4=np.ones((2,2,2))\n",
    "print(n4)"
   ]
  },
  {
   "cell_type": "code",
   "execution_count": 7,
   "id": "5f222069",
   "metadata": {
    "ExecuteTime": {
     "end_time": "2022-10-18T15:24:18.800208Z",
     "start_time": "2022-10-18T15:24:18.786205Z"
    }
   },
   "outputs": [
    {
     "name": "stdout",
     "output_type": "stream",
     "text": [
      "[[[1. 1.]\n",
      "  [1. 1.]]\n",
      "\n",
      " [[1. 1.]\n",
      "  [1. 1.]]]\n"
     ]
    }
   ],
   "source": [
    "n5=np.empty((2,2,2))\n",
    "print(n5)"
   ]
  },
  {
   "cell_type": "code",
   "execution_count": 8,
   "id": "36541a37",
   "metadata": {
    "ExecuteTime": {
     "end_time": "2022-10-18T15:24:18.814962Z",
     "start_time": "2022-10-18T15:24:18.801208Z"
    }
   },
   "outputs": [
    {
     "name": "stdout",
     "output_type": "stream",
     "text": [
      "[[5 5]\n",
      " [5 5]\n",
      " [5 5]]\n"
     ]
    }
   ],
   "source": [
    "n6=np.full((3,2),5) #shape (s) 튜플형태로전달 ,채울숫자\n",
    "print(n6)"
   ]
  },
  {
   "cell_type": "markdown",
   "id": "85831aca",
   "metadata": {},
   "source": [
    "### 난수로 ndarray 생성"
   ]
  },
  {
   "cell_type": "code",
   "execution_count": 10,
   "id": "0d58e130",
   "metadata": {
    "ExecuteTime": {
     "end_time": "2022-10-18T15:24:24.151440Z",
     "start_time": "2022-10-18T15:24:24.144633Z"
    }
   },
   "outputs": [
    {
     "name": "stdout",
     "output_type": "stream",
     "text": [
      "[[4 3 4 4 6]\n",
      " [5 8 6 5 7]]\n"
     ]
    }
   ],
   "source": [
    "c=np.random.randint(1,10,size=10).reshape(2,5) #구간 [1,10) \n",
    "print(c)"
   ]
  },
  {
   "cell_type": "code",
   "execution_count": 17,
   "id": "07ef149b",
   "metadata": {
    "ExecuteTime": {
     "end_time": "2022-10-18T15:30:08.847453Z",
     "start_time": "2022-10-18T15:30:08.832968Z"
    }
   },
   "outputs": [
    {
     "name": "stdout",
     "output_type": "stream",
     "text": [
      "[[0.01138804 0.65757877]\n",
      " [0.82375795 0.12636385]\n",
      " [0.28251828 0.71080792]]\n",
      "\n",
      "[[0.88518524 0.37938108]\n",
      " [0.74093318 0.96831202]\n",
      " [0.70592448 0.64049471]]\n"
     ]
    }
   ],
   "source": [
    "d=np.random.rand(3,2)  #3행2열의  : 0 ~ 1의 균일분포구간안에서 발생 [0,1) 구간\n",
    "print(d)\n",
    "print()\n",
    "e=np.random.sample((3,2)) # radom.rand()동일결과 shaep는 tuple형태로전달\n",
    "print(e)"
   ]
  },
  {
   "cell_type": "code",
   "execution_count": 16,
   "id": "dc8bb9ef",
   "metadata": {
    "ExecuteTime": {
     "end_time": "2022-10-18T15:28:36.064734Z",
     "start_time": "2022-10-18T15:28:36.058561Z"
    }
   },
   "outputs": [
    {
     "name": "stdout",
     "output_type": "stream",
     "text": [
      "[[ 0.53288037 -2.00361003]\n",
      " [ 1.01667305 -0.3265618 ]\n",
      " [-0.64497963  2.35681877]]\n"
     ]
    }
   ],
   "source": [
    "f=np.random.randn(3,2) #rand와 다르게 가우시안 정규분포 평균 0 분산1 구간에서 발생\n",
    "print(f)\n",
    "#random.rand 는 양수만 발생하지만 random.randn 은 평균이 0 분산 1구간에서 전부발생\n"
   ]
  },
  {
   "cell_type": "markdown",
   "id": "9993e6ab",
   "metadata": {},
   "source": [
    "### radom 생성 정리\n",
    "randint(start,end,size=5) -> [start,end) size 갯수만큼 발생  \n",
    "rand(2,2) -> 2행2열 (0,1]구간안에서 발생  \n",
    "randn(2,2) -> 2행 2열 평균이 0이고 분산이1인구간에서 발생 "
   ]
  },
  {
   "cell_type": "markdown",
   "id": "947b1c44",
   "metadata": {
    "ExecuteTime": {
     "end_time": "2022-10-18T15:43:59.948949Z",
     "start_time": "2022-10-18T15:43:59.942947Z"
    }
   },
   "source": [
    "### 행렬의 곱"
   ]
  },
  {
   "cell_type": "code",
   "execution_count": 23,
   "id": "deac0ea5",
   "metadata": {
    "ExecuteTime": {
     "end_time": "2022-10-18T15:45:36.884274Z",
     "start_time": "2022-10-18T15:45:36.879273Z"
    }
   },
   "outputs": [
    {
     "name": "stdout",
     "output_type": "stream",
     "text": [
      "[[22 28]\n",
      " [49 64]]\n"
     ]
    }
   ],
   "source": [
    "a1=np.array([[1,2,3],[4,5,6]])\n",
    "a2=np.array([[1,2],[3,4],[5,6]])\n",
    "dot_arr=np.dot(a1,a2) #행렬의 곱 a1의 열과 a2의 행이 일치해야한다\n",
    "print(dot_arr)"
   ]
  },
  {
   "cell_type": "markdown",
   "id": "36972bfd",
   "metadata": {},
   "source": [
    "### 요소 추가,삽입,삭제"
   ]
  },
  {
   "cell_type": "code",
   "execution_count": 40,
   "id": "7909334a",
   "metadata": {
    "ExecuteTime": {
     "end_time": "2022-10-18T15:56:58.508459Z",
     "start_time": "2022-10-18T15:56:58.499383Z"
    }
   },
   "outputs": [
    {
     "name": "stdout",
     "output_type": "stream",
     "text": [
      "[[ 0  1  2  3]\n",
      " [ 4  5  6  7]\n",
      " [ 8  9 10 11]\n",
      " [12 13 14 15]\n",
      " [16 17 18 19]]\n"
     ]
    }
   ],
   "source": [
    "array_data_3D=np.arange(30).reshape(2,5,3)\n",
    "array_data_2D=np.arange(20).reshape(5,4)\n",
    "print(array_data_2D)"
   ]
  },
  {
   "cell_type": "code",
   "execution_count": 41,
   "id": "8a1b1008",
   "metadata": {
    "ExecuteTime": {
     "end_time": "2022-10-18T15:57:02.480286Z",
     "start_time": "2022-10-18T15:57:02.471294Z"
    }
   },
   "outputs": [
    {
     "name": "stdout",
     "output_type": "stream",
     "text": [
      "[[ 0  1  2  3]\n",
      " [ 4  5  6  7]\n",
      " [ 8  9 10 11]\n",
      " [12 13 14 15]\n",
      " [16 17 18 19]\n",
      " [ 0  0  0  0]]\n"
     ]
    }
   ],
   "source": [
    "array_data_2D=np.append(array_data_2D,[[0,0,0,0]],axis=0) #axis=0행방향추가 \n",
    "print(array_data_2D)"
   ]
  },
  {
   "cell_type": "code",
   "execution_count": 44,
   "id": "3920c0af",
   "metadata": {
    "ExecuteTime": {
     "end_time": "2022-10-18T15:58:28.607881Z",
     "start_time": "2022-10-18T15:58:28.597339Z"
    }
   },
   "outputs": [
    {
     "name": "stdout",
     "output_type": "stream",
     "text": [
      "[[ 0  1  2  3  1]\n",
      " [ 4  5  6  7  1]\n",
      " [ 8  9 10 11  1]\n",
      " [12 13 14 15  1]\n",
      " [16 17 18 19  1]\n",
      " [ 0  0  0  0  1]]\n"
     ]
    }
   ],
   "source": [
    "array_data_2D=np.append(array_data_2D,[[1],[1],[1],[1],[1],[1]],axis=1) #axis=1 열방향추가\n",
    "print(array_data_2D)"
   ]
  },
  {
   "cell_type": "code",
   "execution_count": 48,
   "id": "f24595b6",
   "metadata": {
    "ExecuteTime": {
     "end_time": "2022-10-18T16:02:10.183713Z",
     "start_time": "2022-10-18T16:02:10.171678Z"
    }
   },
   "outputs": [],
   "source": [
    "array_data_2D=np.arange(20).reshape(5,4)"
   ]
  },
  {
   "cell_type": "code",
   "execution_count": 49,
   "id": "200eda7e",
   "metadata": {
    "ExecuteTime": {
     "end_time": "2022-10-18T16:02:10.922671Z",
     "start_time": "2022-10-18T16:02:10.908833Z"
    }
   },
   "outputs": [
    {
     "name": "stdout",
     "output_type": "stream",
     "text": [
      "[[   0    1    2    3]\n",
      " [-100 -100 -100 -100]\n",
      " [   4    5    6    7]\n",
      " [   8    9   10   11]\n",
      " [  12   13   14   15]\n",
      " [  16   17   18   19]\n",
      " [-100 -100 -100 -100]]\n"
     ]
    }
   ],
   "source": [
    "array_data_2D=np.insert(array_data_2D,[1,5],-100,axis=0) # [1,5] 행기준 요소를 전부 -100으로채운다\n",
    "print(array_data_2D)"
   ]
  },
  {
   "cell_type": "code",
   "execution_count": null,
   "id": "e6b7804d",
   "metadata": {},
   "outputs": [],
   "source": []
  }
 ],
 "metadata": {
  "kernelspec": {
   "display_name": "Python 3 (ipykernel)",
   "language": "python",
   "name": "python3"
  },
  "language_info": {
   "codemirror_mode": {
    "name": "ipython",
    "version": 3
   },
   "file_extension": ".py",
   "mimetype": "text/x-python",
   "name": "python",
   "nbconvert_exporter": "python",
   "pygments_lexer": "ipython3",
   "version": "3.10.4"
  }
 },
 "nbformat": 4,
 "nbformat_minor": 5
}
