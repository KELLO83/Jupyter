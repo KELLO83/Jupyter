{
 "cells": [
  {
   "cell_type": "markdown",
   "id": "694b24c4",
   "metadata": {},
   "source": [
    "### 위치인수,가변인수,디폴트인수,키워드인수,키워드가변인수\n",
    "* 위치인수는 기본적으로 순서대로 전달됨 ->반드시 순서를 기억해야한다 불편\n",
    "* 키워드인수 인수에 이름을 붙이느 기능(키워드=값) ->인수의 전달순서와 상관없이 인수전달가능\n",
    "* 위치인수 키워드인수 혼합사용시 별표(*)인수로 구분필수!!!!  "
   ]
  },
  {
   "cell_type": "markdown",
   "id": "5995b130",
   "metadata": {},
   "source": [
    "iterable 객체 - 반복 가능한 객체  \n",
    "대표적으로 iterable한 타입 - list, dict, set, str, bytes, tuple, range  \n",
    "for in 반복문, Range, enumerate 에서 iterable한 타입과 iterable한 타입을 확인하는 방법이 있습니다.  \n",
    "  \n",
    "  \n",
    "Iterator  \n",
    "iterator 객체 - 값을 차례대로 꺼낼 수 있는 객체입니다.\n",
    "iterator는 iterable한 객체를 내장함수 또는 iterable객체의 메소드로 객체를 생성할 수 있습니다.\n",
    "파이썬 내장함수 iter()를 사용해 iterator 객체를 만들어봅니다. REPL을 실행합니다.  \n",
    "  \n",
    "Sequence  \n",
    "파이썬에는 세 가지 시퀀스(sequence) 자료형이 있다.  \n",
    "문자열: 'Hello'. 문자열(string)은 문자(character)들의 시퀀스다.  \n",
    "리스트: [1, 4, 5].  \n",
    "튜플: ('GOOG', 100, 490.1).  \n",
    "모든 시퀀스는 순서가 유지되고, 정수로 인덱싱하며, 길이가 있다.  \n"
   ]
  },
  {
   "cell_type": "markdown",
   "id": "ebd1aeef",
   "metadata": {
    "ExecuteTime": {
     "end_time": "2022-10-20T13:35:01.682817Z",
     "start_time": "2022-10-20T13:35:01.666061Z"
    }
   },
   "source": [
    "식별연산자 ->객첵의 주소를 비교하는 연산자   \n",
    "is  \n",
    "is not\n",
    "비교연산자는 값을비교하는 반면 식별연산자는 객체의 주소를 비교합니다\n"
   ]
  },
  {
   "cell_type": "code",
   "execution_count": 1,
   "id": "105ff547",
   "metadata": {
    "ExecuteTime": {
     "end_time": "2022-10-21T01:06:03.076206Z",
     "start_time": "2022-10-21T01:06:03.049116Z"
    }
   },
   "outputs": [
    {
     "name": "stdout",
     "output_type": "stream",
     "text": [
      "3 5\n",
      "kello\n",
      "test\n",
      "default\n"
     ]
    }
   ],
   "source": [
    "def func(a,b,*,name,test,default_arg=\"default\"): # a,b는 위치인수 name,test 키워드인수\n",
    "    print(a,b)\n",
    "    print(name)\n",
    "    print(test)\n",
    "    print(default_arg) #디폴트 인수 ->기본값을 가진인수 위치인수 키워드인수 혼재사용시 반드시 \n",
    "    #오른쪽부터 채워서 사용을해야한다\n",
    "    \n",
    "func(3,5,test=\"test\",name=\"kello\")"
   ]
  },
  {
   "cell_type": "code",
   "execution_count": 2,
   "id": "8c389440",
   "metadata": {
    "ExecuteTime": {
     "end_time": "2022-10-21T01:06:03.105381Z",
     "start_time": "2022-10-21T01:06:03.078282Z"
    }
   },
   "outputs": [
    {
     "data": {
      "text/plain": [
       "15"
      ]
     },
     "execution_count": 2,
     "metadata": {},
     "output_type": "execute_result"
    }
   ],
   "source": [
    "def sum_arg(*args): #가변인수 인수의개수가 가변적 (tupele 형태로 전달된다)\n",
    "    sum=0\n",
    "    for i in args:\n",
    "        sum+=i\n",
    "    return sum\n",
    "\n",
    "sum_arg(1,2,3,4,5) #가변인수 tuple로 제공\n"
   ]
  },
  {
   "cell_type": "code",
   "execution_count": 3,
   "id": "ed5220e6",
   "metadata": {
    "ExecuteTime": {
     "end_time": "2022-10-21T01:06:03.128951Z",
     "start_time": "2022-10-21T01:06:03.105381Z"
    }
   },
   "outputs": [
    {
     "name": "stdout",
     "output_type": "stream",
     "text": [
      "kello\n",
      "15\n"
     ]
    }
   ],
   "source": [
    "def sum_many(*args,name='kello'):\n",
    "    sum=0\n",
    "    for i in args:\n",
    "        sum+=i\n",
    "    print(name)\n",
    "    return sum\n",
    "print(sum_many(1,2,3,4,5))"
   ]
  },
  {
   "cell_type": "code",
   "execution_count": 4,
   "id": "b08f0718",
   "metadata": {
    "ExecuteTime": {
     "end_time": "2022-10-21T01:06:03.144293Z",
     "start_time": "2022-10-21T01:06:03.133934Z"
    }
   },
   "outputs": [
    {
     "name": "stdout",
     "output_type": "stream",
     "text": [
      "3\n",
      "{'one': '하나', 'two': '둘'}\n",
      "one 하나 two 둘 \n",
      "하나 둘 \n",
      "one two \n"
     ]
    }
   ],
   "source": [
    "def sum_many(x,y,**kwargs): #키워드 가변인수 (dict로 제공된다)\n",
    "    print(x+y)\n",
    "    print(kwargs)\n",
    "    for key,value in kwargs.items():\n",
    "        print(key,value,end=\" \")\n",
    "    print()\n",
    "    for key in kwargs.values():\n",
    "        print(key,end=\" \")\n",
    "    print()\n",
    "    for key in kwargs:\n",
    "        print(key,end=\" \")\n",
    "    print()\n",
    "sum_many(1,2,one='하나',two='둘')"
   ]
  },
  {
   "cell_type": "markdown",
   "id": "c58631a1",
   "metadata": {},
   "source": [
    "### 파일처리\n",
    "* write ->쓰기\n",
    "* read ->파일통쨰로 읽기\n",
    "* readline-> 한줄읽기\n",
    "* readlines-> 라인별로 읽어서 리스트로 저장한다"
   ]
  },
  {
   "cell_type": "code",
   "execution_count": 5,
   "id": "63cc5030",
   "metadata": {
    "ExecuteTime": {
     "end_time": "2022-10-21T01:06:03.159502Z",
     "start_time": "2022-10-21T01:06:03.148359Z"
    }
   },
   "outputs": [],
   "source": [
    "import random\n",
    "user=open(\"user_text.txt\",\"w\")\n",
    "user.write(\"user_test\\n\")\n",
    "user.write(\"user_test_second\")\n",
    "user.write(\"1부터9사이숫자 임의 발생\\n\")\n",
    "for i in range(5):\n",
    "    user.write(\"난수생성 {}\\n\".format(random.randrange(10)))\n",
    "user.close()"
   ]
  },
  {
   "cell_type": "code",
   "execution_count": 6,
   "id": "74de9c18",
   "metadata": {
    "ExecuteTime": {
     "end_time": "2022-10-21T01:06:03.196740Z",
     "start_time": "2022-10-21T01:06:03.163574Z"
    }
   },
   "outputs": [
    {
     "name": "stdout",
     "output_type": "stream",
     "text": [
      "user_test\n",
      "user_test_second1부터9사이숫자 임의 발생\n",
      "난수생성 1\n",
      "난수생성 7\n",
      "난수생성 5\n",
      "난수생성 0\n",
      "난수생성 2\n",
      "\n"
     ]
    }
   ],
   "source": [
    "with open(\"user_text.txt\",\"r\") as file:\n",
    "    print(file.read())"
   ]
  },
  {
   "cell_type": "code",
   "execution_count": 7,
   "id": "e6748b46",
   "metadata": {
    "ExecuteTime": {
     "end_time": "2022-10-21T01:06:03.212090Z",
     "start_time": "2022-10-21T01:06:03.200003Z"
    }
   },
   "outputs": [
    {
     "name": "stdout",
     "output_type": "stream",
     "text": [
      "user_test\n",
      "user_test_second1부터9사이숫자 임의 발생\n",
      "난수생성 1\n",
      "난수생성 7\n",
      "난수생성 5\n",
      "난수생성 0\n",
      "난수생성 2\n",
      "전부읽음 파일읽기 종료\n"
     ]
    }
   ],
   "source": [
    "with open(\"user_text.txt\",\"r\") as file:\n",
    "    while True:\n",
    "        line=file.readline()\n",
    "        if not line:\n",
    "            print(\"전부읽음 파일읽기 종료\")\n",
    "            break\n",
    "        print(line,end=\"\")"
   ]
  },
  {
   "cell_type": "code",
   "execution_count": 8,
   "id": "e7ec8f2f",
   "metadata": {
    "ExecuteTime": {
     "end_time": "2022-10-21T01:06:03.242123Z",
     "start_time": "2022-10-21T01:06:03.214552Z"
    }
   },
   "outputs": [
    {
     "name": "stdout",
     "output_type": "stream",
     "text": [
      "['user_test\\n', 'user_test_second1부터9사이숫자 임의 발생\\n', '난수생성 1\\n', '난수생성 7\\n', '난수생성 5\\n', '난수생성 0\\n', '난수생성 2\\n']\n"
     ]
    }
   ],
   "source": [
    "with open(\"user_text.txt\",\"r\") as f:\n",
    "    data=f.readlines() #readlines 라인단위로 읽어서 리스트로 저장한다\n",
    "    print(data) "
   ]
  },
  {
   "cell_type": "markdown",
   "id": "1299fe3b",
   "metadata": {},
   "source": [
    "### 바이너리 파일"
   ]
  },
  {
   "cell_type": "code",
   "execution_count": 9,
   "id": "7e07f670",
   "metadata": {
    "ExecuteTime": {
     "end_time": "2022-10-21T01:06:03.257315Z",
     "start_time": "2022-10-21T01:06:03.246150Z"
    }
   },
   "outputs": [
    {
     "name": "stdout",
     "output_type": "stream",
     "text": [
      "b'test'\n",
      "test\n"
     ]
    }
   ],
   "source": [
    "bstr='test'.encode()\n",
    "print(bstr)\n",
    "print(bstr.decode())"
   ]
  },
  {
   "cell_type": "markdown",
   "id": "d9c9fddf",
   "metadata": {},
   "source": [
    "### 수치데이터 읽기/쓰기"
   ]
  },
  {
   "cell_type": "code",
   "execution_count": 10,
   "id": "ef8d73c4",
   "metadata": {
    "ExecuteTime": {
     "end_time": "2022-10-21T01:06:03.273389Z",
     "start_time": "2022-10-21T01:06:03.264176Z"
    }
   },
   "outputs": [
    {
     "name": "stdout",
     "output_type": "stream",
     "text": [
      "10 0.1 0.2\n"
     ]
    }
   ],
   "source": [
    "import struct\n",
    "\n",
    "\n",
    "data=struct.pack(\"idd\",10,0.1,0.2)\n",
    "x,y,z=struct.unpack(\"idd\",data)\n",
    "print(x,y,z)"
   ]
  },
  {
   "cell_type": "markdown",
   "id": "f356cb9c",
   "metadata": {},
   "source": [
    "### 상속"
   ]
  },
  {
   "cell_type": "code",
   "execution_count": 11,
   "id": "98fb0b65",
   "metadata": {
    "ExecuteTime": {
     "end_time": "2022-10-21T01:06:03.288622Z",
     "start_time": "2022-10-21T01:06:03.276564Z"
    }
   },
   "outputs": [
    {
     "name": "stdout",
     "output_type": "stream",
     "text": [
      "name=kello age=25 grade=30\n",
      "class_variable\n",
      "class_variable\n"
     ]
    }
   ],
   "source": [
    "class person():\n",
    "    def __init__(self,name,age) -> None:\n",
    "        self.name=name\n",
    "        self.age=age\n",
    "        \n",
    "class std(person):\n",
    "    class_variable=\"class_variable\"\n",
    "    def __init__(self,grade) -> None:\n",
    "        person.__init__(self,name=\"kello\",age=25)\n",
    "        self.grade=grade\n",
    "    \n",
    "    def get_state(self):\n",
    "        print(f\"name={self.name} age={self.age} grade={self.grade}\")\n",
    "\n",
    "s1=std(30)\n",
    "s1.get_state()\n",
    "print(std.class_variable)\n",
    "print(s1.class_variable)"
   ]
  }
 ],
 "metadata": {
  "kernelspec": {
   "display_name": "Python 3 (ipykernel)",
   "language": "python",
   "name": "python3"
  },
  "language_info": {
   "codemirror_mode": {
    "name": "ipython",
    "version": 3
   },
   "file_extension": ".py",
   "mimetype": "text/x-python",
   "name": "python",
   "nbconvert_exporter": "python",
   "pygments_lexer": "ipython3",
   "version": "3.10.4"
  }
 },
 "nbformat": 4,
 "nbformat_minor": 5
}
