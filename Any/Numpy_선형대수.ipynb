{
 "cells": [
  {
   "cell_type": "code",
   "execution_count": 1,
   "id": "d9e53449",
   "metadata": {
    "ExecuteTime": {
     "end_time": "2022-10-28T00:46:05.055069Z",
     "start_time": "2022-10-28T00:46:04.077240Z"
    }
   },
   "outputs": [],
   "source": [
    "import numpy as np"
   ]
  },
  {
   "cell_type": "code",
   "execution_count": 2,
   "id": "5798ec52",
   "metadata": {
    "ExecuteTime": {
     "end_time": "2022-10-28T00:46:21.151728Z",
     "start_time": "2022-10-28T00:46:21.136076Z"
    }
   },
   "outputs": [],
   "source": [
    "import numpy.linalg as npl"
   ]
  },
  {
   "cell_type": "code",
   "execution_count": 3,
   "id": "aa994c63",
   "metadata": {
    "ExecuteTime": {
     "end_time": "2022-10-28T00:46:28.914616Z",
     "start_time": "2022-10-28T00:46:28.886018Z"
    }
   },
   "outputs": [
    {
     "name": "stdout",
     "output_type": "stream",
     "text": [
      "a\n",
      " [[1. 0. 0.]\n",
      " [0. 1. 0.]\n",
      " [0. 0. 1.]]\n",
      "b\n",
      " [[1 3]\n",
      " [2 4]]\n",
      "역행렬\n",
      " [[-2.   1.5]\n",
      " [ 1.  -0.5]]\n"
     ]
    }
   ],
   "source": [
    "\n",
    "a=np.eye(3) #n*n 단위행렬 생성 \n",
    "print('a\\n',a)\n",
    "\n",
    "b=np.array([[1,3],[2,4]])\n",
    "print('b\\n',b)\n",
    "print('역행렬\\n',npl.inv(b)) #b의 역행렬 B*B^-1=I B행렬 * B역행렬=단위행렬\n"
   ]
  },
  {
   "cell_type": "code",
   "execution_count": 5,
   "id": "b664e6b5",
   "metadata": {
    "ExecuteTime": {
     "end_time": "2022-10-28T00:47:05.038121Z",
     "start_time": "2022-10-28T00:47:05.018124Z"
    }
   },
   "outputs": [
    {
     "name": "stdout",
     "output_type": "stream",
     "text": [
      "[[ 0  1  2  3]\n",
      " [ 4  5  6  7]\n",
      " [ 8  9 10 11]]\n",
      "[[ 0  4  8]\n",
      " [ 1  5  9]\n",
      " [ 2  6 10]\n",
      " [ 3  7 11]]\n"
     ]
    }
   ],
   "source": [
    "a=np.arange(12).reshape(3,4)\n",
    "b=np.arange(24).reshape(2,4,3)\n",
    "print(a)\n",
    "print(a.T) #A행렬의 전치행렬 구하기 전치행렬->행과열을 바꾼다\n"
   ]
  },
  {
   "cell_type": "code",
   "execution_count": 7,
   "id": "03530bb1",
   "metadata": {
    "ExecuteTime": {
     "end_time": "2022-10-28T00:51:14.784112Z",
     "start_time": "2022-10-28T00:51:14.775001Z"
    }
   },
   "outputs": [
    {
     "name": "stdout",
     "output_type": "stream",
     "text": [
      "[[[ 0  1  2]\n",
      "  [ 3  4  5]\n",
      "  [ 6  7  8]\n",
      "  [ 9 10 11]]\n",
      "\n",
      " [[12 13 14]\n",
      "  [15 16 17]\n",
      "  [18 19 20]\n",
      "  [21 22 23]]] \n",
      "\n",
      "[[[ 0  3  6  9]\n",
      "  [12 15 18 21]]\n",
      "\n",
      " [[ 1  4  7 10]\n",
      "  [13 16 19 22]]\n",
      "\n",
      " [[ 2  5  8 11]\n",
      "  [14 17 20 23]]]\n"
     ]
    }
   ],
   "source": [
    "a=np.arange(24).reshape(2,4,3)\n",
    "print(a,'\\n')\n",
    "print(np.transpose(a,(2,0,1))) # (3,2,4)"
   ]
  },
  {
   "cell_type": "code",
   "execution_count": 9,
   "id": "39c89a02",
   "metadata": {
    "ExecuteTime": {
     "end_time": "2022-10-28T01:02:04.346299Z",
     "start_time": "2022-10-28T01:02:04.337080Z"
    }
   },
   "outputs": [
    {
     "name": "stdout",
     "output_type": "stream",
     "text": [
      "[[1 2 3]\n",
      " [4 5 6]\n",
      " [7 8 9]] \n",
      "\n",
      "[1 5 9] \n",
      "\n",
      "15\n"
     ]
    }
   ],
   "source": [
    "a=np.arange(1,10).reshape(3,3)\n",
    "print(a,'\\n') \n",
    "b=np.diag(a) #대각원소\n",
    "print(b,'\\n')\n",
    "c=np.trace(a) #대각원소들의합\n",
    "print(c)"
   ]
  },
  {
   "cell_type": "code",
   "execution_count": 22,
   "id": "4fa11461",
   "metadata": {
    "ExecuteTime": {
     "end_time": "2022-10-28T01:11:02.183541Z",
     "start_time": "2022-10-28T01:11:02.167984Z"
    }
   },
   "outputs": [
    {
     "name": "stdout",
     "output_type": "stream",
     "text": [
      "[[16  6 13  9  1]\n",
      " [11 20 20  9  8]\n",
      " [18 19 13  4  8]\n",
      " [13 10  9  4 10]]\n",
      "\n",
      "argmax 6\n",
      "argmax axis 0 [2 1 1 0 3]\n",
      "armax axis 1 [0 1 1 0]\n"
     ]
    }
   ],
   "source": [
    "#최대 최소값의 위치구하기 argmax argmin\n",
    "\n",
    "b=np.random.randint(21,size=20).reshape(4,5)\n",
    "print(b)\n",
    "print()\n",
    "print(f\"argmax {np.argmax(b)}\")\n",
    "print(f\"argmax axis 0 {np.argmax(b,axis=0)}\") #axis=0 =>행방향 밑방향으로검사한다\n",
    "print(f\"armax axis 1 {np.argmax(b,axis=1)}\") #axis=1 => 열방향 옆방향으로 검사한다"
   ]
  },
  {
   "cell_type": "code",
   "execution_count": null,
   "id": "a5866ebe",
   "metadata": {},
   "outputs": [],
   "source": []
  }
 ],
 "metadata": {
  "kernelspec": {
   "display_name": "Python 3 (ipykernel)",
   "language": "python",
   "name": "python3"
  },
  "language_info": {
   "codemirror_mode": {
    "name": "ipython",
    "version": 3
   },
   "file_extension": ".py",
   "mimetype": "text/x-python",
   "name": "python",
   "nbconvert_exporter": "python",
   "pygments_lexer": "ipython3",
   "version": "3.10.4"
  }
 },
 "nbformat": 4,
 "nbformat_minor": 5
}
