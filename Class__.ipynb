{
 "cells": [
  {
   "cell_type": "code",
   "execution_count": 8,
   "id": "04efa1bb",
   "metadata": {},
   "outputs": [
    {
     "name": "stdout",
     "output_type": "stream",
     "text": [
      "이름을 입력하세요KE\n",
      "나이를 입력하세요13\n",
      "학점을 입력하세요A+\n",
      "이름:KE 나이:13\n",
      "A+\n"
     ]
    }
   ],
   "source": [
    "from abc import *\n",
    "class person(metaclass=ABCMeta):\n",
    "    name=''\n",
    "    age=0\n",
    "    def __init__(self,name,age):\n",
    "        self.name=name\n",
    "        self.age=age\n",
    "    @abstractmethod\n",
    "    def prInfo(self):\n",
    "         print(\"이름 {} 나이 {}\".format(self.name, self.age))     \n",
    "class Student(person):\n",
    "    grade__=30\n",
    "    name__='Class_vair'\n",
    "    age__=\"100\"\n",
    "    def __init__(self,name,age,grade):\n",
    "        # person.__init__(self,name,age)\n",
    "        super().__init__(name, age)\n",
    "        self.grade=grade\n",
    "    def __repr__(self):\n",
    "        return \"이름:{} 나이:{}\".format(self.name, self.age)\n",
    "    @classmethod\n",
    "    def Class_method_prInfo(cls,name,age):\n",
    "        print(\"이름:{} 나이:{}\".format(name,age))\n",
    "    def prInfo(self):\n",
    "         print(\"이름 {} 나이 {}\".format(self.name, self.age))\n",
    "        \n",
    "if __name__ == \"__main__\":\n",
    "    name=str(input(\"이름을 입력하세요\"))\n",
    "    age=str(input(\"나이를 입력하세요\"))\n",
    "    grade=str(input(\"학점을 입력하세요\"))\n",
    "    A=Student(name, age, grade)\n",
    "    # print(A)\n",
    "    # print(type(A))\n",
    "    # print(A.Class_method_prInfo(name, age))\n",
    "    print(A)\n",
    "    print(A.grade)\n"
   ]
  },
  {
   "cell_type": "code",
   "execution_count": 12,
   "id": "f45a974c",
   "metadata": {},
   "outputs": [
    {
     "name": "stdout",
     "output_type": "stream",
     "text": [
      "이름:KE 나이:13\n"
     ]
    }
   ],
   "source": [
    "print(A)"
   ]
  }
 ],
 "metadata": {
  "kernelspec": {
   "display_name": "python_3.5",
   "language": "python",
   "name": "python_3.5"
  },
  "language_info": {
   "codemirror_mode": {
    "name": "ipython",
    "version": 3
   },
   "file_extension": ".py",
   "mimetype": "text/x-python",
   "name": "python",
   "nbconvert_exporter": "python",
   "pygments_lexer": "ipython3",
   "version": "3.5.6"
  }
 },
 "nbformat": 4,
 "nbformat_minor": 5
}
