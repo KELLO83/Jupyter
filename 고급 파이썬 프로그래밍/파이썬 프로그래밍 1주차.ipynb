{
 "cells": [
  {
   "cell_type": "markdown",
   "id": "046e589d",
   "metadata": {},
   "source": [
    "* *object  가변인수  => tuple형태로 전달  \n",
    "인수를 1개 2개..n개이던상관없이 tuple형태로 전달 \n",
    "\n",
    "* __input()=> 모든 입력값은 string형태로 무조건 return함__  \n",
    "그러므로 int형태로 바꿔줄려면 int(inpit())을 해주어야한다\n",
    "*x=eval(input())=> eval 입력받은문자가 정수면=> 정수 실수면=>실수로 자동 변환  \n",
    "*formaint 3가지 방식     \n",
    "    * C-style fomatting\n",
    "        * %d %s   \n",
    "        * 인수가 2개이상일경우 괄호로 묶어서 전달  \n",
    "        * %[fomat]  \n",
    "        속성:(flag,width,.pre,type)  \n",
    "        flag=> 0,-,+\n",
    "        *형식지정자\n",
    "        %d,%s,%o,%x,%f\n",
    "    * fomat 함수\n",
    "    * f-string\n"
   ]
  },
  {
   "cell_type": "markdown",
   "id": "ed760948",
   "metadata": {},
   "source": [
    "##### 숫자와 문자열은 다르다\n",
    "``` python\n",
    "print(100+200)=>300\n",
    "print(\"100\"+\"200\")=>100200\n",
    "print(100+\"200)=> Error\n",
    "```\n",
    "\n"
   ]
  },
  {
   "cell_type": "markdown",
   "id": "3ec2651f",
   "metadata": {
    "ExecuteTime": {
     "end_time": "2022-09-16T01:41:52.358558Z",
     "start_time": "2022-09-16T01:41:52.346094Z"
    }
   },
   "source": [
    "tuple은 패킹 언패킹 기능이있다\n",
    "``` python\n",
    "tr=1,2,3=>(1,2,3)\n",
    "```\n",
    "*packing   \n",
    "    tuple은 관련 항목을 단일 entity로묶을떄 사용  \n",
    "*unpacking  \n",
    "    전달받은 tuple은 풀어서 사용가능  "
   ]
  },
  {
   "cell_type": "markdown",
   "id": "630daca3",
   "metadata": {},
   "source": [
    "list tuple dic  원소가있으면 true 없으면 false  \n",
    "None=>False  \n"
   ]
  },
  {
   "cell_type": "code",
   "execution_count": 5,
   "id": "d8565297",
   "metadata": {
    "ExecuteTime": {
     "end_time": "2022-09-16T00:56:14.584976Z",
     "start_time": "2022-09-16T00:56:13.493180Z"
    }
   },
   "outputs": [
    {
     "name": "stdout",
     "output_type": "stream",
     "text": [
      "아무거나입력5\n"
     ]
    },
    {
     "data": {
      "text/plain": [
       "int"
      ]
     },
     "execution_count": 5,
     "metadata": {},
     "output_type": "execute_result"
    }
   ],
   "source": [
    "data=eval(input(\"아무거나입력\"))\n",
    "type(data)\n"
   ]
  },
  {
   "cell_type": "code",
   "execution_count": 12,
   "id": "cc2bfedb",
   "metadata": {
    "ExecuteTime": {
     "end_time": "2022-09-16T01:08:06.378545Z",
     "start_time": "2022-09-16T01:08:06.368930Z"
    }
   },
   "outputs": [
    {
     "name": "stdout",
     "output_type": "stream",
     "text": [
      "-3\n"
     ]
    }
   ],
   "source": [
    "print(\"{0:+}\".format(-3))"
   ]
  },
  {
   "cell_type": "code",
   "execution_count": 17,
   "id": "bb0188ed",
   "metadata": {
    "ExecuteTime": {
     "end_time": "2022-09-16T01:15:36.599101Z",
     "start_time": "2022-09-16T01:15:36.594052Z"
    }
   },
   "outputs": [
    {
     "name": "stdout",
     "output_type": "stream",
     "text": [
      "data\n",
      "     31.12\n"
     ]
    }
   ],
   "source": [
    "name=\"data\"\n",
    "float_=31.12345678\n",
    "print(f\"{name}\")\n",
    "print(f\"{float_:10.2f}\")"
   ]
  },
  {
   "cell_type": "code",
   "execution_count": 21,
   "id": "3333d0e6",
   "metadata": {
    "ExecuteTime": {
     "end_time": "2022-09-16T01:35:20.172876Z",
     "start_time": "2022-09-16T01:35:20.158299Z"
    }
   },
   "outputs": [
    {
     "name": "stdout",
     "output_type": "stream",
     "text": [
      "<class 'complex'>\n",
      "(1+2j)\n"
     ]
    }
   ],
   "source": [
    "data=1+2j\n",
    "\n",
    "print(type(data))\n",
    "print(data)"
   ]
  }
 ],
 "metadata": {
  "kernelspec": {
   "display_name": "Python 3 (ipykernel)",
   "language": "python",
   "name": "python3"
  },
  "language_info": {
   "codemirror_mode": {
    "name": "ipython",
    "version": 3
   },
   "file_extension": ".py",
   "mimetype": "text/x-python",
   "name": "python",
   "nbconvert_exporter": "python",
   "pygments_lexer": "ipython3",
   "version": "3.10.4"
  }
 },
 "nbformat": 4,
 "nbformat_minor": 5
}
