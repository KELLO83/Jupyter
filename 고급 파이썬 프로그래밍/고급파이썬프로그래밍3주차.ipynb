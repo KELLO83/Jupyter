{
 "cells": [
  {
   "cell_type": "code",
   "execution_count": 9,
   "id": "6666b294",
   "metadata": {
    "ExecuteTime": {
     "end_time": "2022-09-30T00:50:41.519243Z",
     "start_time": "2022-09-30T00:50:41.489893Z"
    }
   },
   "outputs": [
    {
     "name": "stdout",
     "output_type": "stream",
     "text": [
      "안녕\n"
     ]
    }
   ],
   "source": [
    "bytes([10,20,30,40])\n",
    "bytes(b'hello')\n",
    "\n",
    "bstr1='hello'.encode()\n",
    "bstr2='안녕'.encode('euc-kr')\n",
    "\n",
    "print(bstr2.decode('euc-kr'))"
   ]
  },
  {
   "cell_type": "code",
   "execution_count": 11,
   "id": "39adcd15",
   "metadata": {
    "ExecuteTime": {
     "end_time": "2022-09-30T00:52:40.571162Z",
     "start_time": "2022-09-30T00:52:40.554657Z"
    }
   },
   "outputs": [],
   "source": [
    "data=[1,2,3,4,5]\n",
    "with open(\"test.txt\",'wb') as f:\n",
    "    f.write(bytes(data))"
   ]
  },
  {
   "cell_type": "code",
   "execution_count": 12,
   "id": "d114c7ef",
   "metadata": {
    "ExecuteTime": {
     "end_time": "2022-09-30T00:53:17.113902Z",
     "start_time": "2022-09-30T00:53:17.096569Z"
    }
   },
   "outputs": [
    {
     "name": "stdout",
     "output_type": "stream",
     "text": [
      "1\n",
      "2\n",
      "3\n",
      "4\n",
      "5\n"
     ]
    }
   ],
   "source": [
    "with open(\"test.txt\",'rb') as f:\n",
    "    data=f.read()\n",
    "    for i in data:\n",
    "        print(i)"
   ]
  },
  {
   "cell_type": "code",
   "execution_count": 18,
   "id": "db533cc5",
   "metadata": {
    "ExecuteTime": {
     "end_time": "2022-09-30T00:56:02.721711Z",
     "start_time": "2022-09-30T00:56:02.713286Z"
    }
   },
   "outputs": [
    {
     "name": "stdout",
     "output_type": "stream",
     "text": [
      "b'\\x01'\n",
      "b'\\x02'\n",
      "b'\\x03'\n",
      "b'\\x04'\n",
      "b'\\x05'\n"
     ]
    }
   ],
   "source": [
    "with open(\"test.txt\",'rb') as f:\n",
    "    byte=f.read(1)\n",
    "    while byte!=b\"\":\n",
    "        print(byte)\n",
    "        byte=f.read(1)"
   ]
  },
  {
   "cell_type": "code",
   "execution_count": 2,
   "id": "fb66b9b7",
   "metadata": {
    "ExecuteTime": {
     "end_time": "2022-09-30T02:50:52.773623Z",
     "start_time": "2022-09-30T02:50:52.767500Z"
    }
   },
   "outputs": [],
   "source": [
    "import collections"
   ]
  },
  {
   "cell_type": "code",
   "execution_count": null,
   "id": "6d1ec4de",
   "metadata": {
    "ExecuteTime": {
     "end_time": "2022-09-30T02:35:02.106055Z",
     "start_time": "2022-09-30T02:35:02.087683Z"
    }
   },
   "outputs": [],
   "source": [
    "point=collections.namedtuple('ke',['x','y'])\n",
    "p=point(11,y=22)\n",
    "print(p)\n",
    "\n",
    "print(p.x+p.y)\n",
    "x,y=p\n",
    "print(x) #unpack like a regular tuple\n"
   ]
  },
  {
   "cell_type": "markdown",
   "id": "e8426aa4",
   "metadata": {},
   "source": [
    "``` python\n",
    "class point:\n",
    "    def __init__(self,x,y)\n",
    "        self.x=x\n",
    "        self.y=y\n",
    " p=point(11,22)\n",
    "\n",
    "point=collection.namedtuple('point',['x','y'])\n",
    "p=point(11,22)\n",
    " ```"
   ]
  },
  {
   "cell_type": "code",
   "execution_count": 4,
   "id": "0b388717",
   "metadata": {
    "ExecuteTime": {
     "end_time": "2022-09-30T02:51:03.820364Z",
     "start_time": "2022-09-30T02:51:03.801173Z"
    }
   },
   "outputs": [
    {
     "name": "stdout",
     "output_type": "stream",
     "text": [
      "deque([3])\n",
      "deque([7, 3, 5])\n",
      "deque([3, 5, 5, 7])\n"
     ]
    }
   ],
   "source": [
    "s1=collections.deque()\n",
    "s1.append(3)\n",
    "print(s1)\n",
    "s1.append(5)\n",
    "s1.append(7)\n",
    "\n",
    "s1.rotate(1)\n",
    "print(s1)\n",
    "s1.append\n",
    "s1.append(5)\n",
    "s1.rotate(-1)\n",
    "print(s1)"
   ]
  },
  {
   "cell_type": "code",
   "execution_count": 9,
   "id": "bd7993e8",
   "metadata": {
    "ExecuteTime": {
     "end_time": "2022-09-30T02:58:50.532172Z",
     "start_time": "2022-09-30T02:58:50.513608Z"
    }
   },
   "outputs": [
    {
     "name": "stdout",
     "output_type": "stream",
     "text": [
      "['s', 'l', 'e', 'e', 'p']\n",
      "Counter({'e': 2, 's': 1, 'l': 1, 'p': 1})\n",
      "0\n"
     ]
    }
   ],
   "source": [
    "text=list(\"sleep\")\n",
    "print(text)\n",
    "c=collections.Counter(text)\n",
    "print(c) #dict 형태로 저장됨\n",
    "print(c['a'])"
   ]
  },
  {
   "cell_type": "code",
   "execution_count": 11,
   "id": "12bc7d19",
   "metadata": {
    "ExecuteTime": {
     "end_time": "2022-09-30T03:01:55.942527Z",
     "start_time": "2022-09-30T03:01:55.934453Z"
    }
   },
   "outputs": [
    {
     "name": "stdout",
     "output_type": "stream",
     "text": [
      "OrderedDict([('a', 100), ('c', 300), ('b', 200)])\n"
     ]
    }
   ],
   "source": [
    "#순서를 가진딕셔너리 collection.OrderedDict\n",
    "\n",
    "\n",
    "d=collections.OrderedDict()\n",
    "d['a']=100\n",
    "d['c']=300\n",
    "d['b']=200\n",
    "\n",
    "print(d)"
   ]
  }
 ],
 "metadata": {
  "kernelspec": {
   "display_name": "Python 3 (ipykernel)",
   "language": "python",
   "name": "python3"
  },
  "language_info": {
   "codemirror_mode": {
    "name": "ipython",
    "version": 3
   },
   "file_extension": ".py",
   "mimetype": "text/x-python",
   "name": "python",
   "nbconvert_exporter": "python",
   "pygments_lexer": "ipython3",
   "version": "3.10.4"
  }
 },
 "nbformat": 4,
 "nbformat_minor": 5
}
