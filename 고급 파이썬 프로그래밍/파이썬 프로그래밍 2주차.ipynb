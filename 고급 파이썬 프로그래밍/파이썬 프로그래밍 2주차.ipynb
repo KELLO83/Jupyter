{
 "cells": [
  {
   "cell_type": "code",
   "execution_count": null,
   "id": "106bcdfe",
   "metadata": {
    "ExecuteTime": {
     "end_time": "2022-09-23T00:35:44.740570Z",
     "start_time": "2022-09-23T00:35:44.735086Z"
    }
   },
   "outputs": [],
   "source": [
    "import sys\n",
    "\n",
    "print(sys.version)\n"
   ]
  },
  {
   "cell_type": "code",
   "execution_count": null,
   "id": "e6d0d33e",
   "metadata": {
    "ExecuteTime": {
     "end_time": "2022-09-23T01:35:50.616395Z",
     "start_time": "2022-09-23T01:35:50.603977Z"
    }
   },
   "outputs": [],
   "source": [
    "def func(a,*,b,c):  #키워드 인수 강제화 *\n",
    "    return a+b+c\n",
    "if __name__==\"__main__\":\n",
    "    print(func(5,b=3,c=1))"
   ]
  },
  {
   "cell_type": "code",
   "execution_count": null,
   "id": "93172899",
   "metadata": {
    "ExecuteTime": {
     "end_time": "2022-09-23T01:38:26.758577Z",
     "start_time": "2022-09-23T01:38:26.747793Z"
    }
   },
   "outputs": [],
   "source": [
    "def sum_many(*args): #가변인수 인수의 개수가 가변적으로 변할때 (tuple형태로 전달)\n",
    "    sum=0\n",
    "    for i in args: #tuple에있는 요소를 하나씩 꺼내서 for문진행\n",
    "        print(i)\n",
    "        sum+=i\n",
    "    print(\"sum=\",sum)\n",
    "    print()\n",
    "if __name__==\"__main__\":\n",
    "    sum_many(1,2,3,4)\n",
    "    sum_many(1,2,3)"
   ]
  },
  {
   "cell_type": "code",
   "execution_count": null,
   "id": "1cad060c",
   "metadata": {
    "ExecuteTime": {
     "end_time": "2022-09-23T01:50:05.111403Z",
     "start_time": "2022-09-23T01:50:05.102519Z"
    }
   },
   "outputs": [],
   "source": [
    "def sum_many(x,y,**kwargs): # 키워드 가변인수 dict형태로묶어서 제공\n",
    "    print(x+y)\n",
    "    print(kwargs) #dict형태로 출력\n",
    "    if 'one' in kwargs:\n",
    "        print('kwargs 안에 하나있다')\n",
    "    for value in kwargs.values():\n",
    "        print(value)\n",
    "if __name__==\"__main__\":\n",
    "    sum_many(3,5,one=\"하나\",two=\"둘\")"
   ]
  },
  {
   "cell_type": "code",
   "execution_count": null,
   "id": "bab3e9e0",
   "metadata": {
    "ExecuteTime": {
     "end_time": "2022-09-23T02:04:45.807590Z",
     "start_time": "2022-09-23T02:04:45.799228Z"
    }
   },
   "outputs": [],
   "source": [
    "# lambda 인수:식 한줄짜리 축양형 함수 if while사용 불가\n",
    "data=lambda x,y :x*y\n",
    "print(data(3,5))\n",
    "print((lambda x,y :x+y)(2,3))"
   ]
  },
  {
   "cell_type": "code",
   "execution_count": null,
   "id": "07048979",
   "metadata": {
    "ExecuteTime": {
     "end_time": "2022-09-23T02:04:49.140436Z",
     "start_time": "2022-09-23T02:04:49.133015Z"
    }
   },
   "outputs": [],
   "source": [
    "import math"
   ]
  },
  {
   "cell_type": "code",
   "execution_count": null,
   "id": "e4abab3a",
   "metadata": {
    "ExecuteTime": {
     "end_time": "2022-09-23T02:05:40.232419Z",
     "start_time": "2022-09-23T02:05:40.213027Z"
    }
   },
   "outputs": [],
   "source": [
    "print(round(3.4))\n",
    "print(round(3.1238,3))\n",
    "\n",
    "print(math.ceil(3.000011)) \n",
    "print(math.floor(3.99999999999))"
   ]
  },
  {
   "cell_type": "code",
   "execution_count": null,
   "id": "f58dcabe",
   "metadata": {
    "ExecuteTime": {
     "end_time": "2022-09-23T02:09:21.611986Z",
     "start_time": "2022-09-23T02:09:21.604353Z"
    }
   },
   "outputs": [],
   "source": [
    "import random\n",
    "\n",
    "print(random.random()) # 0.0~1.0 사이의 실수 반환\n",
    "print(random.uniform(3,5)) # 3~5사이의 실수를 반환\n",
    "print(random.randint(3,10)) #3~10 사이의 정수"
   ]
  },
  {
   "cell_type": "code",
   "execution_count": null,
   "id": "ee7f0f2e",
   "metadata": {
    "ExecuteTime": {
     "end_time": "2022-09-23T02:28:53.270179Z",
     "start_time": "2022-09-23T02:28:53.250848Z"
    }
   },
   "outputs": [],
   "source": [
    "import datetime\n",
    "\n",
    "now=datetime.datetime.now()\n",
    "print(now)\n",
    "print(now.hour)"
   ]
  },
  {
   "cell_type": "code",
   "execution_count": 6,
   "id": "05ac9703",
   "metadata": {
    "ExecuteTime": {
     "end_time": "2022-09-23T02:49:32.120527Z",
     "start_time": "2022-09-23T02:49:30.134959Z"
    }
   },
   "outputs": [
    {
     "name": "stdout",
     "output_type": "stream",
     "text": [
      "양의 정수 입력-10\n",
      "음수-10가 입력됨 에러발생시간2022-09-23 11:49:32.099063\n"
     ]
    }
   ],
   "source": [
    "import datetime\n",
    "\n",
    "with open(\"logfile.txt\",\"w\") as log:\n",
    "    sum=0\n",
    "    while True:\n",
    "        data=int(input(\"양의 정수 입력\"))\n",
    "        try:\n",
    "            if data<0:\n",
    "                now=datetime.datetime.now()\n",
    "                raise RuntimeError(\"음수{}가 입력됨 에러발생시간{}\".format(data,now))\n",
    "        except RuntimeError as er:\n",
    "            print(er)\n",
    "            log.write(str(er))\n",
    "            break\n",
    "            \n"
   ]
  },
  {
   "cell_type": "code",
   "execution_count": 19,
   "id": "a0cc4a80",
   "metadata": {
    "ExecuteTime": {
     "end_time": "2022-09-23T02:54:44.212353Z",
     "start_time": "2022-09-23T02:54:44.196219Z"
    }
   },
   "outputs": [],
   "source": [
    "user_file=open(\"user.txt\",\"w\")\n",
    "\n",
    "for i in range(10):\n",
    "    user_file.write(\"{}입력\\n\".format(i))\n",
    "\n",
    "user_file.close()"
   ]
  },
  {
   "cell_type": "code",
   "execution_count": 28,
   "id": "b8cb01ac",
   "metadata": {
    "ExecuteTime": {
     "end_time": "2022-09-23T03:02:57.137837Z",
     "start_time": "2022-09-23T03:02:57.128550Z"
    }
   },
   "outputs": [
    {
     "name": "stdout",
     "output_type": "stream",
     "text": [
      "0입력\n",
      "\n",
      "1입력\n",
      "2입력\n",
      "3입력\n",
      "4입력\n",
      "5입력\n",
      "6입력\n",
      "7입력\n",
      "8입력\n",
      "9입력\n",
      "\n"
     ]
    }
   ],
   "source": [
    "f=open(\"user.txt\",\"r\")\n",
    "print(f.readline())\n",
    "print(f.readline().rstrip()) #한라인씩 읽기\n",
    "print(f.read()) #통쨰로 읽어서 문자열반환\n",
    "\n",
    "\n",
    "f.close()"
   ]
  },
  {
   "cell_type": "code",
   "execution_count": 32,
   "id": "ccf97b32",
   "metadata": {
    "ExecuteTime": {
     "end_time": "2022-09-23T03:05:21.850852Z",
     "start_time": "2022-09-23T03:05:21.830818Z"
    }
   },
   "outputs": [
    {
     "name": "stdout",
     "output_type": "stream",
     "text": [
      "0입력\n",
      "1입력\n",
      "2입력\n",
      "3입력\n",
      "4입력\n",
      "5입력\n",
      "6입력\n",
      "7입력\n",
      "8입력\n",
      "9입력\n"
     ]
    }
   ],
   "source": [
    "f=open(\"user.txt\",\"r\")\n",
    "\n",
    "lines=f.readlines()\n",
    "\n",
    "for line in lines:\n",
    "    line=line.rstrip()\n",
    "    print(line)\n",
    "    \n",
    "f.close()"
   ]
  },
  {
   "cell_type": "code",
   "execution_count": null,
   "id": "1857afdc",
   "metadata": {},
   "outputs": [],
   "source": [
    "with open(\"grade_ANSI.txt\",\"r\") as f\n",
    "    lines=f.readlines()\n",
    "    for lines in lines:\n",
    "        line=line.rstrip()\n",
    "        words=line.spliti()\n",
    "        score=list(map(int,words[2:]))\n",
    "        total=0\n",
    "        for scores in scores:\n",
    "            total+=scores\n",
    "        mean=total/len(score)\n",
    "        print(line,end='')\n",
    "        print(\"total={} mean={}\".format(total))\n"
   ]
  }
 ],
 "metadata": {
  "kernelspec": {
   "display_name": "Python 3 (ipykernel)",
   "language": "python",
   "name": "python3"
  },
  "language_info": {
   "codemirror_mode": {
    "name": "ipython",
    "version": 3
   },
   "file_extension": ".py",
   "mimetype": "text/x-python",
   "name": "python",
   "nbconvert_exporter": "python",
   "pygments_lexer": "ipython3",
   "version": "3.10.4"
  }
 },
 "nbformat": 4,
 "nbformat_minor": 5
}
